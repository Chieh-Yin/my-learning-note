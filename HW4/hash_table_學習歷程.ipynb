{
 "cells": [
  {
   "cell_type": "markdown",
   "metadata": {},
   "source": [
    "# [HW4] Hash Table 學習歷程\n",
    "\n",
    "- 參考網站\n",
    "    - https://www.geeksforgeeks.org/md5-hash-python/\n",
    "    - https://blog.gtwang.org/programming/python-md5-sha-hash-functions-tutorial-examples/\n",
    "    - https://www.hackerearth.com/zh/practice/data-structures/hash-tables/basics-of-hash-tables/tutorial/\n",
    "    - https://www.geeksforgeeks.org/hashing-set-1-introduction/\n",
    "---\n",
    "\n",
    "\n",
    "\n",
    "# Hash table 原理\n",
    "## Hash table\n",
    "hash table 是一個資料結構，用來儲存一對 keys & value 。他使用 hash function 將 key 轉換成 array 對應的位置(index) 。而該位置就是用來儲存 value 的。\n",
    "使用的 hash function 好壞是 hash table 關鍵。 在一般情況下，hash table 搜尋特定的物件的時間複雜度平均為 O(1).\n",
    "\n",
    "\n",
    "![](https://upload.wikimedia.org/wikipedia/commons/thumb/7/7d/Hash_table_3_1_1_0_1_0_0_SP.svg/473px-Hash_table_3_1_1_0_1_0_0_SP.svg.png)\n",
    "\n",
    "將特定字串轉換得到特定編號，並存到對應位置的資料結構，hash table 由下列三者組成：\n",
    "\n",
    "- keys\n",
    "  - 作為獨立的索引，通常為字串，也就是應用端輸入的東西。\n",
    "- hash function\n",
    "  - 通過某些算式或是方法，將 keys 轉換成能對應特定的 index 的。\n",
    "  - 他的設計理念是一個key會有對應的且獨立的 bucket，但是目前大多數的設計都會有碰撞問題，也就是不同的 keys 經過轉換後會對應到一樣的 bucket。\n",
    "- bucket\n",
    "  - 他是一個 array ，有多個位置可以儲存資料，在裡面可以是空的可以存一筆資料，甚至也可以放其它資料結構，例如：linked-list\n",
    "\n",
    "## hashing\n",
    "hashing 他是一種在一群體中，辨識特定物件的技術，再現實生活中:\n",
    "1. 在學校裡，每位學生都有特定的編號，這編號可以用來查詢他的相關資料。\n",
    "2. 在圖書館裡，每本書都有一個特別編號，紀錄與該書本相關的資訊，像是類別、借還書資料 之類的...\n",
    "\n",
    "上述兩種情況都會需要有特別編碼(unique number)。簡單來講就是他是一個將 key 轉成 index 的工作。而要如何用程式去實現呢? 我們把輸入值(str)當作 key ，然後透過 MD5 的 hexdigest() 將字串轉換成 16 進位的格式，在透過 hash function 轉換成對應的 index 。\n",
    "\n",
    "> 最簡單的方式就是直接取餘數作為 index\n",
    "```python=\n",
    "hash = hashfunc(key)\n",
    "index = hash % array_size\n",
    "```\n",
    "## Hash function\n",
    "hash function 可以把不規則的資料(像是字串)轉成特定index(在有限的 array_size 下) 然後會存入 hash table。從 hash function 出來的值稱作 hash values、hash codes、hash sums 或是 simply hashes。\n",
    "\n",
    "一個好的 hashing 機制 ，需要一個好的 hash function ，他有以下幾個特點\n",
    "\n",
    "- easy to computing (很好計算): 他不是一個複雜的演算法，必須能夠簡單快速的轉換。\n",
    "\n",
    "- Uniform distribution (均勻分布): 他必須均勻分布，不要只偏向某格群體(index)，這樣會影響 hash table 的效率.\n",
    "\n",
    "- Less collisions (少碰撞):碰撞就是有兩個 key 會對應到同個 hash value(index)，這是要避免的。\n",
    "\n",
    "> Note: 幾乎所有 hash function 都會有碰撞(Collision)問題，所以在做 hash table 時要注意如果發生碰撞要如何處理。\n",
    "## Collision Handling\n",
    "![](https://he-s3.s3.amazonaws.com/media/uploads/2cabd32.jpg)\n",
    "\n",
    "\n",
    "因為 array（容量） 不是無限的， 所以我們要在有限的空間裡，存取特定值。也就是 在我們的 hash table 裡會有 array_size(capacity)，用來限制 array 的大小，那如果不同的字串對應同個 index 依樣怎麼辦?? 也就是同個 key 在hashing 時有衝突(Collision) ，這時就可以使用 linked-List 也就是在hash table 裡面放 linked-List，只要 index 一樣我們就可以把 value 一直往後堆疊在透過在節點裡設置對應的另一個 key 作為辨識，但是當我們的 array_size 太小就會像是 linked-List 了。\n",
    "\n",
    "![](https://he-s3.s3.amazonaws.com/media/uploads/0e2c706.png)\n",
    "\n",
    "- Chaining: 將 hash table 的每個位置插入 linked-List ，但是他會使用更多而外的記憶體。\n",
    "- Open Addressing: 所有物件都存在 hash table 中，也就是不管有幾個物件，每個都直接指派一個 空 index 去存取(key,value)。(類似 python 裡的 dict)\n",
    "\n",
    "![](https://upload.wikimedia.org/wikipedia/commons/thumb/9/90/HASHTB12.svg/543px-HASHTB12.svg.png)\n",
    "\n",
    "---\n",
    "## 助教的範例"
   ]
  },
  {
   "cell_type": "code",
   "execution_count": 77,
   "metadata": {},
   "outputs": [],
   "source": [
    "class ListNode:\n",
    "    def __init__(self, val):\n",
    "        self.val = val\n",
    "        self.next = None\n",
    "        \"\"\"\n",
    "        :type val: int\n",
    "        :type next: ListNode\n",
    "        :rtype: None        \n",
    "        \"\"\"\n",
    "class MyHashSet:\n",
    "    def __init__(self, capacity=5):\n",
    "        self.capacity = capacity\n",
    "        self.data = [None] * capacity\n",
    "        \"\"\"\n",
    "        :type capacity: int\n",
    "        :rtype: None\n",
    "        \"\"\"\n",
    "    def add(self, key):\n",
    "        \"\"\"\n",
    "        :type key: str\n",
    "        :rtype: None\n",
    "        \"\"\"\n",
    "    def remove(self, key):\n",
    "        \"\"\"\n",
    "        :type key: str\n",
    "        :rtype: None\n",
    "        \"\"\"\n",
    "    def contains(self, key):\n",
    "        \"\"\"\n",
    "        :type key: str\n",
    "        :rtype: bool(True or False)\n",
    "        \"\"\""
   ]
  },
  {
   "cell_type": "markdown",
   "metadata": {},
   "source": [
    "## step1: 實現加密&解密\n",
    "\n",
    "我們這邊是使用 Crypto 這個模組實現"
   ]
  },
  {
   "cell_type": "code",
   "execution_count": 78,
   "metadata": {
    "scrolled": false
   },
   "outputs": [
    {
     "name": "stdout",
     "output_type": "stream",
     "text": [
      "utf-8 :  b'dog'\n",
      "十六進位:  06d80eb0c50b49a509b49f2424e8c805\n",
      "十六進位:  9097202055026264535080901219663267845\n"
     ]
    }
   ],
   "source": [
    "from Crypto.Hash import MD5\n",
    "\n",
    "text = 'dog'\n",
    "h = MD5.new()\n",
    "h.update(text.encode(\"utf-8\"))\n",
    "\n",
    "print(\"utf-8 : \", text.encode(\"utf-8\"))\n",
    "print(\"十六進位: \",h.hexdigest())\n",
    "print(\"十六進位: \",int(h.hexdigest(),16))"
   ]
  },
  {
   "cell_type": "markdown",
   "metadata": {},
   "source": [
    "### >> 測試"
   ]
  },
  {
   "cell_type": "code",
   "execution_count": 79,
   "metadata": {},
   "outputs": [],
   "source": [
    "class MyHashSet:\n",
    "    def encrypt(self, text):\n",
    "        h = MD5.new()\n",
    "        h.update(text.encode(\"utf-8\"))\n",
    "        num = int(h.hexdigest(),16)\n",
    "        return num"
   ]
  },
  {
   "cell_type": "code",
   "execution_count": 80,
   "metadata": {},
   "outputs": [
    {
     "data": {
      "text/plain": [
       "166030900866002996986398865666464337854"
      ]
     },
     "execution_count": 80,
     "metadata": {},
     "output_type": "execute_result"
    }
   ],
   "source": [
    "obj = MyHashSet()\n",
    "obj.encrypt('lo')"
   ]
  },
  {
   "cell_type": "markdown",
   "metadata": {},
   "source": [
    "## step2: 建立Hash table 與 搜尋功能\n",
    "因為之後的三個 function 都會需要去 hash table 找尋特定值，所以我需要先建立一個大家都可以使用的管道，方便後續使用。我的 search 可以依據編碼後的文字去我的資料結構裡面找尋對應的 key ，如果有的話返回節點。\n",
    "\n",
    "我這邊使用 double linked-List，作為結構，因為這樣在之後的 remove 動作會更加方便。"
   ]
  },
  {
   "cell_type": "code",
   "execution_count": 81,
   "metadata": {},
   "outputs": [],
   "source": [
    "from Crypto.Hash import MD5\n",
    "\n",
    "class ListNode(object):\n",
    "    def __init__(self, val):\n",
    "        self.val = val\n",
    "        self.next = None\n",
    "        self.pre = None\n",
    "        \n",
    "class MyHashSet:\n",
    "    def __init__(self, capacity=5):\n",
    "        self.capacity = capacity\n",
    "        self.data = [None] * capacity\n",
    "    \n",
    "    def encrypt(self, text):\n",
    "        h = MD5.new()\n",
    "        h.update(text.encode(\"utf-8\"))\n",
    "        num = int(h.hexdigest(),16)\n",
    "        return num\n",
    "    \n",
    "    def search(self, text):\n",
    "        num = self.encrypt(text)\n",
    "        idx = num%self.capacity\n",
    "        cur = self.data[idx]\n",
    "        if cur == None:\n",
    "            return False\n",
    "        elif cur.val == num :\n",
    "            return cur\n",
    "        else:\n",
    "            while cur.next is not None:\n",
    "                if cur.val == num:\n",
    "                    return num\n",
    "                cur = cur.next\n",
    "            return False\n",
    "        "
   ]
  },
  {
   "cell_type": "markdown",
   "metadata": {},
   "source": [
    "### >> 測試"
   ]
  },
  {
   "cell_type": "code",
   "execution_count": 82,
   "metadata": {},
   "outputs": [
    {
     "name": "stdout",
     "output_type": "stream",
     "text": [
      "12707736894140473154801792860916528374\n"
     ]
    }
   ],
   "source": [
    "obj = MyHashSet()\n",
    "num = obj.encrypt('test')\n",
    "obj.data[num%5] = ListNode(num)\n",
    "print(num)"
   ]
  },
  {
   "cell_type": "code",
   "execution_count": 83,
   "metadata": {},
   "outputs": [
    {
     "data": {
      "text/plain": [
       "<__main__.ListNode at 0x1e75a05acc8>"
      ]
     },
     "execution_count": 83,
     "metadata": {},
     "output_type": "execute_result"
    }
   ],
   "source": [
    "obj.search('test')"
   ]
  },
  {
   "cell_type": "markdown",
   "metadata": {},
   "source": [
    "## step3 : 新增 add\n",
    "\n",
    "在 add 時就要把 double linked-List 的前後關係建立，也就是說只要透過我的 ListNode 和 add() 就可以將資料已 double linked-list 的形式存在 hash table 上，這樣我在 search 時可以更加自由的前後走動。"
   ]
  },
  {
   "cell_type": "code",
   "execution_count": 84,
   "metadata": {},
   "outputs": [],
   "source": [
    "from Crypto.Hash import MD5\n",
    "\n",
    "class ListNode(object):\n",
    "    def __init__(self, val):\n",
    "        self.val = val\n",
    "        self.next = None\n",
    "        self.pre = None\n",
    "        \n",
    "class MyHashSet:\n",
    "    def __init__(self, capacity=5):\n",
    "        self.capacity = capacity\n",
    "        self.data = [None] * capacity\n",
    "    \n",
    "    def encrypt(self, text):\n",
    "        h = MD5.new()\n",
    "        h.update(text.encode(\"utf-8\"))\n",
    "        num = int(h.hexdigest(),16)\n",
    "        return num\n",
    "    \n",
    "    def search(self, text):\n",
    "        num = self.encrypt(text)\n",
    "        idx = num%self.capacity\n",
    "        cur = self.data[idx]\n",
    "        if cur == None:\n",
    "            return False\n",
    "        elif cur.val == num:\n",
    "            return cur\n",
    "        else:\n",
    "            while cur.next is not None:\n",
    "                if cur.val == num:\n",
    "                    return num\n",
    "                cur = cur.next\n",
    "            return False\n",
    "        \n",
    "    def add(self, key):\n",
    "        if self.search(key) == False:\n",
    "            num = self.encrypt(key)\n",
    "            idx = num%self.capacity\n",
    "            cur = self.data[idx]\n",
    "            new = ListNode(num)\n",
    "            if cur == None:\n",
    "                self.data[idx] = ListNode(num)\n",
    "            else:\n",
    "                new.next = self.data[idx]\n",
    "                self.data[idx].pre = new\n",
    "                self.data[idx] = new           \n",
    "        else:\n",
    "            pass\n",
    "        "
   ]
  },
  {
   "cell_type": "markdown",
   "metadata": {},
   "source": [
    "### >> 測試"
   ]
  },
  {
   "cell_type": "code",
   "execution_count": 85,
   "metadata": {},
   "outputs": [
    {
     "data": {
      "text/plain": [
       "[None, None, <__main__.ListNode at 0x1e75a04e948>, None, None]"
      ]
     },
     "execution_count": 85,
     "metadata": {},
     "output_type": "execute_result"
    }
   ],
   "source": [
    "obj = MyHashSet()\n",
    "obj.add('rr')\n",
    "obj.data"
   ]
  },
  {
   "cell_type": "code",
   "execution_count": 86,
   "metadata": {
    "scrolled": true
   },
   "outputs": [
    {
     "data": {
      "text/plain": [
       "True"
      ]
     },
     "execution_count": 86,
     "metadata": {},
     "output_type": "execute_result"
    }
   ],
   "source": [
    "obj.search('rr').val== obj.encrypt('rr')"
   ]
  },
  {
   "cell_type": "markdown",
   "metadata": {},
   "source": [
    "## step4 : 新增 remove "
   ]
  },
  {
   "cell_type": "code",
   "execution_count": 87,
   "metadata": {},
   "outputs": [],
   "source": [
    "from Crypto.Hash import MD5\n",
    "\n",
    "class ListNode(object):\n",
    "    def __init__(self, val):\n",
    "        self.val = val\n",
    "        self.next = None\n",
    "        self.pre = None\n",
    "        \n",
    "class MyHashSet:\n",
    "    def __init__(self, capacity=5):\n",
    "        self.capacity = capacity\n",
    "        self.data = [None] * capacity\n",
    "    \n",
    "    def encrypt(self, text):\n",
    "        h = MD5.new()\n",
    "        h.update(text.encode(\"utf-8\"))\n",
    "        num = int(h.hexdigest(),16)\n",
    "        return num\n",
    "    \n",
    "    def search(self, text):\n",
    "        num = self.encrypt(text)\n",
    "        idx = num%self.capacity\n",
    "        cur = self.data[idx]\n",
    "        if cur is None:\n",
    "            return False\n",
    "        elif cur.val == num:\n",
    "            return cur\n",
    "        else:\n",
    "            while cur.next is not None:\n",
    "                if cur.val == num:\n",
    "                    return num\n",
    "                cur = cur.next\n",
    "            return False\n",
    "        \n",
    "    def add(self, key):\n",
    "        if self.search(key) is  False:\n",
    "            num = self.encrypt(key)\n",
    "            idx = num%self.capacity\n",
    "            cur = self.data[idx]\n",
    "            new = ListNode(num)\n",
    "            if cur is None:\n",
    "                self.data[idx] = ListNode(num)\n",
    "            else:\n",
    "                new.next = self.data[idx]\n",
    "                self.data[idx].pre = new\n",
    "                self.data[idx] = new           \n",
    "        else:\n",
    "            pass\n",
    "        \n",
    "    def remove(self, key):\n",
    "        num = self.encrypt(key)\n",
    "        idx = num%self.capacity\n",
    "        target = self.search(key)\n",
    "        if target is not False:\n",
    "            parent = target.pre\n",
    "            child = target.next\n",
    "            if parent is None:\n",
    "                self.data[idx] = child\n",
    "                if child is not None : child.pre = None\n",
    "            else:\n",
    "                parent.next = child\n",
    "                child.pre = parent\n",
    "        else:\n",
    "            print('no target !')\n",
    "            pass\n",
    "        "
   ]
  },
  {
   "cell_type": "markdown",
   "metadata": {},
   "source": [
    "### >> 測試"
   ]
  },
  {
   "cell_type": "code",
   "execution_count": 88,
   "metadata": {},
   "outputs": [],
   "source": [
    "obj = MyHashSet()\n",
    "obj.add('rr')"
   ]
  },
  {
   "cell_type": "code",
   "execution_count": 89,
   "metadata": {
    "scrolled": true
   },
   "outputs": [
    {
     "data": {
      "text/plain": [
       "108078212093034487509369311540260148942"
      ]
     },
     "execution_count": 89,
     "metadata": {},
     "output_type": "execute_result"
    }
   ],
   "source": [
    "obj.search('rr').val"
   ]
  },
  {
   "cell_type": "code",
   "execution_count": 90,
   "metadata": {},
   "outputs": [
    {
     "data": {
      "text/plain": [
       "[None, None, <__main__.ListNode at 0x1e75a071848>, None, None]"
      ]
     },
     "execution_count": 90,
     "metadata": {},
     "output_type": "execute_result"
    }
   ],
   "source": [
    "obj.data"
   ]
  },
  {
   "cell_type": "code",
   "execution_count": 91,
   "metadata": {},
   "outputs": [
    {
     "name": "stdout",
     "output_type": "stream",
     "text": [
      "no target !\n"
     ]
    }
   ],
   "source": [
    "obj.remove('aa')"
   ]
  },
  {
   "cell_type": "code",
   "execution_count": 72,
   "metadata": {},
   "outputs": [],
   "source": [
    "obj.remove('rr')"
   ]
  },
  {
   "cell_type": "code",
   "execution_count": 73,
   "metadata": {},
   "outputs": [
    {
     "data": {
      "text/plain": [
       "False"
      ]
     },
     "execution_count": 73,
     "metadata": {},
     "output_type": "execute_result"
    }
   ],
   "source": [
    "obj.search('rr')"
   ]
  },
  {
   "cell_type": "code",
   "execution_count": 74,
   "metadata": {},
   "outputs": [
    {
     "data": {
      "text/plain": [
       "[None, None, None, None, None]"
      ]
     },
     "execution_count": 74,
     "metadata": {},
     "output_type": "execute_result"
    }
   ],
   "source": [
    "obj.data"
   ]
  },
  {
   "cell_type": "markdown",
   "metadata": {},
   "source": [
    "## step5 : 新增  contains"
   ]
  },
  {
   "cell_type": "code",
   "execution_count": 7,
   "metadata": {},
   "outputs": [],
   "source": [
    "from Crypto.Hash import MD5\n",
    "\n",
    "class ListNode(object):\n",
    "    def __init__(self, val):\n",
    "        self.val = val\n",
    "        self.next = None\n",
    "        self.pre = None\n",
    "        \n",
    "class MyHashSet:\n",
    "    def __init__(self, capacity=5):\n",
    "        self.capacity = capacity\n",
    "        self.data = [None] * capacity\n",
    "    \n",
    "    def encrypt(self, text):\n",
    "        h = MD5.new()\n",
    "        h.update(text.encode(\"utf-8\"))\n",
    "        num = int(h.hexdigest(),16)\n",
    "        return num\n",
    "    \n",
    "    def search(self, text):\n",
    "        num = self.encrypt(text)\n",
    "        idx = num%self.capacity\n",
    "        cur = self.data[idx]\n",
    "        if cur is None:\n",
    "            return False\n",
    "        elif cur.val == num:\n",
    "            return cur\n",
    "        else:\n",
    "            while cur.next is not None:\n",
    "                if cur.val == num:\n",
    "                    return num\n",
    "                cur = cur.next\n",
    "            return False\n",
    "        \n",
    "    def add(self, key):\n",
    "        if self.search(key) is  False:\n",
    "            num = self.encrypt(key)\n",
    "            idx = num%self.capacity\n",
    "            cur = self.data[idx]\n",
    "            new = ListNode(num)\n",
    "            if cur is None:\n",
    "                self.data[idx] = ListNode(num)\n",
    "            else:\n",
    "                new.next = self.data[idx]\n",
    "                self.data[idx].pre = new\n",
    "                self.data[idx] = new           \n",
    "        else:\n",
    "            print('already in hash table!')\n",
    "            pass\n",
    "        \n",
    "    def remove(self, key):\n",
    "        num = self.encrypt(key)\n",
    "        idx = num%self.capacity\n",
    "        target = self.search(key)\n",
    "        if target is not False:\n",
    "            parent = target.pre\n",
    "            child = target.next\n",
    "            if parent is None:\n",
    "                self.data[idx] = child\n",
    "                if child is not None : child.pre = None\n",
    "            else:\n",
    "                parent.next = child\n",
    "                child.pre = parent\n",
    "        else:\n",
    "            print('no target !')\n",
    "            pass\n",
    "        \n",
    "    def contains(self, key):\n",
    "        target = self.search(key)\n",
    "        if target is not False:\n",
    "            return True\n",
    "        else:\n",
    "            return False"
   ]
  },
  {
   "cell_type": "code",
   "execution_count": 8,
   "metadata": {},
   "outputs": [
    {
     "name": "stdout",
     "output_type": "stream",
     "text": [
      "True\n",
      "True\n",
      "False\n",
      "True\n",
      "False\n"
     ]
    }
   ],
   "source": [
    "obj = MyHashSet()\n",
    "obj.add(\"dog\")\n",
    "obj.add(\"pig\")\n",
    "rel = obj.contains(\"pig\")\n",
    "print(rel)\n",
    "rel = obj.contains(\"dog\")\n",
    "print(rel)\n",
    "rel = obj.contains(\"cat\")\n",
    "print(rel)\n",
    "obj.add(\"bird\")\n",
    "rel = obj.contains(\"bird\")\n",
    "print(rel)\n",
    "obj.remove(\"pig\")\n",
    "rel = obj.contains(\"pig\")\n",
    "print(rel)"
   ]
  },
  {
   "cell_type": "code",
   "execution_count": 17,
   "metadata": {},
   "outputs": [
    {
     "name": "stdout",
     "output_type": "stream",
     "text": [
      "already in hash table!\n",
      "already in hash table!\n",
      "[None, None, <__main__.ListNode object at 0x000001518EEC4F88>, None, None]\n",
      "True\n",
      "False\n",
      "no target !\n",
      "[None, None, None, None, None]\n"
     ]
    }
   ],
   "source": [
    "obj = MyHashSet()\n",
    "obj.add(\"pig\")\n",
    "obj.add(\"pig\")\n",
    "obj.add(\"pig\")\n",
    "print(obj.data)\n",
    "rel = obj.contains(\"pig\")\n",
    "print(rel)\n",
    "obj.remove(\"pig\")\n",
    "rel = obj.contains(\"pig\")\n",
    "print(rel)\n",
    "obj.remove(\"p\")\n",
    "print(obj.data)"
   ]
  },
  {
   "cell_type": "code",
   "execution_count": 22,
   "metadata": {},
   "outputs": [
    {
     "name": "stdout",
     "output_type": "stream",
     "text": [
      "[None, <__main__.ListNode object at 0x0000015190E35788>, <__main__.ListNode object at 0x0000015190E35648>, None, <__main__.ListNode object at 0x0000015190E35748>]\n",
      "True\n",
      "False\n",
      "[None, None, None, None, <__main__.ListNode object at 0x0000015190E35748>]\n",
      "True\n"
     ]
    }
   ],
   "source": [
    "obj = MyHashSet()\n",
    "obj.add(\"pig\")\n",
    "obj.add(\"pi\")\n",
    "obj.add(\"p\")\n",
    "print(obj.data)\n",
    "print(obj.contains(\"pig\"))\n",
    "obj.remove(\"pig\")\n",
    "print(obj.contains(\"pig\"))\n",
    "obj.remove(\"p\")\n",
    "print(obj.data)\n",
    "print(obj.contains(\"pi\"))"
   ]
  },
  {
   "cell_type": "code",
   "execution_count": null,
   "metadata": {},
   "outputs": [],
   "source": []
  }
 ],
 "metadata": {
  "kernelspec": {
   "display_name": "Python 3",
   "language": "python",
   "name": "python3"
  },
  "language_info": {
   "codemirror_mode": {
    "name": "ipython",
    "version": 3
   },
   "file_extension": ".py",
   "mimetype": "text/x-python",
   "name": "python",
   "nbconvert_exporter": "python",
   "pygments_lexer": "ipython3",
   "version": "3.7.4"
  }
 },
 "nbformat": 4,
 "nbformat_minor": 2
}
