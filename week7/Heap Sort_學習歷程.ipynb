{
 "cells": [
  {
   "cell_type": "markdown",
   "metadata": {},
   "source": [
    "# [HW2] Heap Sort 學習歷程\n",
    "- 參考網站\n",
    "    - [hackerearth](https://www.hackerearth.com/zh/practice/algorithms/sorting/heap-sort/tutorial/) >>> 主要看流程圖，但不太明白它的array 為何要空一個 index[0]。\n",
    "    - [geeksforgeeks](https://www.geeksforgeeks.org/heap-sort/) >>> 簡單說明，有影片，有範例程式碼(但是我先自己試試看)\n",
    "\n",
    "---\n",
    "##  Try\n",
    "\n",
    "在看完 Heap Sort 的影片和一些 Heap Sort 的基本架構後，我想要先試著寫寫看，於是我造著在 geeksforgeeks 裡面提到三個步驟:\n",
    "\n",
    "* **step 1** : 將 input 的 array 依造 heap 讀資料結構處理成 max heap 的形式。\n",
    "\n",
    "* **step 2** : 這時候 root 值為 Max。root 與最後一個作交換 ，然後把 heap 的大小-1(以 array 的角度，就是將限制 haep 的index往左移，將以排序值排除在 heap 外。\n",
    "\n",
    "* **step 3** : 重複上面的步驟直到 heap 只剩一個 element 。\n",
    "\n",
    "### >>首先我要將 heap 中 父節點 & 左右子節點 的關係作出來\n",
    "\n",
    "假設index 從0開始，父節點在 index=a 的位置則，Heap 與 array 的 index 有以下關係:\n",
    "\n",
    "- `左子節點 = 2a + 1`\n",
    "- `右子節點 = 2a + 2`\n",
    "\n",
    "所以，我先弄一個可以拿到子節點index:"
   ]
  },
  {
   "cell_type": "code",
   "execution_count": 3,
   "metadata": {},
   "outputs": [],
   "source": [
    "def get_child(parent):\n",
    "        return {'left':2*parent+1,'right':2*parent+2}"
   ]
  },
  {
   "cell_type": "code",
   "execution_count": 4,
   "metadata": {
    "scrolled": true
   },
   "outputs": [
    {
     "name": "stdout",
     "output_type": "stream",
     "text": [
      "0 的左子樹: 1\n",
      "0 的右子樹: 2\n"
     ]
    }
   ],
   "source": [
    "# 測試一下\n",
    "print('0 的左子樹: {}'.format(get_child(0)['left']))\n",
    "print('0 的右子樹: {}'.format(get_child(0)['right']))"
   ]
  },
  {
   "cell_type": "markdown",
   "metadata": {},
   "source": [
    "### >>接著我要將 input 的 array，轉換成 max heap 的形式\n",
    "透過一個迴圈遍歷input，確保每個父節點皆大於他的子節點，假如他有子節點的話。"
   ]
  },
  {
   "cell_type": "code",
   "execution_count": 7,
   "metadata": {},
   "outputs": [],
   "source": [
    "def max_heap(input_):\n",
    "    left = 0 #預設 left\n",
    "    right = 0 #預設 right   \n",
    "    for i in range(len(input_)):\n",
    "        left = get_child(i)['left']\n",
    "        right = get_child(i)['right']\n",
    "        if (len(input_) > left)&(len(input_)>right): # left & right 兩者的 index 沒超出 array\n",
    "            #print(i)\n",
    "            if (input_[i]>input_[left]) & (input_[i]>input_[right]): # 當負節點最大時，直接跳過\n",
    "                continue\n",
    "            elif (input_[right]<input_[left])&(input_[left]>input_[i]): #當左節點最大，將其與父節點交換。\n",
    "                input_[i],input_[left] = input_[left],input_[i]\n",
    "            else:\n",
    "                input_[i],input_[right] = input_[left],input_[right]\n",
    "                        "
   ]
  },
  {
   "cell_type": "code",
   "execution_count": 8,
   "metadata": {
    "scrolled": true
   },
   "outputs": [
    {
     "data": {
      "text/plain": [
       "[5, 7, 3, 1, 2]"
      ]
     },
     "execution_count": 8,
     "metadata": {},
     "output_type": "execute_result"
    }
   ],
   "source": [
    "a=[1,5,3,7,2]\n",
    "max_heap(a)\n",
    "a"
   ]
  },
  {
   "cell_type": "markdown",
   "metadata": {},
   "source": [
    "跟原本想的不太一樣..."
   ]
  },
  {
   "cell_type": "markdown",
   "metadata": {},
   "source": [
    "## Try again"
   ]
  },
  {
   "cell_type": "markdown",
   "metadata": {},
   "source": [
    "之後我發現，我這樣的做法在同一層可行，但是如果跨兩層就有問題了。因為有可能極大值在 heap 的偏下面沒辦法一次就換到 root，必須重最下面開始確保父節點已經大於子節點`於是我換成從最後一層開始排，也就是倒著遍歷。`"
   ]
  },
  {
   "cell_type": "code",
   "execution_count": 9,
   "metadata": {},
   "outputs": [],
   "source": [
    "def max_heap(input_,size):\n",
    "    for i in range(size-1,-1,-1):\n",
    "        left = get_child(i)['left']\n",
    "        right = get_child(i)['right']\n",
    "        #print(i,left,right) 檢查用\n",
    "        \n",
    "        if (size<=left): # left 的 index 超出 array\n",
    "            continue\n",
    "        elif (size<right): # right 的 index 超出 array，但是left 沒有\n",
    "            if input_[left]>input_[i]:\n",
    "                input_[i],input_[left] = input_[left],input_[i]\n",
    "        else:\n",
    "            if (input_[i]>input_[left]) & (input_[i]>input_[right]): # 當負節點最大時，直接跳過\n",
    "                continue\n",
    "            elif (input_[right]<input_[left])&(input_[left]>input_[i]): #當左節點最大，將其與父節點交換。\n",
    "                input_[i],input_[left] = input_[left],input_[i]\n",
    "            else:  \n",
    "                input_[i],input_[right] = input_[right],input_[i]                          "
   ]
  },
  {
   "cell_type": "code",
   "execution_count": 10,
   "metadata": {},
   "outputs": [
    {
     "data": {
      "text/plain": [
       "[7, 1, 3, 5, 2]"
      ]
     },
     "execution_count": 10,
     "metadata": {},
     "output_type": "execute_result"
    }
   ],
   "source": [
    "a=[1,5,3,7,2]\n",
    "max_heap(a,len(a))\n",
    "a"
   ]
  },
  {
   "cell_type": "code",
   "execution_count": 11,
   "metadata": {},
   "outputs": [
    {
     "ename": "IndexError",
     "evalue": "list index out of range",
     "output_type": "error",
     "traceback": [
      "\u001b[1;31m---------------------------------------------------------------------------\u001b[0m",
      "\u001b[1;31mIndexError\u001b[0m                                Traceback (most recent call last)",
      "\u001b[1;32m<ipython-input-11-082f17d13321>\u001b[0m in \u001b[0;36m<module>\u001b[1;34m\u001b[0m\n\u001b[0;32m      1\u001b[0m \u001b[0ma\u001b[0m\u001b[1;33m=\u001b[0m\u001b[1;33m[\u001b[0m\u001b[1;36m2\u001b[0m\u001b[1;33m,\u001b[0m\u001b[1;36m1\u001b[0m\u001b[1;33m,\u001b[0m\u001b[1;36m3\u001b[0m\u001b[1;33m,\u001b[0m\u001b[1;36m5\u001b[0m\u001b[1;33m]\u001b[0m\u001b[1;33m\u001b[0m\u001b[1;33m\u001b[0m\u001b[0m\n\u001b[1;32m----> 2\u001b[1;33m \u001b[0mmax_heap\u001b[0m\u001b[1;33m(\u001b[0m\u001b[0ma\u001b[0m\u001b[1;33m,\u001b[0m\u001b[0mlen\u001b[0m\u001b[1;33m(\u001b[0m\u001b[0ma\u001b[0m\u001b[1;33m)\u001b[0m\u001b[1;33m)\u001b[0m\u001b[1;33m\u001b[0m\u001b[1;33m\u001b[0m\u001b[0m\n\u001b[0m\u001b[0;32m      3\u001b[0m \u001b[0ma\u001b[0m\u001b[1;33m\u001b[0m\u001b[1;33m\u001b[0m\u001b[0m\n",
      "\u001b[1;32m<ipython-input-9-dc6d71589d9b>\u001b[0m in \u001b[0;36mmax_heap\u001b[1;34m(input_, size)\u001b[0m\n\u001b[0;32m     11\u001b[0m                 \u001b[0minput_\u001b[0m\u001b[1;33m[\u001b[0m\u001b[0mi\u001b[0m\u001b[1;33m]\u001b[0m\u001b[1;33m,\u001b[0m\u001b[0minput_\u001b[0m\u001b[1;33m[\u001b[0m\u001b[0mleft\u001b[0m\u001b[1;33m]\u001b[0m \u001b[1;33m=\u001b[0m \u001b[0minput_\u001b[0m\u001b[1;33m[\u001b[0m\u001b[0mleft\u001b[0m\u001b[1;33m]\u001b[0m\u001b[1;33m,\u001b[0m\u001b[0minput_\u001b[0m\u001b[1;33m[\u001b[0m\u001b[0mi\u001b[0m\u001b[1;33m]\u001b[0m\u001b[1;33m\u001b[0m\u001b[1;33m\u001b[0m\u001b[0m\n\u001b[0;32m     12\u001b[0m         \u001b[1;32melse\u001b[0m\u001b[1;33m:\u001b[0m\u001b[1;33m\u001b[0m\u001b[1;33m\u001b[0m\u001b[0m\n\u001b[1;32m---> 13\u001b[1;33m             \u001b[1;32mif\u001b[0m \u001b[1;33m(\u001b[0m\u001b[0minput_\u001b[0m\u001b[1;33m[\u001b[0m\u001b[0mi\u001b[0m\u001b[1;33m]\u001b[0m\u001b[1;33m>\u001b[0m\u001b[0minput_\u001b[0m\u001b[1;33m[\u001b[0m\u001b[0mleft\u001b[0m\u001b[1;33m]\u001b[0m\u001b[1;33m)\u001b[0m \u001b[1;33m&\u001b[0m \u001b[1;33m(\u001b[0m\u001b[0minput_\u001b[0m\u001b[1;33m[\u001b[0m\u001b[0mi\u001b[0m\u001b[1;33m]\u001b[0m\u001b[1;33m>\u001b[0m\u001b[0minput_\u001b[0m\u001b[1;33m[\u001b[0m\u001b[0mright\u001b[0m\u001b[1;33m]\u001b[0m\u001b[1;33m)\u001b[0m\u001b[1;33m:\u001b[0m \u001b[1;31m# 當負節點最大時，直接跳過\u001b[0m\u001b[1;33m\u001b[0m\u001b[1;33m\u001b[0m\u001b[0m\n\u001b[0m\u001b[0;32m     14\u001b[0m                 \u001b[1;32mcontinue\u001b[0m\u001b[1;33m\u001b[0m\u001b[1;33m\u001b[0m\u001b[0m\n\u001b[0;32m     15\u001b[0m             \u001b[1;32melif\u001b[0m \u001b[1;33m(\u001b[0m\u001b[0minput_\u001b[0m\u001b[1;33m[\u001b[0m\u001b[0mright\u001b[0m\u001b[1;33m]\u001b[0m\u001b[1;33m<\u001b[0m\u001b[0minput_\u001b[0m\u001b[1;33m[\u001b[0m\u001b[0mleft\u001b[0m\u001b[1;33m]\u001b[0m\u001b[1;33m)\u001b[0m\u001b[1;33m&\u001b[0m\u001b[1;33m(\u001b[0m\u001b[0minput_\u001b[0m\u001b[1;33m[\u001b[0m\u001b[0mleft\u001b[0m\u001b[1;33m]\u001b[0m\u001b[1;33m>\u001b[0m\u001b[0minput_\u001b[0m\u001b[1;33m[\u001b[0m\u001b[0mi\u001b[0m\u001b[1;33m]\u001b[0m\u001b[1;33m)\u001b[0m\u001b[1;33m:\u001b[0m \u001b[1;31m#當左節點最大，將其與父節點交換。\u001b[0m\u001b[1;33m\u001b[0m\u001b[1;33m\u001b[0m\u001b[0m\n",
      "\u001b[1;31mIndexError\u001b[0m: list index out of range"
     ]
    }
   ],
   "source": [
    "a=[2,1,3,5]\n",
    "max_heap(a,len(a))\n",
    "a"
   ]
  },
  {
   "cell_type": "markdown",
   "metadata": {},
   "source": [
    "## Try again and again"
   ]
  },
  {
   "cell_type": "markdown",
   "metadata": {},
   "source": [
    "第一次對了，可是試第二個較短的 array 居然錯了!!!\n",
    "\n",
    "後來我發現是在 `elif 那邊條件少一個 =` ，導致 heap 的最尾端只有左子節點的話會 miss 掉跑到else 去。"
   ]
  },
  {
   "cell_type": "code",
   "execution_count": 12,
   "metadata": {},
   "outputs": [],
   "source": [
    "def max_heap(input_,size):\n",
    "    for i in range(size-1,-1,-1):\n",
    "        left = get_child(i)['left']\n",
    "        right = get_child(i)['right']\n",
    "        #print(i,left,right) 檢查用\n",
    "        \n",
    "        if (size<=left): # left 的 index 超出 array\n",
    "            continue\n",
    "        elif (size<=right): # right 的 index 超出 array，但是left 沒有\n",
    "            if input_[left]>input_[i]:\n",
    "                input_[i],input_[left] = input_[left],input_[i]\n",
    "        else:\n",
    "            if (input_[i]>input_[left]) & (input_[i]>input_[right]): # 當負節點最大時，直接跳過\n",
    "                continue\n",
    "            elif (input_[right]<input_[left])&(input_[left]>input_[i]): #當左節點最大，將其與父節點交換。\n",
    "                input_[i],input_[left] = input_[left],input_[i]\n",
    "            else:  \n",
    "                input_[i],input_[right] = input_[right],input_[i]  "
   ]
  },
  {
   "cell_type": "code",
   "execution_count": 13,
   "metadata": {},
   "outputs": [
    {
     "data": {
      "text/plain": [
       "[7, 1, 3, 5, 2]"
      ]
     },
     "execution_count": 13,
     "metadata": {},
     "output_type": "execute_result"
    }
   ],
   "source": [
    "a=[1,5,3,7,2]\n",
    "max_heap(a,len(a))\n",
    "a"
   ]
  },
  {
   "cell_type": "code",
   "execution_count": 14,
   "metadata": {},
   "outputs": [
    {
     "data": {
      "text/plain": [
       "[5, 2, 3, 1]"
      ]
     },
     "execution_count": 14,
     "metadata": {},
     "output_type": "execute_result"
    }
   ],
   "source": [
    "a=[2,1,3,5]\n",
    "max_heap(a,len(a))\n",
    "a"
   ]
  },
  {
   "cell_type": "code",
   "execution_count": 15,
   "metadata": {},
   "outputs": [
    {
     "data": {
      "text/plain": [
       "[3, 2, 1]"
      ]
     },
     "execution_count": 15,
     "metadata": {},
     "output_type": "execute_result"
    }
   ],
   "source": [
    "a=[1,2,3]\n",
    "max_heap(a,len(a))\n",
    "a"
   ]
  },
  {
   "cell_type": "code",
   "execution_count": 16,
   "metadata": {},
   "outputs": [
    {
     "data": {
      "text/plain": [
       "[2, 1]"
      ]
     },
     "execution_count": 16,
     "metadata": {},
     "output_type": "execute_result"
    }
   ],
   "source": [
    "a=[1,2]\n",
    "max_heap(a,len(a))\n",
    "a"
   ]
  },
  {
   "cell_type": "markdown",
   "metadata": {},
   "source": [
    "終於成功了!!! 中間因為邏輯不太對，改了好幾次。怕後面還有bug 所以我多試幾次。\n",
    "\n",
    "我覺得之後會需要限制 heap，`所以我將 len(input) 換成可變動的 size`，也就是呼叫heapsort 我可以把長度限制在 size下。\n",
    "\n",
    "### >> 緊接著就是把已經為最大值的 root 掉到最後面，然後限制 heap 的大小(其實已排序的值還在array，只是限制了index)"
   ]
  },
  {
   "cell_type": "code",
   "execution_count": 17,
   "metadata": {},
   "outputs": [],
   "source": [
    "def heap_sort(input):\n",
    "    size = len(input)\n",
    "    while size>1:\n",
    "        max_heap(input,size)\n",
    "        input[0],input[size-1] = input[size-1],input[0]\n",
    "        size-=1\n",
    "    "
   ]
  },
  {
   "cell_type": "code",
   "execution_count": 18,
   "metadata": {},
   "outputs": [
    {
     "data": {
      "text/plain": [
       "[1, 2, 3, 5, 7]"
      ]
     },
     "execution_count": 18,
     "metadata": {},
     "output_type": "execute_result"
    }
   ],
   "source": [
    "input = [1,5,3,7,2]\n",
    "heap_sort(input)\n",
    "input"
   ]
  },
  {
   "cell_type": "markdown",
   "metadata": {},
   "source": [
    "這邊比較容易，一次就達成了!!!"
   ]
  },
  {
   "cell_type": "markdown",
   "metadata": {},
   "source": [
    "### >> 最後把所有零件都組起來~ 在寫成 class 的形式\n"
   ]
  },
  {
   "cell_type": "code",
   "execution_count": 20,
   "metadata": {},
   "outputs": [],
   "source": [
    "class Solution(object):\n",
    "    def get_child(self,parent):\n",
    "            return {'left':2*parent+1,'right':2*parent+2}\n",
    "    def max_heap(self,input_,size):\n",
    "        for i in range(size-1,-1,-1):\n",
    "            left = self.get_child(i)['left']\n",
    "            right = self.get_child(i)['right']\n",
    "            #print(i,left,right) 檢查用\n",
    "\n",
    "            if (size<=left): # left 的 index 超出 array\n",
    "                continue\n",
    "            elif (size<=right): # right 的 index 超出 array，但是left 沒有\n",
    "                if input_[left]>input_[i]:\n",
    "                    input_[i],input_[left] = input_[left],input_[i]\n",
    "            else:\n",
    "                if (input_[i]>input_[left]) & (input_[i]>input_[right]): # 當負節點最大時，直接跳過\n",
    "                    continue\n",
    "                elif (input_[right]<input_[left])&(input_[left]>input_[i]): #當左節點最大，將其與父節點交換。\n",
    "                    input_[i],input_[left] = input_[left],input_[i]\n",
    "                else:  \n",
    "                    input_[i],input_[right] = input_[right],input_[i]  \n",
    "    def heap_sort(self,input):\n",
    "        size = len(input)\n",
    "        while size>1:\n",
    "            self.max_heap(input,size)\n",
    "            input[0],input[size-1] = input[size-1],input[0]\n",
    "            size-=1"
   ]
  },
  {
   "cell_type": "markdown",
   "metadata": {},
   "source": [
    "# Test"
   ]
  },
  {
   "cell_type": "code",
   "execution_count": 22,
   "metadata": {},
   "outputs": [
    {
     "name": "stdout",
     "output_type": "stream",
     "text": [
      "input: [54, 18, 76, 55, 87, -5, 60, 31, 32, 23, 61, 41, -42, -26, 36, 92, 88, 51, 81, 94, 3, 2, -26, 31, -30, 70, 47, 1]\n",
      "sorted: [-42, -30, -26, -26, -5, 1, 2, 3, 18, 23, 31, 31, 32, 36, 41, 47, 51, 54, 55, 60, 61, 70, 76, 81, 87, 88, 92, 94] \n",
      "\n",
      "input: [-11, -17, 58, -37, -46, 39, 37, 29, 95, 45, 59, 17, 14, -21, 70, -18, 31, -38, 94, -3, 11, 99, -3, 99, 56, 38, 3, -44]\n",
      "sorted: [-46, -44, -38, -37, -21, -18, -17, -11, -3, -3, 3, 11, 14, 17, 29, 31, 37, 38, 39, 45, 56, 58, 59, 70, 94, 95, 99, 99] \n",
      "\n",
      "input: [-11, -31, 76, 74, 80, 80, 89, -43, 32, 18, -26, 57, -33, -21, 21]\n",
      "sorted: [-43, -33, -31, -26, -21, -11, 18, 21, 32, 57, 74, 76, 80, 80, 89] \n",
      "\n",
      "input: [44, -1, 86, 82, 29, 57, -9, -41, 11, -6, -46, -42, 32, -19, 27, -28, 65, -16, 17, 51, 86, 17]\n",
      "sorted: [-46, -42, -41, -28, -19, -16, -9, -6, -1, 17, 17, 11, 27, 29, 32, 44, 51, 57, 65, 82, 86, 86] \n",
      "\n",
      "input: [-27, -5, -1, 89, -31, 69, -45, 55, -35, 2, 24, -37, -7, -15, 91]\n",
      "sorted: [-45, -37, -35, -31, -27, -15, -7, -5, -1, 2, 24, 55, 69, 89, 91] \n",
      "\n",
      "input: [13, 7, 37, 87, 62, 30, 69, -2, -47, -50, 68, -11, 14, 18, -35, -15, 11, 6, 46, 21, 12, 10, 37, -9, -19, -22, -37]\n",
      "sorted: [-50, -47, -37, -35, -22, -19, -15, -11, -9, -2, 6, 7, 10, 11, 12, 13, 14, 18, 21, 30, 37, 37, 46, 62, 68, 69, 87] \n",
      "\n",
      "input: [-40, 23, 36, 1, 57, 47, -47, 65, 85]\n",
      "sorted: [-47, -40, 1, 23, 36, 47, 57, 65, 85] \n",
      "\n",
      "input: [73, 24, 58, 68, 59, 11, 9, -34, 98, 59]\n",
      "sorted: [-34, 9, 11, 24, 58, 59, 59, 68, 73, 98] \n",
      "\n",
      "input: [45, 78, 71, 20, 2, 13, 82, -3, 41, 72, 13, -33, 49, -36, 24, -35, 32, 97, 54, -8, 41]\n",
      "sorted: [-36, -35, -33, -8, -3, 2, 13, 13, 20, 24, 41, 41, 32, 45, 49, 54, 71, 72, 78, 82, 97] \n",
      "\n",
      "input: [55, 41, -39, 78, 59, 34, 9, 62, 96, -34, 40, 96, -35, -24, -15, -8]\n",
      "sorted: [-39, -35, -34, -24, -15, -8, 9, 34, 40, 41, 55, 59, 62, 78, 96, 96] \n",
      "\n"
     ]
    }
   ],
   "source": [
    "import random\n",
    "\n",
    "for _ in range(10):\n",
    "    l = random.randint(2,30)\n",
    "    array = [random.randint(-50,100) for _ in range(l)]\n",
    "    print('input:',array)\n",
    "    Solution().heap_sort(array)\n",
    "    print('sorted:',array,'\\n')\n",
    "        \n",
    "    "
   ]
  },
  {
   "cell_type": "markdown",
   "metadata": {},
   "source": [
    "### >> 看起來很順利呢~"
   ]
  }
 ],
 "metadata": {
  "kernelspec": {
   "display_name": "Python 3",
   "language": "python",
   "name": "python3"
  },
  "language_info": {
   "codemirror_mode": {
    "name": "ipython",
    "version": 3
   },
   "file_extension": ".py",
   "mimetype": "text/x-python",
   "name": "python",
   "nbconvert_exporter": "python",
   "pygments_lexer": "ipython3",
   "version": "3.7.3"
  }
 },
 "nbformat": 4,
 "nbformat_minor": 2
}
