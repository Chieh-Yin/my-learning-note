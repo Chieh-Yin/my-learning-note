{
 "cells": [
  {
   "cell_type": "markdown",
   "metadata": {},
   "source": [
    "# [HW2] Merge Sort 學習歷程\n",
    "- 參考網站\n",
    "    - [Merge Sort | GeeksforGeeks](https://www.geeksforgeeks.org/merge-sort/)\n",
    "    - [Merge Sort | Studytonight](https://www.studytonight.com/data-structures/merge-sort)\n",
    "    - [Merge Sort | Hackerearth](https://www.hackerearth.com/zh/practice/algorithms/sorting/merge-sort/tutorial/)\n",
    "- 影片\n",
    "    - [Merge sort in 3 minutes](https://www.youtube.com/watch?v=4VqmGXwpLqc)\n",
    "    - [Merge Sort | GeeksforGeeks](https://www.youtube.com/watch?v=JSceec-wEyw)\n",
    "    - [Merge Sort step by step walkthrough (Recursion)](https://www.youtube.com/watch?v=7LN9z140U90)"
   ]
  },
  {
   "cell_type": "markdown",
   "metadata": {},
   "source": [
    "Try\n",
    "---\n",
    "在看完了 [GeeksforGeeks 的 Merge Sort 影片](https://www.youtube.com/watch?v=JSceec-wEyw) 後，我參考 [Hackerearth](https://www.hackerearth.com/zh/practice/algorithms/sorting/merge-sort/tutorial/) 的步驟和流程圖打算自己先試試看。\n",
    "\n",
    "- 大致分成三個步驟：\n",
    "    - **step1**: 切分，將未排序的 array 劃分為 sub array，當每個 sub array 就是每個 element 時。\n",
    "    \n",
    "    - **step2**: 比較合併，將相鄰的兩個 sub array ，互相比較第一個 element ，並取較小值則為以排序值，以排序值可以用新 array 存或是用 index 的方式將其隔開。\n",
    "    \n",
    "    - **step3**: 重複該過程，直到所有 sub array 都合併成一個 array 。"
   ]
  },
  {
   "cell_type": "code",
   "execution_count": 1,
   "metadata": {},
   "outputs": [],
   "source": [
    "def cut():\n",
    "    '''cut array'''\n",
    "    return \n",
    "\n",
    "def conbine():\n",
    "    '''conbine array'''\n",
    "    return"
   ]
  },
  {
   "cell_type": "markdown",
   "metadata": {},
   "source": [
    "但正要開始寫時，我發現不對，雖然在思考的時候可以理所當然的分成 切分和合併兩部分。但是在時做時卻不一樣。因為 **Merge Sort** 是建立在 [**遞迴演算法(Recursive algorithm**)](https://www.geeksforgeeks.org/recursion/) 的架構下，它適合使用遞迴的方式實現。所以我們必須在 function 裡面呼叫自己，如果我們不這樣做的話也是可以，但是相對起來就要更多的迴圈和條件去實現，比較不優雅。\n",
    "\n",
    "#### > 這影片有講解關於 **Merge Sort** 遞迴的觀念j我覺得不錯: [Merge Sort step by step walkthrough (Recursion)](https://www.youtube.com/watch?v=7LN9z140U90)\n",
    "\n",
    "所以當我們要用 Recursive 時我們要去思考，在呼叫自己時要有那些條件控制，不要陷入無限迴圈，在 function 的哪個地方呼叫自己也很重要。\n"
   ]
  },
  {
   "cell_type": "markdown",
   "metadata": {},
   "source": [
    "### >>首先是要 array 切成兩分， 切到只剩下一個 element"
   ]
  },
  {
   "cell_type": "code",
   "execution_count": 90,
   "metadata": {},
   "outputs": [],
   "source": [
    "def merge_sort(input):\n",
    "    if input > 1:\n",
    "        div = len(input)//2\n",
    "        subarray_left = input[:div]\n",
    "        subarray_right = input[div:]"
   ]
  },
  {
   "cell_type": "markdown",
   "metadata": {},
   "source": [
    "這部分還好，應該每個人都差不多...\n",
    "\n",
    "\n",
    "### >> 接著這部分很重要，就是呼叫自己的 function\n"
   ]
  },
  {
   "cell_type": "code",
   "execution_count": 11,
   "metadata": {},
   "outputs": [],
   "source": [
    "def merge_sort(input):\n",
    "    if len(input) > 1:\n",
    "        div = len(input)//2\n",
    "        subarray_left = input[:div]\n",
    "        subarray_right = input[div:]\n",
    "        merge_sort(subarray_left)\n",
    "        merge_sort(subarray_right)"
   ]
  },
  {
   "cell_type": "markdown",
   "metadata": {},
   "source": [
    "`但是為了更了解遞迴的模式，我簡單的 print 出每次的 切的左和右 array。`"
   ]
  },
  {
   "cell_type": "code",
   "execution_count": 91,
   "metadata": {},
   "outputs": [],
   "source": [
    "def merge_sort(input,step = 1):\n",
    "    if len(input) > 1:\n",
    "        div = len(input)//2\n",
    "        subarray_left = input[:div]\n",
    "        subarray_right = input[div:]\n",
    "        print(\"level {}  left:{},right:{}\".format(step,subarray_left,subarray_right))\n",
    "        step+=1\n",
    "        merge_sort(subarray_left,step)\n",
    "        print(\"level\",step-1,'-- left就緒')\n",
    "        merge_sort(subarray_right,step)  \n",
    "        print(\"level\",step-1,'-- right就緒','  開始比較')\n"
   ]
  },
  {
   "cell_type": "code",
   "execution_count": 92,
   "metadata": {},
   "outputs": [],
   "source": [
    "a = [1,8,6,7,9,2,3]"
   ]
  },
  {
   "cell_type": "code",
   "execution_count": 93,
   "metadata": {},
   "outputs": [
    {
     "name": "stdout",
     "output_type": "stream",
     "text": [
      "level 1  left:[1, 8, 6],right:[7, 9, 2, 3]\n",
      "level 2  left:[1],right:[8, 6]\n",
      "level 2 -- left就緒\n",
      "level 3  left:[8],right:[6]\n",
      "level 3 -- left就緒\n",
      "level 3 -- right就緒   開始比較\n",
      "level 2 -- right就緒   開始比較\n",
      "level 1 -- left就緒\n",
      "level 2  left:[7, 9],right:[2, 3]\n",
      "level 3  left:[7],right:[9]\n",
      "level 3 -- left就緒\n",
      "level 3 -- right就緒   開始比較\n",
      "level 2 -- left就緒\n",
      "level 3  left:[2],right:[3]\n",
      "level 3 -- left就緒\n",
      "level 3 -- right就緒   開始比較\n",
      "level 2 -- right就緒   開始比較\n",
      "level 1 -- right就緒   開始比較\n"
     ]
    }
   ],
   "source": [
    "merge_sort(a)"
   ]
  },
  {
   "cell_type": "markdown",
   "metadata": {},
   "source": [
    "在這邊 level 就是第幾層，也就是你已經經過幾次 merge_sort() function。當同一層且相鄰的左右個 array 都準備好時，就會開始比較排序。\n",
    "\n",
    "從上面 print 出的結果可以看出，它會總是先處理左邊的array，`直到該 array 只剩一個 element (也就是說達到我們 if len(input) > 1)  的條件，這時就不會繼續呼叫 merge sort ，就會折返(上面的就緒)，這就是遞迴的觀念`。\n",
    "\n",
    "### >> 所以可以知道他整體處理的過程是:  上 > 下 > 上 | 先左後右\n",
    "\n",
    "知道了到了底部(也就是 array 的長度為1時)，會反彈。但是 `為何事先處理左邊?`\n",
    "答案在下面，因為在我的 function 裡我是先把傳入左邊的array 傳入 merge sort 在傳右邊的..."
   ]
  },
  {
   "cell_type": "code",
   "execution_count": 88,
   "metadata": {},
   "outputs": [],
   "source": [
    "def merge_sort(input):\n",
    "    if len(input) > 1:\n",
    "        div = len(input)//2\n",
    "        subarray_left = input[:div]\n",
    "        subarray_right = input[div:]\n",
    "        merge_sort(subarray_left) #先處理左邊的 array \n",
    "        merge_sort(subarray_right) #後處理右邊的 array\n",
    "        # 開始比較..."
   ]
  },
  {
   "attachments": {
    "image.png": {
     "image/png": "https://github.com/aaron1aaron2/my-learning-note/blob/master/image/Merge%20sort_2.png"
   },
   "cell_type": "markdown",
   "metadata": {},
   "source": [
    "當然你可以先處理右邊的再處理左邊的，換個順序就好了。\n",
    "\n",
    "**為了更清楚，我在下圖標了處理順序，可以看到merge sort 是會先把一邊切到底再折返，且同一層左邊的 array**\n",
    "\n",
    "**會等待另一個 array 處理完，才接下去比較。**\n",
    "\n",
    "![image.png](attachment:image.png)\n",
    "**Refer to : https://www.youtube.com/watch?v=7LN9z140U90**\n",
    "\n",
    "---\n",
    "\n",
    "### >> 接著開始做比大小的部分，也就是上圖的 (3,4) (7,8) (5,9) 的部分\n",
    "\n",
    "當左邊和右邊的 array 返回時，就開始 merge sort 的下半段 - 比較排序，在返回時一定是左右邊的 array 都準備好時(最初都是 1 對 1)。\n",
    "\n",
    "在 merge sort 的比較排序，跟同學討論過後結論是，有兩種做法:\n",
    "1. 多用一個 list，使用 append 的方式去儲存排序後的 array。\n",
    "1. 使用雙 index 和一個隔板的方式，也就是之前 Quick Sort 有用到的方式。\n",
    "\n",
    "#### > 這邊我選擇第二種, 感覺比較優雅~"
   ]
  },
  {
   "cell_type": "code",
   "execution_count": 89,
   "metadata": {},
   "outputs": [],
   "source": [
    "def merge_sort(input):\n",
    "    # 折返限制\n",
    "    if len(input) > 1:\n",
    "        # 切分\n",
    "        div = len(input)//2\n",
    "        subarray_left = input[:div]\n",
    "        subarray_right = input[div:]\n",
    "        \n",
    "        # 準備左邊的 array\n",
    "        merge_sort(subarray_left)\n",
    "        \n",
    "        # 準備右邊的 array\n",
    "        merge_sort(subarray_right)\n",
    "        \n",
    "        # 比較排序\n",
    "        l_idx,r_idx = 0,len(subarray_left) #左邊的長度就會是右邊的頭\n",
    "        output_array = subarray_left+subarray_right\n",
    "        border =len(output_array)"
   ]
  },
  {
   "cell_type": "markdown",
   "metadata": {},
   "source": [
    "先準備好需要的變數:\n",
    "\n",
    "- **l_idx & r_idx:** 分別為左、右 array 的比較標記，初始為各自的頭\n",
    "- **output_array:** 我這邊就直接將兩個 array 何在一起，也就等於要輸出的 array，左右則分別以兩個 index 做標記。\n",
    "- **border:** 但是感覺要用 in-place 的方式需要交換，需要隔板，於是我加入了 border。我的想法是把 border 放在整個 array 的後面，每次比較排序時將其往前推，在分別調整 r_idx 和 l_idx 的位置，當 border=0 時代表兩邊的 array 已經比較完了。\n",
    "\n",
    "#### > 測試一下變數這樣設有沒有問題"
   ]
  },
  {
   "cell_type": "code",
   "execution_count": 111,
   "metadata": {},
   "outputs": [
    {
     "name": "stdout",
     "output_type": "stream",
     "text": [
      "[1, 5, 2, 8, 4]\n"
     ]
    }
   ],
   "source": [
    "a=[1,5,2]\n",
    "b=[8,4]\n",
    "print(a+b) # 直接相加"
   ]
  },
  {
   "cell_type": "code",
   "execution_count": 113,
   "metadata": {},
   "outputs": [
    {
     "name": "stdout",
     "output_type": "stream",
     "text": [
      "8\n"
     ]
    }
   ],
   "source": [
    "r_idx=len(a)\n",
    "print((a+b)[r_idx]) # 右 array 的頭"
   ]
  },
  {
   "cell_type": "code",
   "execution_count": 110,
   "metadata": {
    "scrolled": true
   },
   "outputs": [
    {
     "name": "stdout",
     "output_type": "stream",
     "text": [
      "4\n"
     ]
    }
   ],
   "source": [
    "border=len(a+b)\n",
    "print((a+b)[border-1]) # border 往前移"
   ]
  },
  {
   "cell_type": "markdown",
   "metadata": {},
   "source": [
    "看來沒甚麼問題~\n",
    "\n",
    "### >> 接著就剩下比較與移動index 的條件邏輯了..\n",
    "\n",
    "在比較時我想把`較小的值`抽出來，並將它之後的 array全部向前推，再把`較小的值`放到最後， border 往前移動，值到 border = 0。"
   ]
  },
  {
   "cell_type": "code",
   "execution_count": null,
   "metadata": {},
   "outputs": [],
   "source": [
    "def merge_sort(input):\n",
    "    # 折返限制\n",
    "    if len(input) > 1:\n",
    "        # 切分\n",
    "        div = len(input)//2\n",
    "        subarray_left = input[:div]\n",
    "        subarray_right = input[div:]\n",
    "        \n",
    "        # 準備左邊的 array\n",
    "        merge_sort(subarray_left)\n",
    "        \n",
    "        # 準備右邊的 array\n",
    "        merge_sort(subarray_right)\n",
    "        \n",
    "        # 比較排序的變數\n",
    "        l_idx,r_idx = 0,len(subarray_left) \n",
    "        output_array = subarray_left+subarray_right\n",
    "        border =len(output_array)\n",
    "        \n",
    "        # 比較與排序\n",
    "        while border > 0:\n",
    "            if output_array[l_idx]<=output_array[r_idx]:\n",
    "                smaller = output_array[l_idx]\n",
    "                output_array = output_array[:l_idx]+output_array[l_idx+1:]\n",
    "                output_array.append(smaller)\n",
    "                border-=1\n",
    "                r_idx-=1\n",
    "            else:\n",
    "                smaller = output_array[r_idx]\n",
    "                output_array = output_array[:r_idx]+output_array[r_idx+1:]\n",
    "                output_array.append(smaller)\n",
    "                border-=1\n",
    "                "
   ]
  },
  {
   "cell_type": "markdown",
   "metadata": {},
   "source": [
    "#### > 測試一下"
   ]
  },
  {
   "cell_type": "code",
   "execution_count": 189,
   "metadata": {},
   "outputs": [],
   "source": [
    "# 測試用\n",
    "a=[1,5,10,12]\n",
    "b=[2,4,8]\n",
    "output_array = a+b\n",
    "l_idx,r_idx = 0,len(a) \n",
    "border =len(output_array)"
   ]
  },
  {
   "cell_type": "code",
   "execution_count": 190,
   "metadata": {
    "scrolled": false
   },
   "outputs": [
    {
     "name": "stdout",
     "output_type": "stream",
     "text": [
      "[1, 5, 10, 12] [2, 4, 8] []\n",
      ">> 左小\n",
      "[5, 10, 12] [2, 4, 8] [1]\n",
      ">> 右小\n",
      "[5, 10, 12] [4, 8] [1, 2]\n",
      ">> 右小\n",
      "[5, 10, 12] [8] [1, 2, 4]\n",
      ">> 左小\n",
      "[10, 12] [8] [1, 2, 4, 5]\n",
      ">> 右小\n",
      "[10, 12] [] [1, 2, 4, 5, 8]\n",
      ">> 右小\n",
      "[10, 12] [] [12, 2, 4, 5, 8, 1]\n",
      ">> 右小\n",
      "[10, 12, 4, 5, 8, 1, 2]\n"
     ]
    }
   ],
   "source": [
    "        while border>0:\n",
    "            print(output_array[l_idx:r_idx],output_array[r_idx:border],output_array[border:])\n",
    "            if output_array[l_idx]<=output_array[r_idx]:\n",
    "                print('>> 左小')\n",
    "                smaller = output_array[l_idx]\n",
    "                output_array = output_array[:l_idx]+output_array[l_idx+1:]\n",
    "                output_array.append(smaller)\n",
    "                border-=1\n",
    "                r_idx-=1               \n",
    "            else:\n",
    "                print('>> 右小')\n",
    "                smaller = output_array[r_idx]\n",
    "                output_array = output_array[:r_idx]+output_array[r_idx+1:]\n",
    "                output_array.append(smaller)\n",
    "                border-=1\n",
    "        print(output_array)"
   ]
  },
  {
   "cell_type": "markdown",
   "metadata": {},
   "source": [
    "前面很順利，但是當一邊的 array 已經空時，它就抓錯 element...\n",
    "\n",
    "# Try again\n",
    "#### > 看來，我需要多加一個條件，就是當只剩下一個 array 時直接把剩下的 array 加到後面。"
   ]
  },
  {
   "cell_type": "code",
   "execution_count": 195,
   "metadata": {},
   "outputs": [],
   "source": [
    "# 測試用\n",
    "a=[1,5,10,12]\n",
    "b=[2,4,8]\n",
    "output_array = a+b\n",
    "l_idx,r_idx = 0,len(a) \n",
    "border =len(output_array)"
   ]
  },
  {
   "cell_type": "code",
   "execution_count": 196,
   "metadata": {},
   "outputs": [
    {
     "name": "stdout",
     "output_type": "stream",
     "text": [
      "[1, 5, 10, 12] [2, 4, 8] []\n",
      ">> 左小\n",
      "[5, 10, 12] [2, 4, 8] [1]\n",
      ">> 右小\n",
      "[5, 10, 12] [4, 8] [1, 2]\n",
      ">> 右小\n",
      "[5, 10, 12] [8] [1, 2, 4]\n",
      ">> 左小\n",
      "[10, 12] [8] [1, 2, 4, 5]\n",
      ">> 右小\n",
      "[10, 12] [] [1, 2, 4, 5, 8]\n",
      ">> 剩一 array\n",
      "[1, 2, 4, 5, 8, 10, 12]\n"
     ]
    }
   ],
   "source": [
    "        while border>0:\n",
    "            print(output_array[l_idx:r_idx],output_array[r_idx:border],output_array[border:])\n",
    "            if l_idx==r_idx or r_idx==border:\n",
    "                print('>> 剩一 array')\n",
    "                remain = output_array[:border]\n",
    "                output_array = output_array[border:]\n",
    "                output_array.extend(remain)\n",
    "                border=0\n",
    "            elif output_array[l_idx]<=output_array[r_idx]:\n",
    "                print('>> 左小')\n",
    "                smaller = output_array[l_idx]\n",
    "                output_array = output_array[:l_idx]+output_array[l_idx+1:]\n",
    "                output_array.append(smaller)\n",
    "                border-=1\n",
    "                r_idx-=1               \n",
    "            else:\n",
    "                print('>> 右小')\n",
    "                smaller = output_array[r_idx]\n",
    "                output_array = output_array[:r_idx]+output_array[r_idx+1:]\n",
    "                output_array.append(smaller)\n",
    "                border-=1\n",
    "        print(output_array)"
   ]
  },
  {
   "cell_type": "markdown",
   "metadata": {},
   "source": [
    "看來蠻順利的~\n",
    "\n",
    "### >> 但是合在一起又有問題了..."
   ]
  },
  {
   "cell_type": "code",
   "execution_count": 201,
   "metadata": {},
   "outputs": [],
   "source": [
    "def merge_sort(input):\n",
    "    # 折返限制\n",
    "    if len(input) > 1:\n",
    "        # 切分\n",
    "        div = len(input)//2\n",
    "        subarray_left = input[:div]\n",
    "        subarray_right = input[div:]\n",
    "        \n",
    "        # 準備左邊的 array\n",
    "        merge_sort(subarray_left)\n",
    "        \n",
    "        # 準備右邊的 array\n",
    "        merge_sort(subarray_right)\n",
    "        \n",
    "        # 比較排序的變數\n",
    "        l_idx,r_idx = 0,len(subarray_left) \n",
    "        output_array = subarray_left+subarray_right\n",
    "        border =len(output_array)\n",
    "        \n",
    "        # 比較與排序\n",
    "        while border>0:\n",
    "            if l_idx==r_idx or r_idx==border:\n",
    "                remain = output_array[:border]\n",
    "                output_array = output_array[border:]\n",
    "                output_array.extend(remain)\n",
    "                border=0\n",
    "            elif output_array[l_idx]<=output_array[r_idx]:\n",
    "                smaller = output_array[l_idx]\n",
    "                output_array = output_array[:l_idx]+output_array[l_idx+1:]\n",
    "                output_array.append(smaller)\n",
    "                border-=1\n",
    "                r_idx-=1               \n",
    "            else:\n",
    "                smaller = output_array[r_idx]\n",
    "                output_array = output_array[:r_idx]+output_array[r_idx+1:]\n",
    "                output_array.append(smaller)\n",
    "                border-=1\n",
    "        return output_array"
   ]
  },
  {
   "cell_type": "code",
   "execution_count": 202,
   "metadata": {
    "scrolled": true
   },
   "outputs": [
    {
     "ename": "TypeError",
     "evalue": "object of type 'NoneType' has no len()",
     "output_type": "error",
     "traceback": [
      "\u001b[1;31m---------------------------------------------------------------------------\u001b[0m",
      "\u001b[1;31mTypeError\u001b[0m                                 Traceback (most recent call last)",
      "\u001b[1;32m<ipython-input-202-c57a8b4487ec>\u001b[0m in \u001b[0;36m<module>\u001b[1;34m\u001b[0m\n\u001b[0;32m      1\u001b[0m \u001b[0ma\u001b[0m\u001b[1;33m=\u001b[0m\u001b[1;33m[\u001b[0m\u001b[1;36m1\u001b[0m\u001b[1;33m,\u001b[0m\u001b[1;36m5\u001b[0m\u001b[1;33m,\u001b[0m\u001b[1;36m10\u001b[0m\u001b[1;33m,\u001b[0m\u001b[1;36m12\u001b[0m\u001b[1;33m,\u001b[0m\u001b[1;36m2\u001b[0m\u001b[1;33m,\u001b[0m\u001b[1;36m4\u001b[0m\u001b[1;33m,\u001b[0m\u001b[1;36m8\u001b[0m\u001b[1;33m]\u001b[0m\u001b[1;33m\u001b[0m\u001b[1;33m\u001b[0m\u001b[0m\n\u001b[1;32m----> 2\u001b[1;33m \u001b[0mb\u001b[0m\u001b[1;33m=\u001b[0m\u001b[0mmerge_sort\u001b[0m\u001b[1;33m(\u001b[0m\u001b[0ma\u001b[0m\u001b[1;33m)\u001b[0m\u001b[1;33m\u001b[0m\u001b[1;33m\u001b[0m\u001b[0m\n\u001b[0m\u001b[0;32m      3\u001b[0m \u001b[0mprint\u001b[0m\u001b[1;33m(\u001b[0m\u001b[0mb\u001b[0m\u001b[1;33m)\u001b[0m\u001b[1;33m\u001b[0m\u001b[1;33m\u001b[0m\u001b[0m\n",
      "\u001b[1;32m<ipython-input-201-ac397ea1aa8b>\u001b[0m in \u001b[0;36mmerge_sort\u001b[1;34m(input)\u001b[0m\n\u001b[0;32m      8\u001b[0m \u001b[1;33m\u001b[0m\u001b[0m\n\u001b[0;32m      9\u001b[0m         \u001b[1;31m# 準備左邊的 array\u001b[0m\u001b[1;33m\u001b[0m\u001b[1;33m\u001b[0m\u001b[1;33m\u001b[0m\u001b[0m\n\u001b[1;32m---> 10\u001b[1;33m         \u001b[0msubarray_left\u001b[0m \u001b[1;33m=\u001b[0m \u001b[0mmerge_sort\u001b[0m\u001b[1;33m(\u001b[0m\u001b[0msubarray_left\u001b[0m\u001b[1;33m)\u001b[0m\u001b[1;33m\u001b[0m\u001b[1;33m\u001b[0m\u001b[0m\n\u001b[0m\u001b[0;32m     11\u001b[0m \u001b[1;33m\u001b[0m\u001b[0m\n\u001b[0;32m     12\u001b[0m         \u001b[1;31m# 準備右邊的 array\u001b[0m\u001b[1;33m\u001b[0m\u001b[1;33m\u001b[0m\u001b[1;33m\u001b[0m\u001b[0m\n",
      "\u001b[1;32m<ipython-input-201-ac397ea1aa8b>\u001b[0m in \u001b[0;36mmerge_sort\u001b[1;34m(input)\u001b[0m\n\u001b[0;32m     11\u001b[0m \u001b[1;33m\u001b[0m\u001b[0m\n\u001b[0;32m     12\u001b[0m         \u001b[1;31m# 準備右邊的 array\u001b[0m\u001b[1;33m\u001b[0m\u001b[1;33m\u001b[0m\u001b[1;33m\u001b[0m\u001b[0m\n\u001b[1;32m---> 13\u001b[1;33m         \u001b[0msubarray_right\u001b[0m \u001b[1;33m=\u001b[0m \u001b[0mmerge_sort\u001b[0m\u001b[1;33m(\u001b[0m\u001b[0msubarray_right\u001b[0m\u001b[1;33m)\u001b[0m\u001b[1;33m\u001b[0m\u001b[1;33m\u001b[0m\u001b[0m\n\u001b[0m\u001b[0;32m     14\u001b[0m \u001b[1;33m\u001b[0m\u001b[0m\n\u001b[0;32m     15\u001b[0m         \u001b[1;31m# 比較排序的變數\u001b[0m\u001b[1;33m\u001b[0m\u001b[1;33m\u001b[0m\u001b[1;33m\u001b[0m\u001b[0m\n",
      "\u001b[1;32m<ipython-input-201-ac397ea1aa8b>\u001b[0m in \u001b[0;36mmerge_sort\u001b[1;34m(input)\u001b[0m\n\u001b[0;32m     14\u001b[0m \u001b[1;33m\u001b[0m\u001b[0m\n\u001b[0;32m     15\u001b[0m         \u001b[1;31m# 比較排序的變數\u001b[0m\u001b[1;33m\u001b[0m\u001b[1;33m\u001b[0m\u001b[1;33m\u001b[0m\u001b[0m\n\u001b[1;32m---> 16\u001b[1;33m         \u001b[0ml_idx\u001b[0m\u001b[1;33m,\u001b[0m\u001b[0mr_idx\u001b[0m \u001b[1;33m=\u001b[0m \u001b[1;36m0\u001b[0m\u001b[1;33m,\u001b[0m\u001b[0mlen\u001b[0m\u001b[1;33m(\u001b[0m\u001b[0msubarray_left\u001b[0m\u001b[1;33m)\u001b[0m\u001b[1;33m\u001b[0m\u001b[1;33m\u001b[0m\u001b[0m\n\u001b[0m\u001b[0;32m     17\u001b[0m         \u001b[0moutput_array\u001b[0m \u001b[1;33m=\u001b[0m \u001b[0msubarray_left\u001b[0m\u001b[1;33m+\u001b[0m\u001b[0msubarray_right\u001b[0m\u001b[1;33m\u001b[0m\u001b[1;33m\u001b[0m\u001b[0m\n\u001b[0;32m     18\u001b[0m         \u001b[0mborder\u001b[0m \u001b[1;33m=\u001b[0m\u001b[0mlen\u001b[0m\u001b[1;33m(\u001b[0m\u001b[0moutput_array\u001b[0m\u001b[1;33m)\u001b[0m\u001b[1;33m\u001b[0m\u001b[1;33m\u001b[0m\u001b[0m\n",
      "\u001b[1;31mTypeError\u001b[0m: object of type 'NoneType' has no len()"
     ]
    }
   ],
   "source": [
    "# 測試用\n",
    "a=[1,5,10,12,2,4,8]\n",
    "b=merge_sort(a)\n",
    "print(b)"
   ]
  },
  {
   "cell_type": "markdown",
   "metadata": {},
   "source": [
    "# Try again and again\n",
    "\n",
    "### >>於是我打算將比較的部分抽離成獨立的 function"
   ]
  },
  {
   "cell_type": "code",
   "execution_count": 221,
   "metadata": {},
   "outputs": [],
   "source": [
    "def compare(subarray_left,subarray_right):\n",
    "    # 比較排序的變數\n",
    "    l_idx,r_idx = 0,len(subarray_left) \n",
    "    output_array = subarray_left+subarray_right\n",
    "    border =len(output_array)\n",
    "        \n",
    "    # 比較與排序\n",
    "    while border>0:\n",
    "        if l_idx==r_idx or r_idx==border:\n",
    "            remain = output_array[:border]\n",
    "            output_array = output_array[border:]\n",
    "            output_array.extend(remain)\n",
    "            border=0\n",
    "        elif output_array[l_idx]<=output_array[r_idx]:\n",
    "            smaller = output_array[l_idx]\n",
    "            output_array = output_array[:l_idx]+output_array[l_idx+1:]\n",
    "            output_array.append(smaller)\n",
    "            border-=1\n",
    "            r_idx-=1               \n",
    "        else:\n",
    "            smaller = output_array[r_idx]\n",
    "            output_array = output_array[:r_idx]+output_array[r_idx+1:]\n",
    "            output_array.append(smaller)\n",
    "            border-=1\n",
    "    return output_array\n",
    "\n",
    "def merge_sort(input):\n",
    "    # 折返限制\n",
    "    if len(input) > 1:\n",
    "        # 切分\n",
    "        div = len(input)//2\n",
    "        subarray_left = input[:div]\n",
    "        subarray_right = input[div:]\n",
    "        \n",
    "        # 準備左邊的 array\n",
    "        merge_sort(subarray_left)\n",
    "        \n",
    "        # 準備右邊的 array\n",
    "        merge_sort(subarray_right)\n",
    "        \n",
    "        #比較\n",
    "        print('input:',subarray_left,subarray_right)\n",
    "        print('output:',compare(subarray_left,subarray_right),'\\n')\n",
    "        return compare(subarray_left,subarray_right)\n"
   ]
  },
  {
   "cell_type": "code",
   "execution_count": 222,
   "metadata": {
    "scrolled": true
   },
   "outputs": [
    {
     "name": "stdout",
     "output_type": "stream",
     "text": [
      "input: [5] [10]\n",
      "output: [5, 10] \n",
      "\n",
      "input: [1] [5, 10]\n",
      "output: [1, 5, 10] \n",
      "\n",
      "input: [12] [2]\n",
      "output: [2, 12] \n",
      "\n",
      "input: [4] [8]\n",
      "output: [4, 8] \n",
      "\n",
      "input: [12, 2] [4, 8]\n",
      "output: [4, 8, 12, 2] \n",
      "\n",
      "input: [1, 5, 10] [12, 2, 4, 8]\n",
      "output: [1, 5, 10, 12, 2, 4, 8] \n",
      "\n",
      "[1, 5, 10, 12, 2, 4, 8]\n"
     ]
    }
   ],
   "source": [
    "a=[1,5,10,12,2,4,8]\n",
    "b=merge_sort(a)\n",
    "print(b)"
   ]
  },
  {
   "cell_type": "markdown",
   "metadata": {},
   "source": [
    "### >> 看來我的 compare 是沒問題的只是 merge sort 流程的問題，我改了一下..."
   ]
  },
  {
   "cell_type": "code",
   "execution_count": 223,
   "metadata": {},
   "outputs": [],
   "source": [
    "def compare(subarray_left,subarray_right):\n",
    "    # 比較排序的變數\n",
    "    l_idx,r_idx = 0,len(subarray_left) \n",
    "    output_array = subarray_left+subarray_right\n",
    "    border =len(output_array)\n",
    "        \n",
    "    # 比較與排序\n",
    "    while border>0:\n",
    "        if l_idx==r_idx or r_idx==border:\n",
    "            remain = output_array[:border]\n",
    "            output_array = output_array[border:]\n",
    "            output_array.extend(remain)\n",
    "            border=0\n",
    "        elif output_array[l_idx]<=output_array[r_idx]:\n",
    "            smaller = output_array[l_idx]\n",
    "            output_array = output_array[:l_idx]+output_array[l_idx+1:]\n",
    "            output_array.append(smaller)\n",
    "            border-=1\n",
    "            r_idx-=1               \n",
    "        else:\n",
    "            smaller = output_array[r_idx]\n",
    "            output_array = output_array[:r_idx]+output_array[r_idx+1:]\n",
    "            output_array.append(smaller)\n",
    "            border-=1\n",
    "    return output_array\n",
    "\n",
    "def merge_sort(input):\n",
    "    # 折返限制\n",
    "    if len(input) > 1:\n",
    "        # 切分\n",
    "        div = len(input)//2\n",
    "        subarray_left = input[:div]\n",
    "        subarray_right = input[div:]\n",
    "        \n",
    "        # 準備左邊的 array\n",
    "        subarray_left = merge_sort(subarray_left)\n",
    "        \n",
    "        # 準備右邊的 array\n",
    "        subarray_right = merge_sort(subarray_right)\n",
    "        \n",
    "        #比較\n",
    "        print('input:',subarray_left,subarray_right)\n",
    "        print('output:',compare(subarray_left,subarray_right),'\\n')\n",
    "        return compare(subarray_left,subarray_right)\n"
   ]
  },
  {
   "cell_type": "code",
   "execution_count": 226,
   "metadata": {
    "scrolled": true
   },
   "outputs": [
    {
     "name": "stdout",
     "output_type": "stream",
     "text": [
      "input: None None\n"
     ]
    },
    {
     "ename": "TypeError",
     "evalue": "object of type 'NoneType' has no len()",
     "output_type": "error",
     "traceback": [
      "\u001b[1;31m---------------------------------------------------------------------------\u001b[0m",
      "\u001b[1;31mTypeError\u001b[0m                                 Traceback (most recent call last)",
      "\u001b[1;32m<ipython-input-226-c57a8b4487ec>\u001b[0m in \u001b[0;36m<module>\u001b[1;34m\u001b[0m\n\u001b[0;32m      1\u001b[0m \u001b[0ma\u001b[0m\u001b[1;33m=\u001b[0m\u001b[1;33m[\u001b[0m\u001b[1;36m1\u001b[0m\u001b[1;33m,\u001b[0m\u001b[1;36m5\u001b[0m\u001b[1;33m,\u001b[0m\u001b[1;36m10\u001b[0m\u001b[1;33m,\u001b[0m\u001b[1;36m12\u001b[0m\u001b[1;33m,\u001b[0m\u001b[1;36m2\u001b[0m\u001b[1;33m,\u001b[0m\u001b[1;36m4\u001b[0m\u001b[1;33m,\u001b[0m\u001b[1;36m8\u001b[0m\u001b[1;33m]\u001b[0m\u001b[1;33m\u001b[0m\u001b[1;33m\u001b[0m\u001b[0m\n\u001b[1;32m----> 2\u001b[1;33m \u001b[0mb\u001b[0m\u001b[1;33m=\u001b[0m\u001b[0mmerge_sort\u001b[0m\u001b[1;33m(\u001b[0m\u001b[0ma\u001b[0m\u001b[1;33m)\u001b[0m\u001b[1;33m\u001b[0m\u001b[1;33m\u001b[0m\u001b[0m\n\u001b[0m\u001b[0;32m      3\u001b[0m \u001b[0mprint\u001b[0m\u001b[1;33m(\u001b[0m\u001b[0mb\u001b[0m\u001b[1;33m)\u001b[0m\u001b[1;33m\u001b[0m\u001b[1;33m\u001b[0m\u001b[0m\n",
      "\u001b[1;32m<ipython-input-223-3e3d41dcfcad>\u001b[0m in \u001b[0;36mmerge_sort\u001b[1;34m(input)\u001b[0m\n\u001b[0;32m     34\u001b[0m \u001b[1;33m\u001b[0m\u001b[0m\n\u001b[0;32m     35\u001b[0m         \u001b[1;31m# 準備左邊的 array\u001b[0m\u001b[1;33m\u001b[0m\u001b[1;33m\u001b[0m\u001b[1;33m\u001b[0m\u001b[0m\n\u001b[1;32m---> 36\u001b[1;33m         \u001b[0msubarray_left\u001b[0m \u001b[1;33m=\u001b[0m \u001b[0mmerge_sort\u001b[0m\u001b[1;33m(\u001b[0m\u001b[0msubarray_left\u001b[0m\u001b[1;33m)\u001b[0m\u001b[1;33m\u001b[0m\u001b[1;33m\u001b[0m\u001b[0m\n\u001b[0m\u001b[0;32m     37\u001b[0m \u001b[1;33m\u001b[0m\u001b[0m\n\u001b[0;32m     38\u001b[0m         \u001b[1;31m# 準備右邊的 array\u001b[0m\u001b[1;33m\u001b[0m\u001b[1;33m\u001b[0m\u001b[1;33m\u001b[0m\u001b[0m\n",
      "\u001b[1;32m<ipython-input-223-3e3d41dcfcad>\u001b[0m in \u001b[0;36mmerge_sort\u001b[1;34m(input)\u001b[0m\n\u001b[0;32m     37\u001b[0m \u001b[1;33m\u001b[0m\u001b[0m\n\u001b[0;32m     38\u001b[0m         \u001b[1;31m# 準備右邊的 array\u001b[0m\u001b[1;33m\u001b[0m\u001b[1;33m\u001b[0m\u001b[1;33m\u001b[0m\u001b[0m\n\u001b[1;32m---> 39\u001b[1;33m         \u001b[0msubarray_right\u001b[0m \u001b[1;33m=\u001b[0m \u001b[0mmerge_sort\u001b[0m\u001b[1;33m(\u001b[0m\u001b[0msubarray_right\u001b[0m\u001b[1;33m)\u001b[0m\u001b[1;33m\u001b[0m\u001b[1;33m\u001b[0m\u001b[0m\n\u001b[0m\u001b[0;32m     40\u001b[0m \u001b[1;33m\u001b[0m\u001b[0m\n\u001b[0;32m     41\u001b[0m         \u001b[1;31m#比較\u001b[0m\u001b[1;33m\u001b[0m\u001b[1;33m\u001b[0m\u001b[1;33m\u001b[0m\u001b[0m\n",
      "\u001b[1;32m<ipython-input-223-3e3d41dcfcad>\u001b[0m in \u001b[0;36mmerge_sort\u001b[1;34m(input)\u001b[0m\n\u001b[0;32m     41\u001b[0m         \u001b[1;31m#比較\u001b[0m\u001b[1;33m\u001b[0m\u001b[1;33m\u001b[0m\u001b[1;33m\u001b[0m\u001b[0m\n\u001b[0;32m     42\u001b[0m         \u001b[0mprint\u001b[0m\u001b[1;33m(\u001b[0m\u001b[1;34m'input:'\u001b[0m\u001b[1;33m,\u001b[0m\u001b[0msubarray_left\u001b[0m\u001b[1;33m,\u001b[0m\u001b[0msubarray_right\u001b[0m\u001b[1;33m)\u001b[0m\u001b[1;33m\u001b[0m\u001b[1;33m\u001b[0m\u001b[0m\n\u001b[1;32m---> 43\u001b[1;33m         \u001b[0mprint\u001b[0m\u001b[1;33m(\u001b[0m\u001b[1;34m'output:'\u001b[0m\u001b[1;33m,\u001b[0m\u001b[0mcompare\u001b[0m\u001b[1;33m(\u001b[0m\u001b[0msubarray_left\u001b[0m\u001b[1;33m,\u001b[0m\u001b[0msubarray_right\u001b[0m\u001b[1;33m)\u001b[0m\u001b[1;33m,\u001b[0m\u001b[1;34m'\\n'\u001b[0m\u001b[1;33m)\u001b[0m\u001b[1;33m\u001b[0m\u001b[1;33m\u001b[0m\u001b[0m\n\u001b[0m\u001b[0;32m     44\u001b[0m         \u001b[1;32mreturn\u001b[0m \u001b[0mcompare\u001b[0m\u001b[1;33m(\u001b[0m\u001b[0msubarray_left\u001b[0m\u001b[1;33m,\u001b[0m\u001b[0msubarray_right\u001b[0m\u001b[1;33m)\u001b[0m\u001b[1;33m\u001b[0m\u001b[1;33m\u001b[0m\u001b[0m\n",
      "\u001b[1;32m<ipython-input-223-3e3d41dcfcad>\u001b[0m in \u001b[0;36mcompare\u001b[1;34m(subarray_left, subarray_right)\u001b[0m\n\u001b[0;32m      1\u001b[0m \u001b[1;32mdef\u001b[0m \u001b[0mcompare\u001b[0m\u001b[1;33m(\u001b[0m\u001b[0msubarray_left\u001b[0m\u001b[1;33m,\u001b[0m\u001b[0msubarray_right\u001b[0m\u001b[1;33m)\u001b[0m\u001b[1;33m:\u001b[0m\u001b[1;33m\u001b[0m\u001b[1;33m\u001b[0m\u001b[0m\n\u001b[0;32m      2\u001b[0m     \u001b[1;31m# 比較排序的變數\u001b[0m\u001b[1;33m\u001b[0m\u001b[1;33m\u001b[0m\u001b[1;33m\u001b[0m\u001b[0m\n\u001b[1;32m----> 3\u001b[1;33m     \u001b[0ml_idx\u001b[0m\u001b[1;33m,\u001b[0m\u001b[0mr_idx\u001b[0m \u001b[1;33m=\u001b[0m \u001b[1;36m0\u001b[0m\u001b[1;33m,\u001b[0m\u001b[0mlen\u001b[0m\u001b[1;33m(\u001b[0m\u001b[0msubarray_left\u001b[0m\u001b[1;33m)\u001b[0m\u001b[1;33m\u001b[0m\u001b[1;33m\u001b[0m\u001b[0m\n\u001b[0m\u001b[0;32m      4\u001b[0m     \u001b[0moutput_array\u001b[0m \u001b[1;33m=\u001b[0m \u001b[0msubarray_left\u001b[0m\u001b[1;33m+\u001b[0m\u001b[0msubarray_right\u001b[0m\u001b[1;33m\u001b[0m\u001b[1;33m\u001b[0m\u001b[0m\n\u001b[0;32m      5\u001b[0m     \u001b[0mborder\u001b[0m \u001b[1;33m=\u001b[0m\u001b[0mlen\u001b[0m\u001b[1;33m(\u001b[0m\u001b[0moutput_array\u001b[0m\u001b[1;33m)\u001b[0m\u001b[1;33m\u001b[0m\u001b[1;33m\u001b[0m\u001b[0m\n",
      "\u001b[1;31mTypeError\u001b[0m: object of type 'NoneType' has no len()"
     ]
    }
   ],
   "source": [
    "a=[1,5,10,12,2,4,8]\n",
    "b=merge_sort(a)\n",
    "print(b)"
   ]
  },
  {
   "cell_type": "markdown",
   "metadata": {},
   "source": [
    "看起來不太妙... 但是我不會放棄的!!!\n",
    "\n",
    "# Keep trying\n"
   ]
  },
  {
   "cell_type": "code",
   "execution_count": 237,
   "metadata": {},
   "outputs": [],
   "source": [
    "def compare(subarray_left,subarray_right):\n",
    "    # 比較排序的變數\n",
    "    l_idx,r_idx = 0,len(subarray_left) \n",
    "    output_array = subarray_left+subarray_right\n",
    "    border =len(output_array)\n",
    "        \n",
    "    # 比較與排序\n",
    "    while border>1:\n",
    "        if l_idx==r_idx or r_idx==border:\n",
    "            remain = output_array[:border]\n",
    "            output_array = output_array[border:]\n",
    "            output_array.extend(remain)\n",
    "            border=0\n",
    "        elif output_array[l_idx]<=output_array[r_idx]:\n",
    "            smaller = output_array[l_idx]\n",
    "            output_array = output_array[:l_idx]+output_array[l_idx+1:]\n",
    "            output_array.append(smaller)\n",
    "            border-=1\n",
    "            r_idx-=1               \n",
    "        else:\n",
    "            smaller = output_array[r_idx]\n",
    "            output_array = output_array[:r_idx]+output_array[r_idx+1:]\n",
    "            output_array.append(smaller)\n",
    "            border-=1\n",
    "    return output_array\n",
    "\n",
    "def merge_sort(input):\n",
    "    # 折返限制\n",
    "    if len(input) > 1:\n",
    "        # 切分\n",
    "        div = len(input)//2\n",
    "        subarray_left = input[:div]\n",
    "        subarray_right = input[div:]\n",
    "        \n",
    "        # 準備左邊的 array\n",
    "        subarray_left = merge_sort(subarray_left)\n",
    "        \n",
    "        # 準備右邊的 array\n",
    "        subarray_right = merge_sort(subarray_right)\n",
    "        \n",
    "        if subarray_left!=None and subarray_right!= None:\n",
    "            #比較\n",
    "            print('input:',subarray_left,subarray_right)\n",
    "            print('output:',compare(subarray_left,subarray_right),'\\n')\n",
    "            return compare(subarray_left,subarray_right)\n",
    "        else:\n",
    "            return input\n"
   ]
  },
  {
   "cell_type": "code",
   "execution_count": 238,
   "metadata": {},
   "outputs": [
    {
     "name": "stdout",
     "output_type": "stream",
     "text": [
      "input: [12, 2] [4, 8]\n",
      "output: [4, 8, 12, 2] \n",
      "\n",
      "input: [1, 5, 10] [4, 8, 12, 2]\n",
      "output: [1, 4, 5, 8, 10, 12, 2] \n",
      "\n",
      "[1, 4, 5, 8, 10, 12, 2]\n"
     ]
    }
   ],
   "source": [
    "a=[1,5,10,12,2,4,8]\n",
    "b=merge_sort(a)\n",
    "print(b)"
   ]
  },
  {
   "cell_type": "markdown",
   "metadata": {},
   "source": [
    "哇! 2 怎麼跑到後面了...\n",
    "\n",
    "### >>我發現是因為在 len(array=1) 時沒有返回東西，所以直接比較未排序的 array。"
   ]
  },
  {
   "cell_type": "code",
   "execution_count": 3,
   "metadata": {},
   "outputs": [],
   "source": [
    "def compare(subarray_left,subarray_right):\n",
    "    # 比較排序的變數\n",
    "    l_idx,r_idx = 0,len(subarray_left) \n",
    "    output_array = subarray_left+subarray_right\n",
    "    border =len(output_array)\n",
    "        \n",
    "    # 比較與排序\n",
    "    while border>1:\n",
    "        if l_idx==r_idx or r_idx==border:\n",
    "            remain = output_array[:border]\n",
    "            output_array = output_array[border:]\n",
    "            output_array.extend(remain)\n",
    "            border=0\n",
    "        elif output_array[l_idx]<=output_array[r_idx]:\n",
    "            smaller = output_array[l_idx]\n",
    "            output_array = output_array[:l_idx]+output_array[l_idx+1:]\n",
    "            output_array.append(smaller)\n",
    "            border-=1\n",
    "            r_idx-=1               \n",
    "        else:\n",
    "            smaller = output_array[r_idx]\n",
    "            output_array = output_array[:r_idx]+output_array[r_idx+1:]\n",
    "            output_array.append(smaller)\n",
    "            border-=1\n",
    "    return output_array\n",
    "\n",
    "def merge_sort(input):\n",
    "    # 折返限制\n",
    "    if len(input) > 1:\n",
    "        # 切分\n",
    "        div = len(input)//2\n",
    "        subarray_left = input[:div]\n",
    "        subarray_right = input[div:]\n",
    "        \n",
    "        # 準備左邊的 array\n",
    "        subarray_left = merge_sort(subarray_left)\n",
    "        \n",
    "        # 準備右邊的 array\n",
    "        subarray_right = merge_sort(subarray_right)\n",
    "        \n",
    "        if subarray_left!=None and subarray_right!= None:\n",
    "            #比較\n",
    "            print('input:',subarray_left,subarray_right)\n",
    "            print('output:',compare(subarray_left,subarray_right),'\\n')\n",
    "            return compare(subarray_left,subarray_right)\n",
    "        else:\n",
    "            return input\n",
    "    elif len(input)==1:\n",
    "        return input\n"
   ]
  },
  {
   "cell_type": "code",
   "execution_count": 4,
   "metadata": {},
   "outputs": [
    {
     "name": "stdout",
     "output_type": "stream",
     "text": [
      "input: [5] [10]\n",
      "output: [10, 5] \n",
      "\n",
      "input: [1] [10, 5]\n",
      "output: [1, 10, 5] \n",
      "\n",
      "input: [12] [2]\n",
      "output: [12, 2] \n",
      "\n",
      "input: [4] [8]\n",
      "output: [8, 4] \n",
      "\n",
      "input: [12, 2] [8, 4]\n",
      "output: [8, 4, 12, 2] \n",
      "\n",
      "input: [1, 10, 5] [8, 4, 12, 2]\n",
      "output: [1, 8, 4, 10, 5, 12, 2] \n",
      "\n",
      "[1, 8, 4, 10, 5, 12, 2]\n"
     ]
    }
   ],
   "source": [
    "a=[1,5,10,12,2,4,8]\n",
    "b=merge_sort(a)\n",
    "print(b)"
   ]
  },
  {
   "cell_type": "markdown",
   "metadata": {},
   "source": [
    "### >> 這邊很明顯我的 compare 在處理兩個只有一個element 的 array 有問題..."
   ]
  },
  {
   "cell_type": "code",
   "execution_count": 7,
   "metadata": {},
   "outputs": [],
   "source": [
    "def compare(subarray_left,subarray_right):\n",
    "    # 比較排序的變數\n",
    "    l_idx,r_idx = 0,len(subarray_left) \n",
    "    output_array = subarray_left+subarray_right\n",
    "    border =len(output_array)\n",
    "        \n",
    "    # 比較與排序\n",
    "    while border>0:\n",
    "        if l_idx==r_idx or r_idx==border:\n",
    "            remain = output_array[:border]\n",
    "            output_array = output_array[border:]\n",
    "            output_array.extend(remain)\n",
    "            border=0\n",
    "        elif output_array[l_idx]<=output_array[r_idx]:\n",
    "            smaller = output_array[l_idx]\n",
    "            output_array = output_array[:l_idx]+output_array[l_idx+1:]\n",
    "            output_array.append(smaller)\n",
    "            border-=1\n",
    "            r_idx-=1               \n",
    "        else:\n",
    "            smaller = output_array[r_idx]\n",
    "            output_array = output_array[:r_idx]+output_array[r_idx+1:]\n",
    "            output_array.append(smaller)\n",
    "            border-=1\n",
    "    return output_array\n",
    "\n",
    "def merge_sort(input):\n",
    "    # 折返限制\n",
    "    if len(input) > 1:\n",
    "        # 切分\n",
    "        div = len(input)//2\n",
    "        subarray_left = input[:div]\n",
    "        subarray_right = input[div:]\n",
    "        \n",
    "        # 準備左邊的 array\n",
    "        subarray_left = merge_sort(subarray_left)\n",
    "        \n",
    "        # 準備右邊的 array\n",
    "        subarray_right = merge_sort(subarray_right)\n",
    "        \n",
    "        if subarray_left!=None and subarray_right!= None:\n",
    "            #比較\n",
    "            print('input:',subarray_left,subarray_right)\n",
    "            print('output:',compare(subarray_left,subarray_right),'\\n')\n",
    "            return compare(subarray_left,subarray_right)\n",
    "        else:\n",
    "            return input\n",
    "    elif len(input)==1:\n",
    "        return input\n"
   ]
  },
  {
   "cell_type": "code",
   "execution_count": 8,
   "metadata": {},
   "outputs": [
    {
     "data": {
      "text/plain": [
       "[1, 2]"
      ]
     },
     "execution_count": 8,
     "metadata": {},
     "output_type": "execute_result"
    }
   ],
   "source": [
    "compare([2],[1])"
   ]
  },
  {
   "cell_type": "code",
   "execution_count": 9,
   "metadata": {},
   "outputs": [
    {
     "name": "stdout",
     "output_type": "stream",
     "text": [
      "input: [5] [10]\n",
      "output: [5, 10] \n",
      "\n",
      "input: [1] [5, 10]\n",
      "output: [1, 5, 10] \n",
      "\n",
      "input: [12] [2]\n",
      "output: [2, 12] \n",
      "\n",
      "input: [4] [8]\n",
      "output: [4, 8] \n",
      "\n",
      "input: [2, 12] [4, 8]\n",
      "output: [2, 4, 8, 12] \n",
      "\n",
      "input: [1, 5, 10] [2, 4, 8, 12]\n",
      "output: [1, 2, 4, 5, 8, 10, 12] \n",
      "\n",
      "[1, 2, 4, 5, 8, 10, 12]\n"
     ]
    }
   ],
   "source": [
    "a=[1,5,10,12,2,4,8]\n",
    "b=merge_sort(a)\n",
    "print(b)"
   ]
  },
  {
   "cell_type": "markdown",
   "metadata": {},
   "source": [
    "終於成功了!!! 太高興了~\n",
    "\n",
    "結果是compare 的 border 設錯了，我原本是 border >1 ，但是這樣的話會排除 array 長度等於1 的情況，所以我改成 border >0。\n",
    "\n",
    "###  >>寫成 class"
   ]
  },
  {
   "cell_type": "code",
   "execution_count": 3,
   "metadata": {},
   "outputs": [],
   "source": [
    "class Solution(object):\n",
    "    def compare(self,subarray_left,subarray_right):\n",
    "        # 比較排序的變數\n",
    "        l_idx,r_idx = 0,len(subarray_left) \n",
    "        output_array = subarray_left+subarray_right\n",
    "        border =len(output_array)\n",
    "\n",
    "        # 比較與排序\n",
    "        while border>0:\n",
    "            if l_idx==r_idx or r_idx==border:\n",
    "                remain = output_array[:border]\n",
    "                output_array = output_array[border:]\n",
    "                output_array.extend(remain)\n",
    "                border=0\n",
    "            elif output_array[l_idx]<=output_array[r_idx]:\n",
    "                smaller = output_array[l_idx]\n",
    "                output_array = output_array[:l_idx]+output_array[l_idx+1:]\n",
    "                output_array.append(smaller)\n",
    "                border-=1\n",
    "                r_idx-=1               \n",
    "            else:\n",
    "                smaller = output_array[r_idx]\n",
    "                output_array = output_array[:r_idx]+output_array[r_idx+1:]\n",
    "                output_array.append(smaller)\n",
    "                border-=1\n",
    "        return output_array\n",
    "\n",
    "    def merge_sort(self,input):\n",
    "        # 折返限制\n",
    "        if len(input) > 1:\n",
    "            # 切分\n",
    "            div = len(input)//2\n",
    "            subarray_left = input[:div]\n",
    "            subarray_right = input[div:]\n",
    "\n",
    "            # 準備左邊的 array\n",
    "            subarray_left = self.merge_sort(subarray_left)\n",
    "\n",
    "            # 準備右邊的 array\n",
    "            subarray_right = self.merge_sort(subarray_right)\n",
    "            \n",
    "            # 兩個array 都準備好則開始比較\n",
    "            if subarray_left!=None and subarray_right!= None:\n",
    "                return self.compare(subarray_left,subarray_right)\n",
    "            else:\n",
    "                return input\n",
    "        elif len(input)==1:\n",
    "            return input\n"
   ]
  },
  {
   "cell_type": "markdown",
   "metadata": {},
   "source": [
    "Test\n",
    "---"
   ]
  },
  {
   "cell_type": "code",
   "execution_count": 5,
   "metadata": {},
   "outputs": [
    {
     "name": "stdout",
     "output_type": "stream",
     "text": [
      "input: [-27, 49, -38, 64, 89, 87, 65, 67, -16, 12, 13, 10]\n",
      "sorted: [-38, -27, -16, 10, 12, 13, 49, 64, 65, 67, 87, 89] \n",
      "\n",
      "input: [-28, 65, -38, 35, 29, -11, 28, 81, -11, 23, -24, 84, 80, 30, -36, 80, -14, 10, 71, 12, -12, -49, 65]\n",
      "sorted: [-49, -38, -36, -28, -24, -14, -12, -11, -11, 10, 12, 23, 28, 29, 30, 35, 65, 65, 71, 80, 80, 81, 84] \n",
      "\n",
      "input: [9, -36, 3, 27, 94, -34, -15, 12, 46, -27, -16, -14, 75, -31, 83, 23, 54, -45, 77, -11, 2, 73, 59, 26, 56]\n",
      "sorted: [-45, -36, -34, -31, -27, -16, -15, -14, -11, 2, 3, 9, 12, 23, 26, 27, 46, 54, 56, 59, 73, 75, 77, 83, 94] \n",
      "\n",
      "input: [-36, 80, 86, 23, -8, 79, 35, -13, -44, 42, 24, -42, 72, -41, 0, -23, -48]\n",
      "sorted: [-48, -44, -42, -41, -36, -23, -13, -8, 0, 23, 24, 35, 42, 72, 79, 80, 86] \n",
      "\n",
      "input: [45, 86, 21, 33, 49, -22, -29, 85, 67, 45, 31, -23, 96, 1, 31]\n",
      "sorted: [-29, -23, -22, 1, 21, 31, 31, 33, 45, 45, 49, 67, 85, 86, 96] \n",
      "\n",
      "input: [76, 97, 63, -21, 12, 12, -21, 100, 6, 35, -47, 20, 27, 88, -46, -26, -36, 44, -16, 57, 70, 46, 58, 48, 96, -36, -14, 20, -46]\n",
      "sorted: [-47, -46, -46, -36, -36, -26, -21, -21, -16, -14, 6, 12, 12, 20, 20, 27, 35, 44, 46, 48, 57, 58, 63, 70, 76, 88, 96, 97, 100] \n",
      "\n",
      "input: [-42, 77, -10, -36, 37, 77]\n",
      "sorted: [-42, -36, -10, 37, 77, 77] \n",
      "\n",
      "input: [-14, 97, 56, 36, 31, 77, 53, -4, 54, -11, 22, 1, 10, -39, 45, 9, -1, 9, 95, 16, -17, -27, 10, 3, -29, -35, 60, 12, -44]\n",
      "sorted: [-44, -39, -35, -29, -27, -17, -14, -11, -4, -1, 1, 3, 9, 9, 10, 10, 12, 16, 22, 31, 36, 45, 53, 54, 56, 60, 77, 95, 97] \n",
      "\n",
      "input: [-43, -33, 57, 94, 17, 87, 49, 13, 13, 38, 77, 20, 90, 95, 46, -43, 100, 13, 100, -22, 61, 75]\n",
      "sorted: [-43, -43, -33, -22, 13, 13, 13, 17, 20, 38, 46, 49, 57, 61, 75, 77, 87, 90, 94, 95, 100, 100] \n",
      "\n",
      "input: [-15, 78, -15, 98, -1, 18, 47, 61, 37, 47, -44, -13, 57, 100, 76, 46, -19]\n",
      "sorted: [-44, -19, -15, -15, -13, -1, 18, 37, 46, 47, 47, 57, 61, 76, 78, 98, 100] \n",
      "\n"
     ]
    }
   ],
   "source": [
    "import random\n",
    "\n",
    "for _ in range(10):\n",
    "    l = random.randint(2,30)\n",
    "    array = [random.randint(-50,100) for _ in range(l)]\n",
    "    print('input:',array)\n",
    "    out=Solution().merge_sort(array)\n",
    "    print('sorted:',out,'\\n')\n",
    "        "
   ]
  },
  {
   "cell_type": "markdown",
   "metadata": {},
   "source": [
    "### >> 看起來恨順利呢~"
   ]
  }
 ],
 "metadata": {
  "kernelspec": {
   "display_name": "Python 3",
   "language": "python",
   "name": "python3"
  },
  "language_info": {
   "codemirror_mode": {
    "name": "ipython",
    "version": 3
   },
   "file_extension": ".py",
   "mimetype": "text/x-python",
   "name": "python",
   "nbconvert_exporter": "python",
   "pygments_lexer": "ipython3",
   "version": "3.7.3"
  }
 },
 "nbformat": 4,
 "nbformat_minor": 2
}
