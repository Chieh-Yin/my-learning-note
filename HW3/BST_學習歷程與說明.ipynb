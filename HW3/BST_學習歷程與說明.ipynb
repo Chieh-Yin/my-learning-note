{
 "cells": [
  {
   "cell_type": "markdown",
   "metadata": {},
   "source": [
    "# [HW3] Tree 學習歷程\n",
    "- 參考網站\n",
    "    - [來自老師PPT](http://www.math.bas.bg/~nkirov/2017/NETB201/slides/ch06/ch06-2.html)\n",
    "    - [Binary Tree Set 1 (Introduction) | Geeksforgeeks](https://www.geeksforgeeks.org/binary-tree-set-1-introduction/)\n",
    "    - [Introduction To Binary Trees | Studytonight](https://www.studytonight.com/data-structures/introduction-to-binary-trees)\n",
    "    - [Binary/ N-ary Trees | Hackerearth](https://www.hackerearth.com/zh/practice/data-structures/trees/binary-and-nary-trees/tutorial/)\n",
    "\n",
    "因為 tree 是 linked-list 的進化版，所以我就先複習一下我之前寫的 >>> [linked-List](https://github.com/aaron1aaron2/my-learning-note/blob/master/leet%20code/Design%20Linked%20List.py)\n"
   ]
  },
  {
   "cell_type": "markdown",
   "metadata": {},
   "source": [
    "---\n",
    "### >> 開始建一棵 Tree...\n",
    "在 linked-list 裡它只有單個 pointer ，而在 tree 裡面則會有兩個 pointer，左子點、右子點，但是我這邊多一個父節點，雖然不是必要的但是我想先留著。搞不好之後會用到。我自己又加了一個 self.leaf = True，紀錄是否是最後一個葉節點。\n",
    "\n",
    "以下程式碼都自己打的，絕無抄襲。recursive 的方式雖然很棒，但是我想不使用 recursive 的方式自己用自己的邏輯試試看。之後再去實踐 recursive 的方式。才能知道使用 recursive 會有多方便。"
   ]
  },
  {
   "cell_type": "code",
   "execution_count": null,
   "metadata": {},
   "outputs": [],
   "source": [
    "class TreeNode(object):\n",
    "    def __init__(self, value):\n",
    "        self.val = value\n",
    "        self.left = None\n",
    "        self.right = None\n",
    "        self.parent = None"
   ]
  },
  {
   "cell_type": "markdown",
   "metadata": {},
   "source": [
    "### >> 建立基本功能\n",
    "- self.root: 紀錄 root\n",
    "- insert: 新增 value 到 tree"
   ]
  },
  {
   "cell_type": "code",
   "execution_count": 49,
   "metadata": {},
   "outputs": [],
   "source": [
    "class TreeNode(object):\n",
    "    def __init__(self, value):\n",
    "        self.val = value\n",
    "        self.left = None\n",
    "        self.right = None\n",
    "        self.parent = None\n",
    "        self.leaf = True\n",
    "\n",
    "class Solution(object):\n",
    "    def __init__(self):\n",
    "        self.root = None\n",
    "        \n",
    "    def insert(self,val):\n",
    "        self.size +=1\n",
    "        if self.root:\n",
    "            new_node = node(val)\n",
    "            cur = self.root\n",
    "            while (cur.right!=None) and (cur.left!=None): \n",
    "                if val <= cur.val:\n",
    "                    cur = cur.left\n",
    "                else:\n",
    "                    cur = cur.right\n",
    "            if val <= cur.val:\n",
    "                new_node.parent = cur\n",
    "                cur.leaf = False\n",
    "                cur.left = new_node\n",
    "            else:\n",
    "                new_node.parent = cur\n",
    "                cur.leaf = False\n",
    "                cur.right = new_node       \n",
    "        else:\n",
    "            self.root = node(val)\n",
    "\n",
    "            \n",
    "        "
   ]
  },
  {
   "cell_type": "markdown",
   "metadata": {},
   "source": [
    "### >> 測試一下"
   ]
  },
  {
   "cell_type": "code",
   "execution_count": 61,
   "metadata": {},
   "outputs": [],
   "source": [
    "a = Solution()"
   ]
  },
  {
   "cell_type": "code",
   "execution_count": 52,
   "metadata": {},
   "outputs": [],
   "source": [
    "a.insert(2)\n",
    "a.insert(3)\n",
    "a.insert(4)\n",
    "a.insert(1)"
   ]
  },
  {
   "cell_type": "code",
   "execution_count": 53,
   "metadata": {},
   "outputs": [
    {
     "data": {
      "text/plain": [
       "4"
      ]
     },
     "execution_count": 53,
     "metadata": {},
     "output_type": "execute_result"
    }
   ],
   "source": [
    "a.size"
   ]
  },
  {
   "cell_type": "code",
   "execution_count": 54,
   "metadata": {},
   "outputs": [
    {
     "data": {
      "text/plain": [
       "2"
      ]
     },
     "execution_count": 54,
     "metadata": {},
     "output_type": "execute_result"
    }
   ],
   "source": [
    "a.root.val"
   ]
  },
  {
   "cell_type": "code",
   "execution_count": 55,
   "metadata": {},
   "outputs": [
    {
     "data": {
      "text/plain": [
       "False"
      ]
     },
     "execution_count": 55,
     "metadata": {},
     "output_type": "execute_result"
    }
   ],
   "source": [
    "a.root.leaf"
   ]
  },
  {
   "cell_type": "code",
   "execution_count": 56,
   "metadata": {
    "scrolled": true
   },
   "outputs": [
    {
     "data": {
      "text/plain": [
       "1"
      ]
     },
     "execution_count": 56,
     "metadata": {},
     "output_type": "execute_result"
    }
   ],
   "source": [
    "a.root.left.val"
   ]
  },
  {
   "cell_type": "code",
   "execution_count": 57,
   "metadata": {},
   "outputs": [
    {
     "data": {
      "text/plain": [
       "4"
      ]
     },
     "execution_count": 57,
     "metadata": {},
     "output_type": "execute_result"
    }
   ],
   "source": [
    "a.root.right.val"
   ]
  },
  {
   "cell_type": "code",
   "execution_count": 58,
   "metadata": {},
   "outputs": [
    {
     "data": {
      "text/plain": [
       "True"
      ]
     },
     "execution_count": 58,
     "metadata": {},
     "output_type": "execute_result"
    }
   ],
   "source": [
    "a.root.left.leaf"
   ]
  },
  {
   "cell_type": "code",
   "execution_count": 59,
   "metadata": {
    "scrolled": true
   },
   "outputs": [
    {
     "data": {
      "text/plain": [
       "2"
      ]
     },
     "execution_count": 59,
     "metadata": {},
     "output_type": "execute_result"
    }
   ],
   "source": [
    "a.root.left.parent.val"
   ]
  },
  {
   "cell_type": "markdown",
   "metadata": {},
   "source": [
    "### >>設路徑測試，方便檢查"
   ]
  },
  {
   "cell_type": "code",
   "execution_count": 229,
   "metadata": {},
   "outputs": [],
   "source": [
    "class TreeNode(object):\n",
    "    def __init__(self, value):\n",
    "        self.val = value\n",
    "        self.left = None\n",
    "        self.right = None\n",
    "        self.parent = None\n",
    "        self.leaf = True\n",
    "\n",
    "class Solution(object):\n",
    "    def __init__(self):\n",
    "        self.root = None\n",
    "        \n",
    "    def insert(self,val):\n",
    "        if self.root:\n",
    "            new_node = node(val)\n",
    "            cur = self.root\n",
    "            print('root:',cur.val)\n",
    "                        \n",
    "            while (cur.right!=None) and (cur.left!=None): \n",
    "                if val <= cur.val:\n",
    "                    cur = cur.left\n",
    "                    print('left:',cur.val)\n",
    "                else:\n",
    "                    cur = cur.right\n",
    "                    print('right:',cur.val)\n",
    "            if val <= cur.val:\n",
    "                print('left insert:',val)\n",
    "                new_node.parent = cur\n",
    "                cur.leaf = False\n",
    "                cur.left = new_node\n",
    "            else:\n",
    "                print('right insert:',val)\n",
    "                new_node.parent = cur\n",
    "                cur.leaf = False\n",
    "                cur.right = new_node       \n",
    "        else:\n",
    "            print('set root:',val)\n",
    "            self.root = node(val)\n",
    "\n",
    "            \n",
    "        "
   ]
  },
  {
   "cell_type": "code",
   "execution_count": 230,
   "metadata": {},
   "outputs": [],
   "source": [
    "a = Solution()\n",
    "a.test = True\n"
   ]
  },
  {
   "cell_type": "code",
   "execution_count": 231,
   "metadata": {},
   "outputs": [
    {
     "name": "stdout",
     "output_type": "stream",
     "text": [
      "set root: 2\n"
     ]
    }
   ],
   "source": [
    "a.insert(2)"
   ]
  },
  {
   "cell_type": "code",
   "execution_count": 232,
   "metadata": {},
   "outputs": [
    {
     "name": "stdout",
     "output_type": "stream",
     "text": [
      "root: 2\n",
      "right insert: 3\n"
     ]
    }
   ],
   "source": [
    "a.insert(3)"
   ]
  },
  {
   "cell_type": "code",
   "execution_count": 233,
   "metadata": {
    "scrolled": true
   },
   "outputs": [
    {
     "name": "stdout",
     "output_type": "stream",
     "text": [
      "root: 2\n",
      "right insert: 4\n"
     ]
    }
   ],
   "source": [
    "a.insert(4)"
   ]
  },
  {
   "cell_type": "code",
   "execution_count": 234,
   "metadata": {},
   "outputs": [
    {
     "name": "stdout",
     "output_type": "stream",
     "text": [
      "root: 2\n",
      "left insert: 1\n"
     ]
    }
   ],
   "source": [
    "a.insert(1)"
   ]
  },
  {
   "cell_type": "code",
   "execution_count": 235,
   "metadata": {
    "scrolled": true
   },
   "outputs": [
    {
     "name": "stdout",
     "output_type": "stream",
     "text": [
      "root: 2\n",
      "right: 4\n",
      "left insert: 4\n"
     ]
    }
   ],
   "source": [
    "a.insert(4)"
   ]
  },
  {
   "cell_type": "markdown",
   "metadata": {},
   "source": [
    "## 再來建立 search 功能\n",
    "其實概念跟 insert 差不多，只是返回 target 的 node。"
   ]
  },
  {
   "cell_type": "code",
   "execution_count": 26,
   "metadata": {},
   "outputs": [],
   "source": [
    "class TreeNode(object):\n",
    "    def __init__(self, value):\n",
    "        self.val = value\n",
    "        self.left = None\n",
    "        self.right = None\n",
    "        self.parent = None\n",
    "        self.leaf = True\n",
    "\n",
    "class Solution(object):\n",
    "    def __init__(self):\n",
    "        self.root = None\n",
    "\n",
    "    def insert(self, root, target):\n",
    "        new_node = TreeNode(target)\n",
    "        cur = root\n",
    "        print('root:',cur.val)    \n",
    "        while cur.leaf != True:\n",
    "            if target <= cur.val and cur.left!=None:\n",
    "                cur = cur.left\n",
    "                print('left:',cur.val)\n",
    "            elif target > cur.val and cur.right!=None:\n",
    "                cur = cur.right\n",
    "                print('right:',cur.val)\n",
    "            else:\n",
    "                break\n",
    "        if target <= cur.val:\n",
    "            print('left insert:',target)\n",
    "            new_node.parent = cur\n",
    "            cur.leaf = False\n",
    "            cur.left = new_node\n",
    "        else:\n",
    "            print('right insert:',target)\n",
    "            new_node.parent = cur\n",
    "            cur.leaf = False\n",
    "            cur.right = new_node\n",
    "        return new_node\n",
    "            \n",
    "    def search(self, root, target):\n",
    "        if root==None or target==None:\n",
    "            return None\n",
    "        if root.val == target:\n",
    "            return root\n",
    "        cur = root\n",
    "        print('root:',cur.val)  \n",
    "        while cur.right!=None or cur.left!=None:\n",
    "            if target < cur.val and cur.left!=None:\n",
    "                cur = cur.left\n",
    "                print('left:',cur.val)\n",
    "                if cur.val == target:\n",
    "                    return cur\n",
    "            elif target > cur.val and cur.right!=None:\n",
    "                cur = cur.right\n",
    "                print('right:',cur.val)\n",
    "                if cur.val == target:\n",
    "                    return cur\n",
    "            else:\n",
    "                break\n",
    "        return None"
   ]
  },
  {
   "cell_type": "markdown",
   "metadata": {},
   "source": [
    "```\n",
    "# root1\n",
    "\n",
    "    5\n",
    "   3   8\n",
    "  3   7 10\n",
    "-5    6\n",
    "```"
   ]
  },
  {
   "cell_type": "code",
   "execution_count": 27,
   "metadata": {
    "scrolled": true
   },
   "outputs": [
    {
     "data": {
      "text/plain": [
       "True"
      ]
     },
     "execution_count": 27,
     "metadata": {},
     "output_type": "execute_result"
    }
   ],
   "source": [
    "Solution().search(root1,5)==root1"
   ]
  },
  {
   "cell_type": "code",
   "execution_count": 30,
   "metadata": {},
   "outputs": [
    {
     "name": "stdout",
     "output_type": "stream",
     "text": [
      "root: 5\n",
      "right: 8\n",
      "left: 7\n",
      "left: 6\n"
     ]
    },
    {
     "data": {
      "text/plain": [
       "True"
      ]
     },
     "execution_count": 30,
     "metadata": {},
     "output_type": "execute_result"
    }
   ],
   "source": [
    "Solution().search(root1,6)==root1.right.left.left"
   ]
  },
  {
   "cell_type": "code",
   "execution_count": 31,
   "metadata": {
    "scrolled": true
   },
   "outputs": [
    {
     "name": "stdout",
     "output_type": "stream",
     "text": [
      "root: 5\n",
      "left: 3\n",
      "left: 3\n",
      "left: -5\n",
      "True\n"
     ]
    }
   ],
   "source": [
    "print(Solution().search(root1,1)==None)"
   ]
  },
  {
   "cell_type": "markdown",
   "metadata": {},
   "source": [
    "看來沒甚麼問題\n",
    "## >> 我會邊測試，邊修改delete"
   ]
  },
  {
   "cell_type": "code",
   "execution_count": 964,
   "metadata": {},
   "outputs": [],
   "source": [
    "class TreeNode(object):\n",
    "    def __init__(self, value):\n",
    "        self.val = value\n",
    "        self.left = None\n",
    "        self.right = None\n",
    "        self.parent = None\n",
    "\n",
    "class Solution(object):\n",
    "    def insert(self, root, target):\n",
    "        new_node = TreeNode(target)\n",
    "        cur = root\n",
    "        print('root:',cur.val)\n",
    "        #遊走\n",
    "        while cur.right!=None or cur.left!=None:\n",
    "            if target <= cur.val  and cur.left!=None:\n",
    "                cur.left.parent = cur\n",
    "                cur = cur.left\n",
    "                print('left:',cur.val)\n",
    "            elif target > cur.val and cur.right!=None:\n",
    "                cur.right.parent = cur\n",
    "                cur = cur.right\n",
    "                print('right:',cur.val)\n",
    "            else:\n",
    "                break\n",
    "        # 插入\n",
    "        if target <= cur.val:\n",
    "            print('left insert:',target)\n",
    "            new_node.parent = cur\n",
    "            cur.left = new_node\n",
    "        else:\n",
    "            print('right insert:',target)\n",
    "            new_node.parent = cur\n",
    "            cur.right = new_node\n",
    "        return new_node\n",
    "            \n",
    "    def search(self, root, target):\n",
    "        if root==None or target==None:\n",
    "            return None\n",
    "        if root.val == target:\n",
    "            return root\n",
    "        cur = root\n",
    "        print('root:',cur.val)  \n",
    "        while cur.right!=None or cur.left!=None:\n",
    "            if target < cur.val and cur.left!=None:\n",
    "                cur.left.parent = cur\n",
    "                cur = cur.left\n",
    "                print('left:',cur.val)\n",
    "                if cur.val == target:\n",
    "                    return cur\n",
    "            elif target > cur.val and cur.right!=None:\n",
    "                cur.right.parent = cur\n",
    "                cur = cur.right\n",
    "                print('right:',cur.val)\n",
    "                if cur.val == target:\n",
    "                    return cur\n",
    "            else:\n",
    "                return None\n",
    "\n",
    "    def delete(self, root, target):\n",
    "        root = self.delete_node(root,target)\n",
    "        print('searching target...')\n",
    "        cur = self.search(root, target)\n",
    "        if cur!=None:\n",
    "            root = self.delete(cur,target)\n",
    "        print('no target!')\n",
    "        return root\n",
    "        \n",
    "    def delete_node(self, root, target):\n",
    "        cur = self.search(root, target)\n",
    "        if cur == None:\n",
    "            print('no target!')\n",
    "            return root\n",
    "            pass\n",
    "        else:\n",
    "            if cur.left==None and cur.right==None:\n",
    "                if root==target:\n",
    "                    print('delete all node... tree is empty...')\n",
    "                    return None\n",
    "                print('break',cur.val,'&',cur.parent.val)\n",
    "                if cur.parent.val >= cur.val:\n",
    "                    cur.parent.left =None\n",
    "                else:\n",
    "                    cur.parent.right =None\n",
    "                cur.parent = None\n",
    "                \n",
    "                return root\n",
    "            \n",
    "            elif  cur.left == None and cur.right!=None:\n",
    "                if root.val == target:\n",
    "                    root.right.parent =None\n",
    "                    print('delete root',root.val,'new root',root.right.val)\n",
    "                    return root.right\n",
    "                print('break',cur.val,'&',cur.parent.val)\n",
    "                print('conect',cur.right.val,'&',cur.parent.val)\n",
    "                if cur.parent.val >= cur.val:\n",
    "                    cur.parent.left = cur.right\n",
    "                    cur.right.parent = cur.parent\n",
    "                    cur.parent = None\n",
    "                else:\n",
    "                    cur.parent.right = cur.right\n",
    "                    cur.right.parent = cur.parent\n",
    "                    cur.parent = None\n",
    "                print('searching target...')\n",
    "                if self.search(root, target)!=None:\n",
    "                    root = self.delete(root,target)\n",
    "                print('no target!')\n",
    "                \n",
    "                return root\n",
    "            \n",
    "            elif cur.left != None and cur.right==None and root.val == target:\n",
    "                print('delete root',root.val,'new root',root.left.val)\n",
    "                root.left.parent==None\n",
    "                \n",
    "                return root.left\n",
    "            \n",
    "            elif cur.left!=None and  cur.right!=None:\n",
    "                if root.val == target:\n",
    "                    cur = root.left\n",
    "                    if cur.right !=None:\n",
    "                        while cur.right !=None:\n",
    "                            cur = cur.right\n",
    "                    else:  \n",
    "                        print('delete root ',root.val,'new root',root.left.val)\n",
    "                        root.left.right = root.right\n",
    "                        root.left.right.parent = None\n",
    "                        return root.left\n",
    "                    \n",
    "                    cur.parent.right =None\n",
    "                    cur.parent = None\n",
    "\n",
    "                    root.right.parent = cur\n",
    "                    root.left.parent = cur\n",
    "                    if cur.left != None:\n",
    "                        global node_insert\n",
    "                        node_insert = cur.left\n",
    "                        cur.right = root.right\n",
    "                        cur.left = root.left\n",
    "                        new = self.insert(cur,node_insert.val)\n",
    "                        new.right = node_insert.right\n",
    "                        new.left = node_insert.left\n",
    "                        return cur\n",
    "                    cur.right = root.right\n",
    "                    cur.left = root.left\n",
    "                    print('delete root ',root.val,'new root',cur.val)\n",
    "                    return cur\n",
    "                print('break',cur.val,'&',cur.parent.val)\n",
    "                print('conect',cur.left.val,'&',cur.parent.val)\n",
    "                print('conect',cur.left.val,'&',cur.right.val)\n",
    "                if cur.parent.val >= cur.val:\n",
    "                    cur.parent.left = cur.left\n",
    "                    cur.parent.left.parent = cur.parent\n",
    "                    cur.parent.left.right = cur.right\n",
    "                    cur.right.parent = cur.parent.left\n",
    "                else:\n",
    "                    cur.parent.right = cur.left\n",
    "                    cur.parent.right.parent = cur.parent\n",
    "                    cur.parent.right.right = cur.right\n",
    "                    cur.right.parent = cur.parent.right\n",
    "                return root"
   ]
  },
  {
   "cell_type": "code",
   "execution_count": 965,
   "metadata": {},
   "outputs": [],
   "source": [
    "class TreeNode(object):\n",
    "    def __init__(self, value):\n",
    "        self.val = value\n",
    "        self.left = None\n",
    "        self.right = None\n",
    "\n",
    "root1 = TreeNode(5)\n",
    "root1.left = TreeNode(3)\n",
    "root1.left.left = TreeNode(3)\n",
    "root1.left.left.left = TreeNode(-5)\n",
    "\n",
    "root1.right = TreeNode(8)\n",
    "root1.right.right = TreeNode(10)\n",
    "root1.right.left = TreeNode(7)\n",
    "root1.right.left.left = TreeNode(6)"
   ]
  },
  {
   "cell_type": "markdown",
   "metadata": {},
   "source": [
    "## 測試\n",
    "```\n",
    "# root1\n",
    "\n",
    "    5\n",
    "   3   8\n",
    "  3   7 10\n",
    "-5    6\n",
    "```\n",
    "### 1. 檢查測值"
   ]
  },
  {
   "cell_type": "code",
   "execution_count": 966,
   "metadata": {},
   "outputs": [],
   "source": [
    "import copy\n",
    "test=copy.deepcopy(root1)"
   ]
  },
  {
   "cell_type": "code",
   "execution_count": 967,
   "metadata": {},
   "outputs": [
    {
     "name": "stdout",
     "output_type": "stream",
     "text": [
      "True\n",
      "True\n",
      "True\n",
      "True\n",
      "True\n",
      "True\n",
      "True\n",
      "True\n",
      "True\n"
     ]
    }
   ],
   "source": [
    "print(test.val==5)\n",
    "print(test.left.val==3)\n",
    "print(test.left.left.val==3)\n",
    "print(test.left.left.right==None)\n",
    "print(test.left.left.left.val==-5)\n",
    "print(test.right.val==8)\n",
    "print(test.right.right.val==10)\n",
    "print(test.right.left.val==7)\n",
    "print(test.right.left.left.val==6)"
   ]
  },
  {
   "cell_type": "markdown",
   "metadata": {},
   "source": [
    "### 2. search\n",
    "```\n",
    "# root1\n",
    "\n",
    "    5\n",
    "   3   8\n",
    "  3   7 10\n",
    "-5   6\n",
    "```"
   ]
  },
  {
   "cell_type": "code",
   "execution_count": 968,
   "metadata": {
    "scrolled": false
   },
   "outputs": [
    {
     "name": "stdout",
     "output_type": "stream",
     "text": [
      "root: 5\n",
      "left: 3\n",
      "left: 3\n",
      "left: -5\n"
     ]
    },
    {
     "data": {
      "text/plain": [
       "True"
      ]
     },
     "execution_count": 968,
     "metadata": {},
     "output_type": "execute_result"
    }
   ],
   "source": [
    "Solution().search(test,-5)==test.left.left.left"
   ]
  },
  {
   "cell_type": "code",
   "execution_count": 969,
   "metadata": {},
   "outputs": [
    {
     "name": "stdout",
     "output_type": "stream",
     "text": [
      "root: 5\n",
      "right: 8\n",
      "left: 7\n",
      "left: 6\n"
     ]
    },
    {
     "data": {
      "text/plain": [
       "True"
      ]
     },
     "execution_count": 969,
     "metadata": {},
     "output_type": "execute_result"
    }
   ],
   "source": [
    "Solution().search(test,6)==test.right.left.left"
   ]
  },
  {
   "cell_type": "code",
   "execution_count": 970,
   "metadata": {},
   "outputs": [
    {
     "name": "stdout",
     "output_type": "stream",
     "text": [
      "root: 5\n",
      "right: 8\n",
      "right: 10\n"
     ]
    },
    {
     "data": {
      "text/plain": [
       "True"
      ]
     },
     "execution_count": 970,
     "metadata": {},
     "output_type": "execute_result"
    }
   ],
   "source": [
    "Solution().search(test,10)==test.right.right"
   ]
  },
  {
   "cell_type": "markdown",
   "metadata": {},
   "source": [
    "### 3.insert\n",
    "```\n",
    "# root1\n",
    "\n",
    "    5\n",
    "   3   8\n",
    "  3   7 10\n",
    "-5   6\n",
    "```"
   ]
  },
  {
   "cell_type": "code",
   "execution_count": 971,
   "metadata": {},
   "outputs": [
    {
     "name": "stdout",
     "output_type": "stream",
     "text": [
      "root: 5\n",
      "right: 8\n",
      "left: 7\n",
      "left: 6\n",
      "right insert: 7\n"
     ]
    },
    {
     "data": {
      "text/plain": [
       "True"
      ]
     },
     "execution_count": 971,
     "metadata": {},
     "output_type": "execute_result"
    }
   ],
   "source": [
    "Solution().insert(test,7)==test.right.left.left.right"
   ]
  },
  {
   "cell_type": "code",
   "execution_count": 972,
   "metadata": {},
   "outputs": [
    {
     "name": "stdout",
     "output_type": "stream",
     "text": [
      "root: 5\n",
      "left: 3\n",
      "left: 3\n",
      "left: -5\n",
      "right insert: 3\n"
     ]
    },
    {
     "data": {
      "text/plain": [
       "True"
      ]
     },
     "execution_count": 972,
     "metadata": {},
     "output_type": "execute_result"
    }
   ],
   "source": [
    "Solution().insert(test,3)==test.left.left.left.right"
   ]
  },
  {
   "cell_type": "markdown",
   "metadata": {},
   "source": [
    "### 4.Delete\n",
    "```\n",
    "# root1\n",
    "\n",
    "    5\n",
    "   3   8\n",
    "  3   7 10\n",
    "-5   6\n",
    "  3   7\n",
    "```\n",
    "### 刪除不存在值"
   ]
  },
  {
   "cell_type": "code",
   "execution_count": 973,
   "metadata": {
    "scrolled": true
   },
   "outputs": [
    {
     "name": "stdout",
     "output_type": "stream",
     "text": [
      "root: 5\n",
      "left: 3\n",
      "left: 3\n",
      "left: -5\n",
      "right: 3\n",
      "no target!\n",
      "searching target...\n",
      "root: 5\n",
      "left: 3\n",
      "left: 3\n",
      "left: -5\n",
      "right: 3\n",
      "no target!\n"
     ]
    },
    {
     "data": {
      "text/plain": [
       "<__main__.TreeNode at 0x20661a2a408>"
      ]
     },
     "execution_count": 973,
     "metadata": {},
     "output_type": "execute_result"
    }
   ],
   "source": [
    "Solution().delete(test,-1)"
   ]
  },
  {
   "cell_type": "code",
   "execution_count": 974,
   "metadata": {
    "scrolled": true
   },
   "outputs": [
    {
     "name": "stdout",
     "output_type": "stream",
     "text": [
      "root: 5\n",
      "right: 8\n",
      "right: 10\n",
      "no target!\n",
      "searching target...\n",
      "root: 5\n",
      "right: 8\n",
      "right: 10\n",
      "no target!\n"
     ]
    },
    {
     "data": {
      "text/plain": [
       "<__main__.TreeNode at 0x20661a2a408>"
      ]
     },
     "execution_count": 974,
     "metadata": {},
     "output_type": "execute_result"
    }
   ],
   "source": [
    "Solution().delete(test,11)"
   ]
  },
  {
   "cell_type": "markdown",
   "metadata": {},
   "source": [
    "### 刪除存在值(雙子)"
   ]
  },
  {
   "cell_type": "code",
   "execution_count": 975,
   "metadata": {},
   "outputs": [
    {
     "name": "stdout",
     "output_type": "stream",
     "text": [
      "root: 5\n",
      "right: 8\n",
      "break 8 & 5\n",
      "conect 7 & 5\n",
      "conect 7 & 10\n",
      "searching target...\n",
      "root: 5\n",
      "right: 7\n",
      "right: 10\n",
      "no target!\n"
     ]
    }
   ],
   "source": [
    "test=Solution().delete(test,8)"
   ]
  },
  {
   "cell_type": "markdown",
   "metadata": {},
   "source": [
    "### >>測試目標結果\n",
    "```\n",
    "# root1\n",
    "\n",
    "    5\n",
    "   3   7\n",
    "  3   6 10\n",
    "-5     7\n",
    "  3   \n",
    "```"
   ]
  },
  {
   "cell_type": "code",
   "execution_count": 976,
   "metadata": {},
   "outputs": [
    {
     "name": "stdout",
     "output_type": "stream",
     "text": [
      "True\n",
      "True\n",
      "True\n",
      "True\n",
      "True\n",
      "True\n",
      "True\n",
      "True\n",
      "True\n",
      "True\n",
      "True\n",
      "True\n",
      "True\n"
     ]
    }
   ],
   "source": [
    "a=test\n",
    "print(a.val==5)\n",
    "print(a.right.val==7)\n",
    "print(a.right.right.val==10)\n",
    "print(a.right.right.right==None)\n",
    "print(a.right.left.val==6)\n",
    "print(a.right.left.right.val==7)\n",
    "print(a.right.left.left==None)\n",
    "print(a.left.val==3)\n",
    "print(a.left.left.val==3)\n",
    "print(a.left.right==None)\n",
    "print(a.left.left.left.val==-5)\n",
    "print(a.left.left.left.left==None)\n",
    "print(a.left.left.left.right.val==3)"
   ]
  },
  {
   "cell_type": "markdown",
   "metadata": {},
   "source": [
    "### 刪除存在值(root)"
   ]
  },
  {
   "cell_type": "code",
   "execution_count": 977,
   "metadata": {
    "scrolled": false
   },
   "outputs": [
    {
     "name": "stdout",
     "output_type": "stream",
     "text": [
      "delete root  5 new root 3\n",
      "searching target...\n",
      "root: 3\n",
      "right: 7\n",
      "left: 6\n",
      "no target!\n"
     ]
    }
   ],
   "source": [
    "a=Solution().delete(a,5)"
   ]
  },
  {
   "cell_type": "code",
   "execution_count": 978,
   "metadata": {},
   "outputs": [
    {
     "name": "stdout",
     "output_type": "stream",
     "text": [
      "root: 3\n",
      "right: 7\n",
      "left: 6\n"
     ]
    },
    {
     "data": {
      "text/plain": [
       "True"
      ]
     },
     "execution_count": 978,
     "metadata": {},
     "output_type": "execute_result"
    }
   ],
   "source": [
    "Solution().search(a,5)==None"
   ]
  },
  {
   "cell_type": "markdown",
   "metadata": {},
   "source": [
    "### >>測試目標結果\n",
    "```\n",
    "# root1\n",
    "\n",
    "    3\n",
    "   3   7\n",
    " -5   6 10\n",
    "  3   7  \n",
    "```"
   ]
  },
  {
   "cell_type": "code",
   "execution_count": 979,
   "metadata": {},
   "outputs": [
    {
     "name": "stdout",
     "output_type": "stream",
     "text": [
      "True\n",
      "True\n",
      "True\n",
      "True\n",
      "True\n",
      "True\n",
      "True\n",
      "True\n",
      "True\n",
      "True\n",
      "True\n",
      "True\n"
     ]
    }
   ],
   "source": [
    "print(a.val==3)\n",
    "print(a.right.val==7)\n",
    "print(a.right.right.val==10)\n",
    "print(a.right.right.right==None)\n",
    "print(a.right.left.val==6)\n",
    "print(a.right.left.right.val==7)\n",
    "print(a.right.left.left==None)\n",
    "print(a.left.val==3)\n",
    "print(a.left.left.val==-5)\n",
    "print(a.left.right==None)\n",
    "print(a.left.left.right.val==3)\n",
    "print(a.left.left.left==None)"
   ]
  },
  {
   "cell_type": "markdown",
   "metadata": {},
   "source": [
    "### 刪除存在值(葉節點)"
   ]
  },
  {
   "cell_type": "code",
   "execution_count": 980,
   "metadata": {},
   "outputs": [
    {
     "name": "stdout",
     "output_type": "stream",
     "text": [
      "root: 3\n",
      "left: 3\n",
      "left: -5\n",
      "break -5 & 3\n",
      "conect 3 & 3\n",
      "searching target...\n",
      "root: 3\n",
      "left: 3\n",
      "left: 3\n",
      "no target!\n",
      "searching target...\n",
      "root: 3\n",
      "left: 3\n",
      "left: 3\n",
      "no target!\n"
     ]
    }
   ],
   "source": [
    "a=Solution().delete(a,-5)"
   ]
  },
  {
   "cell_type": "code",
   "execution_count": 981,
   "metadata": {},
   "outputs": [
    {
     "name": "stdout",
     "output_type": "stream",
     "text": [
      "root: 3\n",
      "right: 7\n",
      "right: 10\n",
      "break 10 & 7\n",
      "searching target...\n",
      "root: 3\n",
      "right: 7\n",
      "no target!\n"
     ]
    }
   ],
   "source": [
    "a=Solution().delete(a,10)"
   ]
  },
  {
   "cell_type": "markdown",
   "metadata": {},
   "source": [
    "### >>測試目標結果\n",
    "```\n",
    "# root1\n",
    "\n",
    "    3\n",
    "   3   7\n",
    "  3   6 \n",
    "      7  \n",
    "``` "
   ]
  },
  {
   "cell_type": "code",
   "execution_count": 982,
   "metadata": {},
   "outputs": [
    {
     "name": "stdout",
     "output_type": "stream",
     "text": [
      "True\n",
      "True\n",
      "True\n",
      "True\n",
      "True\n",
      "True\n",
      "True\n",
      "True\n",
      "True\n"
     ]
    }
   ],
   "source": [
    "print(a.val==3)\n",
    "print(a.right.val==7)\n",
    "print(a.right.right==None)\n",
    "print(a.right.left.val==6)\n",
    "print(a.right.left.right.val==7)\n",
    "print(a.right.left.left==None)\n",
    "print(a.left.val==3)\n",
    "print(a.left.left.val==3)\n",
    "print(a.left.left.left==None)"
   ]
  },
  {
   "cell_type": "code",
   "execution_count": 983,
   "metadata": {},
   "outputs": [
    {
     "name": "stdout",
     "output_type": "stream",
     "text": [
      "root: 3\n",
      "left: 3\n",
      "left: 3\n"
     ]
    },
    {
     "data": {
      "text/plain": [
       "True"
      ]
     },
     "execution_count": 983,
     "metadata": {},
     "output_type": "execute_result"
    }
   ],
   "source": [
    "Solution().search(a,-5)==None"
   ]
  },
  {
   "cell_type": "code",
   "execution_count": 984,
   "metadata": {
    "scrolled": true
   },
   "outputs": [
    {
     "name": "stdout",
     "output_type": "stream",
     "text": [
      "root: 3\n",
      "right: 7\n"
     ]
    },
    {
     "data": {
      "text/plain": [
       "True"
      ]
     },
     "execution_count": 984,
     "metadata": {},
     "output_type": "execute_result"
    }
   ],
   "source": [
    "Solution().search(a,10)==None"
   ]
  },
  {
   "cell_type": "markdown",
   "metadata": {},
   "source": [
    "### 刪除重複值"
   ]
  },
  {
   "cell_type": "code",
   "execution_count": 985,
   "metadata": {
    "scrolled": true
   },
   "outputs": [
    {
     "name": "stdout",
     "output_type": "stream",
     "text": [
      "delete root  3 new root 3\n",
      "searching target...\n",
      "delete root  3 new root 3\n",
      "searching target...\n",
      "delete root 3 new root 7\n",
      "searching target...\n",
      "root: 7\n",
      "left: 6\n",
      "no target!\n",
      "no target!\n",
      "no target!\n"
     ]
    }
   ],
   "source": [
    "a=Solution().delete(a,3)"
   ]
  },
  {
   "cell_type": "markdown",
   "metadata": {},
   "source": [
    "### >>測試目標結果\n",
    "```\n",
    "# root1\n",
    "   7\n",
    "  6 \n",
    "   7  \n",
    "``` "
   ]
  },
  {
   "cell_type": "code",
   "execution_count": 986,
   "metadata": {},
   "outputs": [
    {
     "name": "stdout",
     "output_type": "stream",
     "text": [
      "True\n",
      "True\n",
      "True\n",
      "True\n",
      "True\n",
      "True\n",
      "True\n"
     ]
    }
   ],
   "source": [
    "print(a.val==7)\n",
    "print(a.right==None)\n",
    "print(a.left.val==6)\n",
    "print(a.left.left==None)\n",
    "print(a.left.right.val==7)\n",
    "print(a.left.right.left==None)\n",
    "print(a.left.right.right==None)"
   ]
  },
  {
   "cell_type": "markdown",
   "metadata": {},
   "source": [
    "### >> 再來就是寫 modify和 整理格式"
   ]
  },
  {
   "cell_type": "code",
   "execution_count": 1134,
   "metadata": {},
   "outputs": [],
   "source": [
    "class TreeNode(object):\n",
    "    def __init__(self, x):\n",
    "        self.val = x\n",
    "        self.left = None\n",
    "        self.right = None\n",
    "        self.parent = None\n",
    "\n",
    "class Solution(object):\n",
    "    def insert(self, root, val):\n",
    "        new_node = TreeNode(val)\n",
    "        cur = root\n",
    "        print('root:',cur.val)\n",
    "        #遊走\n",
    "        while cur.right!=None or cur.left!=None:\n",
    "            if val <= cur.val  and cur.left!=None:\n",
    "                cur.left.parent = cur\n",
    "                cur = cur.left\n",
    "                print('left:',cur.val)\n",
    "            elif val > cur.val and cur.right!=None:\n",
    "                cur.right.parent = cur\n",
    "                cur = cur.right\n",
    "                print('right:',cur.val)\n",
    "            else:\n",
    "                break\n",
    "        # 插入\n",
    "        if val <= cur.val:\n",
    "            print('left insert:',val)\n",
    "            new_node.parent = cur\n",
    "            cur.left = new_node\n",
    "        else:\n",
    "            print('right insert:',val)\n",
    "            new_node.parent = cur\n",
    "            cur.right = new_node\n",
    "        return new_node\n",
    "            \n",
    "    def search(self, root, target):\n",
    "        if root==None or target==None:\n",
    "            return None\n",
    "        if root.val == target:\n",
    "            return root\n",
    "        cur = root\n",
    "        print('root:',cur.val)  \n",
    "        while cur.right!=None or cur.left!=None:\n",
    "            if target < cur.val and cur.left!=None:\n",
    "                cur.left.parent = cur\n",
    "                cur = cur.left\n",
    "                print('left:',cur.val)\n",
    "                if cur.val == target:\n",
    "                    return cur\n",
    "            elif target > cur.val and cur.right!=None:\n",
    "                cur.right.parent = cur\n",
    "                cur = cur.right\n",
    "                print('right:',cur.val)\n",
    "                if cur.val == target:\n",
    "                    return cur\n",
    "            else:\n",
    "                return None\n",
    "\n",
    "    def delete(self, root, target):\n",
    "        root = self.delete_node(root,target)\n",
    "        print('searching target...')\n",
    "        cur = self.search(root, target)\n",
    "        if cur!=None:\n",
    "            root = self.delete(cur,target)\n",
    "        print('no target!')\n",
    "        return root\n",
    "        \n",
    "    def delete_node(self, root, target):\n",
    "        cur = self.search(root, target)\n",
    "        if cur == None:\n",
    "            print('no target!')\n",
    "            return root\n",
    "            pass\n",
    "        else:\n",
    "            if cur.left==None and cur.right==None:\n",
    "                if root==target:\n",
    "                    print('delete all node... tree is empty...')\n",
    "                    return None\n",
    "                print('break',cur.val,'&',cur.parent.val)\n",
    "                if cur.parent.val >= cur.val:\n",
    "                    cur.parent.left =None\n",
    "                else:\n",
    "                    cur.parent.right =None\n",
    "                cur.parent = None\n",
    "                \n",
    "                return root\n",
    "            \n",
    "            elif  cur.left == None and cur.right!=None:\n",
    "                if root.val == target:\n",
    "                    root.right.parent =None\n",
    "                    print('delete root',root.val,'new root',root.right.val)\n",
    "                    return root.right\n",
    "                print('break',cur.val,'&',cur.parent.val)\n",
    "                print('conect',cur.right.val,'&',cur.parent.val)\n",
    "                if cur.parent.val >= cur.val:\n",
    "                    cur.parent.left = cur.right\n",
    "                    cur.right.parent = cur.parent\n",
    "                    cur.parent = None\n",
    "                else:\n",
    "                    cur.parent.right = cur.right\n",
    "                    cur.right.parent = cur.parent\n",
    "                    cur.parent = None\n",
    "                \n",
    "                return root\n",
    "            \n",
    "            elif cur.left != None and cur.right==None:\n",
    "                if root.val == target:\n",
    "                    print('delete root',root.val,'new root',root.left.val)\n",
    "                    root.left.parent==None\n",
    "                    return root.left\n",
    "                print('break',cur.val,'&',cur.parent.val)\n",
    "                print('conect',cur.left.val,'&',cur.parent.val)\n",
    "                if cur.parent.val >= cur.val:\n",
    "                    cur.parent.left = cur.left\n",
    "                    cur.left.parent = cur.parent\n",
    "                    cur.parent = None\n",
    "                else:\n",
    "                    cur.parent.right = cur.left\n",
    "                    cur.left.parent = cur.parent\n",
    "                    cur.parent = None\n",
    "\n",
    "                \n",
    "                return root\n",
    "                \n",
    "            \n",
    "            elif cur.left!=None and  cur.right!=None:\n",
    "                if root.val == target:\n",
    "                    cur = root.left\n",
    "                    if cur.right !=None:\n",
    "                        while cur.right !=None:\n",
    "                            cur = cur.right\n",
    "                    else:  \n",
    "                        print('delete root ',root.val,'new root',root.left.val)\n",
    "                        root.left.right = root.right\n",
    "                        root.left.right.parent = None\n",
    "                        return root.left\n",
    "                    \n",
    "                    cur.parent.right =None\n",
    "                    cur.parent = None\n",
    "\n",
    "                    root.right.parent = cur\n",
    "                    root.left.parent = cur\n",
    "                    if cur.left != None:\n",
    "                        global node_insert\n",
    "                        node_insert = cur.left\n",
    "                        cur.right = root.right\n",
    "                        cur.left = root.left\n",
    "                        new = self.insert(cur,node_insert.val)\n",
    "                        new.right = node_insert.right\n",
    "                        new.left = node_insert.left\n",
    "                        return cur\n",
    "                    cur.right = root.right\n",
    "                    cur.left = root.left\n",
    "                    print('delete root ',root.val,'new root',cur.val)\n",
    "                    return cur\n",
    "                print('break',cur.val,'&',cur.parent.val)\n",
    "                print('conect',cur.left.val,'&',cur.parent.val)\n",
    "                print('conect',cur.left.val,'&',cur.right.val)\n",
    "                if cur.parent.val >= cur.val:\n",
    "                    cur.parent.left = cur.left\n",
    "                    cur.parent.left.parent = cur.parent\n",
    "                    cur.parent.left.right = cur.right\n",
    "                    cur.right.parent = cur.parent.left\n",
    "                else:\n",
    "                    cur.parent.right = cur.left\n",
    "                    cur.parent.right.parent = cur.parent\n",
    "                    cur.parent.right.right = cur.right\n",
    "                    cur.right.parent = cur.parent.right\n",
    "                    \n",
    "                return root\n",
    " \n",
    "    def modify(self, root, target, new_val):\n",
    "        while self.search(root, target)!=None:\n",
    "            root = self.delete_node(root,target)\n",
    "            self.insert(root, new_val)\n",
    "        return root"
   ]
  },
  {
   "cell_type": "markdown",
   "metadata": {},
   "source": [
    "## 測試\n",
    "```\n",
    "# root1\n",
    "\n",
    "    5\n",
    "   3   8\n",
    "  3   7 10\n",
    "-5    6\n",
    "```"
   ]
  },
  {
   "cell_type": "code",
   "execution_count": 1135,
   "metadata": {},
   "outputs": [],
   "source": [
    "import copy\n",
    "test=copy.deepcopy(root1)"
   ]
  },
  {
   "cell_type": "code",
   "execution_count": 1136,
   "metadata": {},
   "outputs": [
    {
     "name": "stdout",
     "output_type": "stream",
     "text": [
      "True\n",
      "True\n",
      "True\n",
      "True\n",
      "True\n",
      "True\n",
      "True\n",
      "True\n",
      "True\n"
     ]
    }
   ],
   "source": [
    "print(test.val==5)\n",
    "print(test.left.val==3)\n",
    "print(test.left.left.val==3)\n",
    "print(test.left.left.right==None)\n",
    "print(test.left.left.left.val==-5)\n",
    "print(test.right.val==8)\n",
    "print(test.right.right.val==10)\n",
    "print(test.right.left.val==7)\n",
    "print(test.right.left.left.val==6)"
   ]
  },
  {
   "cell_type": "markdown",
   "metadata": {},
   "source": [
    "### 5.modify"
   ]
  },
  {
   "cell_type": "code",
   "execution_count": 1137,
   "metadata": {},
   "outputs": [
    {
     "name": "stdout",
     "output_type": "stream",
     "text": [
      "root: 5\n",
      "left: 3\n"
     ]
    }
   ],
   "source": [
    "a = Solution().modify(test, 4, 1)"
   ]
  },
  {
   "cell_type": "code",
   "execution_count": 1138,
   "metadata": {},
   "outputs": [
    {
     "name": "stdout",
     "output_type": "stream",
     "text": [
      "True\n",
      "True\n",
      "True\n",
      "True\n",
      "True\n",
      "True\n",
      "True\n",
      "True\n",
      "True\n"
     ]
    }
   ],
   "source": [
    "print(test.val==5)\n",
    "print(test.left.val==3)\n",
    "print(test.left.left.val==3)\n",
    "print(test.left.left.right==None)\n",
    "print(test.left.left.left.val==-5)\n",
    "print(test.right.val==8)\n",
    "print(test.right.right.val==10)\n",
    "print(test.right.left.val==7)\n",
    "print(test.right.left.left.val==6)"
   ]
  },
  {
   "cell_type": "code",
   "execution_count": 1139,
   "metadata": {},
   "outputs": [
    {
     "name": "stdout",
     "output_type": "stream",
     "text": [
      "root: 5\n",
      "left: 3\n"
     ]
    }
   ],
   "source": [
    "a = Solution().search(test,3)"
   ]
  },
  {
   "cell_type": "code",
   "execution_count": 1140,
   "metadata": {},
   "outputs": [
    {
     "data": {
      "text/plain": [
       "3"
      ]
     },
     "execution_count": 1140,
     "metadata": {},
     "output_type": "execute_result"
    }
   ],
   "source": [
    "a.val"
   ]
  },
  {
   "cell_type": "code",
   "execution_count": 1141,
   "metadata": {},
   "outputs": [
    {
     "name": "stdout",
     "output_type": "stream",
     "text": [
      "root: 5\n",
      "left: 3\n",
      "root: 5\n",
      "left: 3\n",
      "break 3 & 5\n",
      "conect 3 & 5\n",
      "root: 5\n",
      "left: 3\n",
      "left: -5\n",
      "right insert: 1\n",
      "root: 5\n",
      "left: 3\n",
      "root: 5\n",
      "left: 3\n",
      "break 3 & 5\n",
      "conect -5 & 5\n",
      "root: 5\n",
      "left: -5\n",
      "right: 1\n",
      "left insert: 1\n",
      "root: 5\n",
      "left: -5\n",
      "right: 1\n"
     ]
    }
   ],
   "source": [
    " a= Solution().modify(test, 3, 1)"
   ]
  },
  {
   "cell_type": "markdown",
   "metadata": {},
   "source": [
    "```\n",
    "# root1\n",
    "\n",
    "    5\n",
    "   3   8\n",
    " -5   7 10\n",
    "  1  6\n",
    "```\n",
    "\n",
    "```\n",
    "# root1\n",
    "\n",
    "    5\n",
    "  -5   8\n",
    "   1 7 10\n",
    "  1  6\n",
    "```"
   ]
  },
  {
   "cell_type": "code",
   "execution_count": 1142,
   "metadata": {
    "scrolled": true
   },
   "outputs": [
    {
     "name": "stdout",
     "output_type": "stream",
     "text": [
      "True\n",
      "True\n",
      "True\n",
      "True\n",
      "True\n",
      "True\n",
      "True\n",
      "True\n",
      "True\n"
     ]
    }
   ],
   "source": [
    "print(a.val==5)\n",
    "print(a.left.val==-5)\n",
    "print(a.left.right.val==1)\n",
    "print(a.left.left==None)\n",
    "print(a.left.right.left.val==1)\n",
    "print(a.right.val==8)\n",
    "print(a.right.right.val==10)\n",
    "print(a.right.left.val==7)\n",
    "print(a.right.left.left.val==6)"
   ]
  },
  {
   "cell_type": "markdown",
   "metadata": {},
   "source": [
    "# 最後的整理格式\n"
   ]
  },
  {
   "cell_type": "code",
   "execution_count": null,
   "metadata": {},
   "outputs": [],
   "source": [
    "class TreeNode(object):\n",
    "    def __init__(self, x):\n",
    "        self.val = x\n",
    "        self.left = None\n",
    "        self.right = None\n",
    "        self.parent = None\n",
    "\n",
    "class Solution(object):\n",
    "    def insert(self, root, val):\n",
    "        new_node = TreeNode(val)\n",
    "        cur = root\n",
    "        \n",
    "        while cur.right!=None or cur.left!=None:\n",
    "            if val <= cur.val  and cur.left!=None:\n",
    "                cur.left.parent = cur\n",
    "                cur = cur.left\n",
    "            elif val > cur.val and cur.right!=None:\n",
    "                cur.right.parent = cur\n",
    "                cur = cur.right\n",
    "            else:\n",
    "                break\n",
    "\n",
    "        if val <= cur.val:\n",
    "            new_node.parent = cur\n",
    "            cur.left = new_node\n",
    "        else:\n",
    "            new_node.parent = cur\n",
    "            cur.right = new_node\n",
    "        return new_node\n",
    "            \n",
    "    def search(self, root, target):\n",
    "        if root==None or target==None:\n",
    "            return None\n",
    "        if root.val == target:\n",
    "            return root\n",
    "        cur = root\n",
    "        while cur.right!=None or cur.left!=None:\n",
    "            if target < cur.val and cur.left!=None:\n",
    "                cur.left.parent = cur\n",
    "                cur = cur.left\n",
    "                if cur.val == target:\n",
    "                    return cur\n",
    "            elif target > cur.val and cur.right!=None:\n",
    "                cur.right.parent = cur\n",
    "                cur = cur.right\n",
    "                if cur.val == target:\n",
    "                    return cur\n",
    "            else:\n",
    "                return None\n",
    "\n",
    "    def delete(self, root, target):\n",
    "        root = self.delete_node(root,target)\n",
    "        cur = self.search(root, target)\n",
    "        if cur!=None:\n",
    "            root = self.delete(cur,target)\n",
    "        return root\n",
    "        \n",
    "    def delete_node(self, root, target):\n",
    "        cur = self.search(root, target)\n",
    "        if cur == None:\n",
    "            return root\n",
    "            pass\n",
    "        else:\n",
    "            if cur.left==None and cur.right==None:\n",
    "                if root==target:\n",
    "                    return None\n",
    "                if cur.parent.val >= cur.val:\n",
    "                    cur.parent.left =None\n",
    "                else:\n",
    "                    cur.parent.right =None\n",
    "                cur.parent = None\n",
    "                \n",
    "                return root\n",
    "            \n",
    "            elif  cur.left == None and cur.right!=None:\n",
    "                if root.val == target:\n",
    "                    root.right.parent =None\n",
    "                    return root.right\n",
    "                if cur.parent.val >= cur.val:\n",
    "                    cur.parent.left = cur.right\n",
    "                    cur.right.parent = cur.parent\n",
    "                    cur.parent = None\n",
    "                else:\n",
    "                    cur.parent.right = cur.right\n",
    "                    cur.right.parent = cur.parent\n",
    "                    cur.parent = None\n",
    "                \n",
    "                return root\n",
    "            \n",
    "            elif cur.left != None and cur.right==None:\n",
    "                if root.val == target:\n",
    "                    root.left.parent==None\n",
    "                    return root.left\n",
    "                if cur.parent.val >= cur.val:\n",
    "                    cur.parent.left = cur.left\n",
    "                    cur.left.parent = cur.parent\n",
    "                    cur.parent = None\n",
    "                else:\n",
    "                    cur.parent.right = cur.left\n",
    "                    cur.left.parent = cur.parent\n",
    "                    cur.parent = None\n",
    "                    \n",
    "                return root\n",
    "                \n",
    "            elif cur.left!=None and  cur.right!=None:\n",
    "                if root.val == target:\n",
    "                    cur = root.left\n",
    "                    if cur.right !=None:\n",
    "                        while cur.right !=None:\n",
    "                            cur = cur.right\n",
    "                    else:  \n",
    "                        root.left.right = root.right\n",
    "                        root.left.right.parent = None\n",
    "                        return root.left\n",
    "                    \n",
    "                    cur.parent.right =None\n",
    "                    cur.parent = None\n",
    "\n",
    "                    root.right.parent = cur\n",
    "                    root.left.parent = cur\n",
    "                    if cur.left != None:\n",
    "                        global node_insert\n",
    "                        node_insert = cur.left\n",
    "                        cur.right = root.right\n",
    "                        cur.left = root.left\n",
    "                        new = self.insert(cur,node_insert.val)\n",
    "                        new.right = node_insert.right\n",
    "                        new.left = node_insert.left\n",
    "                        return cur\n",
    "                    cur.right = root.right\n",
    "                    cur.left = root.left\n",
    "\n",
    "                    return cur\n",
    "\n",
    "                if cur.parent.val >= cur.val:\n",
    "                    cur.parent.left = cur.left\n",
    "                    cur.parent.left.parent = cur.parent\n",
    "                    cur.parent.left.right = cur.right\n",
    "                    cur.right.parent = cur.parent.left\n",
    "                else:\n",
    "                    cur.parent.right = cur.left\n",
    "                    cur.parent.right.parent = cur.parent\n",
    "                    cur.parent.right.right = cur.right\n",
    "                    cur.right.parent = cur.parent.right\n",
    "                    \n",
    "                return root\n",
    " \n",
    "    def modify(self, root, target, new_val):\n",
    "        while self.search(root, target)!=None:\n",
    "            root = self.delete_node(root,target)\n",
    "            self.insert(root, new_val)\n",
    "        return root"
   ]
  }
 ],
 "metadata": {
  "kernelspec": {
   "display_name": "Python 3",
   "language": "python",
   "name": "python3"
  },
  "language_info": {
   "codemirror_mode": {
    "name": "ipython",
    "version": 3
   },
   "file_extension": ".py",
   "mimetype": "text/x-python",
   "name": "python",
   "nbconvert_exporter": "python",
   "pygments_lexer": "ipython3",
   "version": "3.7.4"
  }
 },
 "nbformat": 4,
 "nbformat_minor": 2
}
