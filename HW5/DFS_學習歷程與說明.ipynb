{
 "cells": [
  {
   "cell_type": "markdown",
   "metadata": {},
   "source": [
    "# [HW5] BFS 和 DFS\n",
    "## 參考網站\n",
    "---\n",
    "- [老師PPT | p.7](https://docs.google.com/presentation/d/e/2PACX-1vTma_vOZyE70O23KWw4I4Y78aAaT5fJSTq7Mae912kCwka_u5ZMWPoo14D86-x-57kZPbb6hAGktSW4/pub?start=false&loop=false&delayms=3000&slide=id.g6c077ea6e5_0_26)\n",
    "---\n",
    "### DFS\n",
    "- [Graph: Depth-First Search(DFS，深度優先搜尋)\n",
    "Posted by Chiu CC on 2 11, 2016](http://alrightchiu.github.io/SecondRound/graph-depth-first-searchdfsshen-du-you-xian-sou-xun.html)\n",
    "- [youtube | Graph DFS Pseudo Code with Animation](https://www.youtube.com/watch?v=GFlthbUd7LQ&feature=youtu.be)\n",
    "- [youtube | Depth First Traversal for a Graph](https://youtu.be/Y40bRyPQQr0)\n",
    "- [youtube | Applications of Depth First Search](https://youtu.be/dE3wBxYobrU)\n",
    "\n",
    "### BFS\n",
    "- [Graph: Breadth-First Search(BFS，廣度優先搜尋)](https://alrightchiu.github.io/SecondRound/graph-breadth-first-searchbfsguang-du-you-xian-sou-xun.html)\n",
    "- [geeksforgeeks |　Breadth First Search or BFS for a Graph\n",
    "](https://www.geeksforgeeks.org/breadth-first-search-or-bfs-for-a-graph/)\n",
    "- [youtube | Depth First & Breadth First Graph Search - DFS & BFS Graph Searching Algorithms](https://www.youtube.com/watch?v=TIbUeeksXcI)\n",
    "- [hackerearth | Breadth First Search](https://www.hackerearth.com/zh/practice/algorithms/graphs/breadth-first-search/tutorial/)\n",
    "- [tutorialspoint | Data Structure - Breadth First Traversal](https://www.tutorialspoint.com/data_structures_algorithms/breadth_first_traversal.htm)\n",
    "\n",
    "# 簡介\n",
    "## 1.介紹 DFS\n",
    "---\n",
    "DFS 它屬於 recursive(遞迴) 的演算法。他主要的的想法就是先往某個方向走到底也就是 Depth-First 的意思，然後折返再去看他的分支，就像是 BST 的走訪。\n",
    "他會 backtracking(回朔)，也就是以一邊為主，走到底時，再往回找未被標記的節點，繼續往前走到底，這概念跟 BST 很像，其實 tree 的 走訪規則也是 DFS 的其中一種應用，看下圖就知道他們其實邏輯是一樣的，也是可以把 tree 當作 graph，所以我下面就以 tree 的角度去看 DFS 和BFS 。\n",
    "\n",
    "![](https://i.imgur.com/dbGlhXc.png)\n",
    "\n",
    "> graph:\n",
    "- 可無方向性或是有方向性\n",
    "- 每個節點皆可被其他節點連結\n",
    "- 可能會有迴圈(cycle)，所以在寫 BFS 和 DFS 的後都要去做標記的動作，來防止迴圈的狀況。\n",
    "\n",
    "> Tree 為包含下列特點的 graph:\n",
    "- 一定有方向\n",
    "- 每個節點最多只能被一個節點指向，做多也只能指向兩個節點\n",
    "- 沒有迴圈(cycle)關係，\\也就是說不會有一條路，可以繞一圈回到原點\n",
    "  \n",
    "\n",
    "\n",
    "## 2.介紹 BFS\n",
    "---\n",
    "BFS 他的結構也是以 graph 為基礎建立的，只是他的方式是以 root(0) 為準，去往外層擴展，以 下面 graph 做舉例，就是會先走訪最接近的節點\n",
    "\n",
    "![](https://he-s3.s3.amazonaws.com/media/uploads/fdec3c2.jpg)\n",
    "\n",
    "## 3.DFS VS. BFS \n",
    "\n",
    "從兩者的步驟可以看到兩者概念很像，DFS就是很直接挑一邊的走道底再回頭找，使用 stack 的結構， stack 紀錄著由 root 點開始走到該點的路徑。而 BFS 則是先以最接近的那一層開始，也就是他一走到某個節點時他就會把該點附近(下一層)沒走過的節點都進入Qeuee。\n",
    "- DFS: \n",
    "  - 以一條線走，以其中一邊為主，先走到底，在慢慢向另一邊走訪。\n",
    "  - 適合較深的 tree。\n",
    "  - 使用 stack，用來記錄路徑。\n",
    "- BFS: \n",
    "  - 以階層關係，由離 root 較近的節點到較遠的節點。\n",
    "  - 適合較淺的 tree。\n",
    "  - 使用 Queue，用來記錄，先後接觸關係(在走訪時的臨點)，所以整體來看是由起點(root)為基準，向外擴張。\n",
    "\n",
    "![](https://i.imgur.com/KDLXUCc.png)\n",
    "\n",
    "\n",
    "\n",
    "## 了解助教範例\n",
    "---\n",
    "首先，我會先了解助教要甚麼東西。"
   ]
  },
  {
   "cell_type": "code",
   "execution_count": null,
   "metadata": {},
   "outputs": [],
   "source": [
    "# Python3 Program to print BFS traversal \n",
    "# from a given source vertex. BFS(int s) \n",
    "# traverses vertices reachable from s. \n",
    "from collections import defaultdict \n",
    "  \n",
    "# This class represents a directed graph \n",
    "# using adjacency list representation \n",
    "class Graph:\n",
    "    # Constructor \n",
    "    def __init__(self): \n",
    "        # default dictionary to store graph \n",
    "        self.graph = defaultdict(list) \n",
    "\n",
    "    # function to add an edge to graph \n",
    "    def addEdge(self,u,v): \n",
    "        self.graph[u].append(v) \n",
    "  \n",
    "    # Function to print a BFS of graph \n",
    "    def BFS(self, s): \n",
    "        \"\"\"\n",
    "        :type s: int\n",
    "        :rtype: list\n",
    "        \"\"\"\n",
    "    def DFS(self, s):\n",
    "        \"\"\"\n",
    "        :type s: int\n",
    "        :rtype: list\n",
    "        \"\"\""
   ]
  },
  {
   "cell_type": "markdown",
   "metadata": {},
   "source": [
    "### >> collections 裡的 defaultdict 是甚麼?\n",
    "他就是一個 dict ，但是他可以預先定義 value 的 type。下面我把範例裡的程式片段拉出來看，我們以 defaultdict(list) 創立的 dict 他的預設的 values 就是 list 的型態，而 defaultdict(str) 他預設的型態"
   ]
  },
  {
   "cell_type": "code",
   "execution_count": 59,
   "metadata": {},
   "outputs": [
    {
     "name": "stdout",
     "output_type": "stream",
     "text": [
      "list defaultdict(<class 'list'>, {0: []})\n",
      "dict defaultdict(<class 'str'>, {0: ''})\n"
     ]
    }
   ],
   "source": [
    "from collections import defaultdict \n",
    "\n",
    "# list\n",
    "graph = defaultdict(list)\n",
    "graph[0]\n",
    "print('list',graph)\n",
    "\n",
    "# dict\n",
    "graph_str = defaultdict(str)\n",
    "graph_str[0]\n",
    "print('dict',graph_str)"
   ]
  },
  {
   "cell_type": "markdown",
   "metadata": {},
   "source": [
    "下面可以看得到 `defaultdict(str)` 不能使用 append 。"
   ]
  },
  {
   "cell_type": "code",
   "execution_count": 52,
   "metadata": {},
   "outputs": [
    {
     "name": "stdout",
     "output_type": "stream",
     "text": [
      "defaultdict(<class 'list'>, {0: [1, 1], 1: [1], 2: [1]})\n"
     ]
    }
   ],
   "source": [
    "graph[0].append(1)\n",
    "graph[0].append(1)\n",
    "graph[1].append(1)\n",
    "graph[2].append(1)\n",
    "print(graph)"
   ]
  },
  {
   "cell_type": "code",
   "execution_count": 53,
   "metadata": {},
   "outputs": [
    {
     "ename": "AttributeError",
     "evalue": "'str' object has no attribute 'append'",
     "output_type": "error",
     "traceback": [
      "\u001b[1;31m---------------------------------------------------------------------------\u001b[0m",
      "\u001b[1;31mAttributeError\u001b[0m                            Traceback (most recent call last)",
      "\u001b[1;32m<ipython-input-53-ec89aef7769b>\u001b[0m in \u001b[0;36m<module>\u001b[1;34m\u001b[0m\n\u001b[1;32m----> 1\u001b[1;33m \u001b[0mgraph_str\u001b[0m\u001b[1;33m[\u001b[0m\u001b[1;36m0\u001b[0m\u001b[1;33m]\u001b[0m\u001b[1;33m.\u001b[0m\u001b[0mappend\u001b[0m\u001b[1;33m(\u001b[0m\u001b[1;36m1\u001b[0m\u001b[1;33m)\u001b[0m\u001b[1;33m\u001b[0m\u001b[1;33m\u001b[0m\u001b[0m\n\u001b[0m\u001b[0;32m      2\u001b[0m \u001b[0mprint\u001b[0m\u001b[1;33m(\u001b[0m\u001b[0mgraph_d\u001b[0m\u001b[1;33m)\u001b[0m\u001b[1;33m\u001b[0m\u001b[1;33m\u001b[0m\u001b[0m\n",
      "\u001b[1;31mAttributeError\u001b[0m: 'str' object has no attribute 'append'"
     ]
    }
   ],
   "source": [
    "graph_str[0].append(1)\n",
    "print(graph_d)"
   ]
  },
  {
   "cell_type": "markdown",
   "metadata": {},
   "source": [
    "### >> 我們要做麼?\n",
    "所以可以看到當我們呼叫 Graph 時 ，就已經定義好包含 list 的 dictiondary，在這個 dict 裡 key 是 graph 的其中一個節點，而 values 是由 list 儲存與該節點相連的所有節點。也就是說我們可以直接透過 addEdge() 在 graph 裡建立 edge ，也就是兩個節點連成的邊。\n",
    "所以這次作業主要是要我們用 input 近來的 adjacency list 建立 BFS 和 DFS 的路徑。\n",
    "## 五、建立測值 & print adjacency list 的 function\n",
    "---"
   ]
  },
  {
   "cell_type": "code",
   "execution_count": 77,
   "metadata": {},
   "outputs": [],
   "source": [
    "from collections import defaultdict \n",
    "  \n",
    "class Graph:\n",
    "    def __init__(self): \n",
    "        self.graph = defaultdict(list) \n",
    "\n",
    "    def addEdge(self,u,v): \n",
    "        self.graph[u].append(v) \n",
    "    \n",
    "    def print_adj_ls(self):\n",
    "        if self.graph == defaultdict(list):\n",
    "            print(\" No Node in graph !\")\n",
    "        else:\n",
    "            print(\"adjacency list:\")\n",
    "            for key,val in self.graph.items():\n",
    "                print(key, \":\", val)"
   ]
  },
  {
   "cell_type": "code",
   "execution_count": 78,
   "metadata": {},
   "outputs": [],
   "source": [
    "obj = Graph()\n",
    "obj.addEdge(0,2)\n",
    "obj.addEdge(0,5)\n",
    "obj.addEdge(4,2)\n",
    "obj.addEdge(2,3)\n",
    "obj.addEdge(4,1)\n",
    "obj.addEdge(1,8)"
   ]
  },
  {
   "cell_type": "code",
   "execution_count": 79,
   "metadata": {},
   "outputs": [
    {
     "name": "stdout",
     "output_type": "stream",
     "text": [
      "adjacency list:\n",
      "0 : [2, 5]\n",
      "4 : [2, 1]\n",
      "2 : [3]\n",
      "1 : [8]\n"
     ]
    }
   ],
   "source": [
    "obj.print_adj_ls()"
   ]
  },
  {
   "cell_type": "markdown",
   "metadata": {},
   "source": [
    "## 六、開始建立 BFS\n",
    "---\n",
    "BFS 主要有兩點:\n",
    "- 要建一個 qeuee\n",
    "- 先接觸的節點(周圍)，先加入 qeuee"
   ]
  },
  {
   "cell_type": "code",
   "execution_count": 35,
   "metadata": {},
   "outputs": [],
   "source": [
    "from collections import defaultdict \n",
    "\n",
    "class Graph:\n",
    "    def __init__(self): \n",
    "        self.graph = defaultdict(list) \n",
    "        self.Queue = []\n",
    "\n",
    "    def addEdge(self,u,v): \n",
    "        self.graph[u].append(v) \n",
    "    \n",
    "    def print_adj_ls(self):\n",
    "        if self.graph == defaultdict(list):\n",
    "            print(\" No Node in graph !\")\n",
    "        else:\n",
    "            print(\"adjacency list:\")\n",
    "            for key,val in self.graph.items():\n",
    "                print(key, \":\", val)\n",
    "                \n",
    "    def get_Q(self):\n",
    "        if len(self.Queue) == 0:\n",
    "            print(\"no data in queue !\")\n",
    "        else:\n",
    "            item = self.Queue[0]\n",
    "            self.Queue = self.Queue[1:]\n",
    "            return item\n",
    "        \n",
    "    def put_Q(self, item):\n",
    "        self.Queue = self.Queue+[item]\n",
    "        \n",
    "    def BFS(self, s):\n",
    "        if len(self.graph.keys()) == 0:\n",
    "            print(\"no data in Graph !\")\n",
    "        elif s not in self.graph.keys():\n",
    "            print(\"start point isn't exist !\")\n",
    "        else:\n",
    "            out = [s]\n",
    "            print('output: ',out,'\\n')\n",
    "            for i in self.graph[s]:\n",
    "                self.put_Q(i)\n",
    "            while len(out) < len(self.graph.keys()):#for _ in  range(len(self.graph.keys())):\n",
    "                print('Queue: ',self.Queue)\n",
    "                item = self.get_Q()\n",
    "                if item is not None:\n",
    "                    out.append(item)\n",
    "                    print('add: ',item)\n",
    "                    print('output: ',out,'\\n')\n",
    "                if (item is None) or (self.graph[item]==None):\n",
    "                    continue\n",
    "                for i in self.graph[item]:\n",
    "                    if (i not in self.Queue) and (i not in out):\n",
    "                        self.put_Q(i) \n",
    "            return out\n",
    "                \n",
    "                    "
   ]
  },
  {
   "cell_type": "markdown",
   "metadata": {},
   "source": [
    "### >> 測試 Queue "
   ]
  },
  {
   "cell_type": "code",
   "execution_count": 36,
   "metadata": {},
   "outputs": [],
   "source": [
    "obj = Graph()\n",
    "obj.put_Q(5)\n",
    "obj.put_Q(4)"
   ]
  },
  {
   "cell_type": "code",
   "execution_count": 37,
   "metadata": {},
   "outputs": [
    {
     "data": {
      "text/plain": "[5, 4]"
     },
     "execution_count": 37,
     "metadata": {},
     "output_type": "execute_result"
    }
   ],
   "source": [
    "obj.Queue"
   ]
  },
  {
   "cell_type": "code",
   "execution_count": 38,
   "metadata": {},
   "outputs": [
    {
     "data": {
      "text/plain": "5"
     },
     "execution_count": 38,
     "metadata": {},
     "output_type": "execute_result"
    }
   ],
   "source": [
    "obj.get_Q()"
   ]
  },
  {
   "cell_type": "code",
   "execution_count": 39,
   "metadata": {},
   "outputs": [
    {
     "data": {
      "text/plain": "4"
     },
     "execution_count": 39,
     "metadata": {},
     "output_type": "execute_result"
    }
   ],
   "source": [
    "obj.get_Q()"
   ]
  },
  {
   "cell_type": "code",
   "execution_count": 40,
   "metadata": {},
   "outputs": [
    {
     "name": "stdout",
     "output_type": "stream",
     "text": "no data in queue !\n"
    }
   ],
   "source": [
    "a=obj.get_Q()"
   ]
  },
  {
   "cell_type": "markdown",
   "metadata": {},
   "source": [
    "### >> 測試 BFS"
   ]
  },
  {
   "cell_type": "code",
   "execution_count": 41,
   "metadata": {},
   "outputs": [],
   "source": [
    "obj = Graph()\n",
    "obj.addEdge(0,1)\n",
    "obj.addEdge(0,2)\n",
    "obj.addEdge(1,2)\n",
    "obj.addEdge(2,0)\n",
    "obj.addEdge(2,3)\n",
    "obj.addEdge(3,3)"
   ]
  },
  {
   "cell_type": "code",
   "execution_count": 42,
   "metadata": {},
   "outputs": [
    {
     "name": "stdout",
     "output_type": "stream",
     "text": "adjacency list:\n0 : [1, 2]\n1 : [2]\n2 : [0, 3]\n3 : [3]\n"
    }
   ],
   "source": [
    "obj.print_adj_ls()"
   ]
  },
  {
   "cell_type": "code",
   "execution_count": 43,
   "metadata": {},
   "outputs": [
    {
     "name": "stdout",
     "output_type": "stream",
     "text": "output:  [2] \n\nQueue:  [0, 3]\nadd:  0\noutput:  [2, 0] \n\nQueue:  [3, 1]\nadd:  3\noutput:  [2, 0, 3] \n\nQueue:  [1]\nadd:  1\noutput:  [2, 0, 3, 1] \n\n"
    },
    {
     "data": {
      "text/plain": "[2, 0, 3, 1]"
     },
     "execution_count": 43,
     "metadata": {},
     "output_type": "execute_result"
    }
   ],
   "source": [
    "obj.BFS(2)"
   ]
  },
  {
   "cell_type": "markdown",
   "metadata": {},
   "source": [
    "### >> 測試2 BFS"
   ]
  },
  {
   "cell_type": "code",
   "execution_count": 10,
   "metadata": {},
   "outputs": [],
   "source": [
    "g = Graph()\n",
    "g.addEdge(11,10)\n",
    "g.addEdge(10,9)\n",
    "g.addEdge(10,11)\n",
    "g.addEdge(10,6)\n",
    "g.addEdge(9,4)\n",
    "g.addEdge(9,7)\n",
    "g.addEdge(9,10)\n",
    "g.addEdge(6,10)\n",
    "g.addEdge(7,9)\n",
    "g.addEdge(7,4)\n",
    "g.addEdge(7,2)\n",
    "g.addEdge(7,5)\n",
    "g.addEdge(7,8)\n",
    "g.addEdge(8,7)\n",
    "g.addEdge(8,5)\n",
    "g.addEdge(8,2)\n",
    "g.addEdge(5,8)\n",
    "g.addEdge(5,7)\n",
    "g.addEdge(5,2)\n",
    "g.addEdge(5,12)\n",
    "g.addEdge(5,3)\n",
    "g.addEdge(2,3)\n",
    "g.addEdge(2,4)\n",
    "g.addEdge(2,7)\n",
    "g.addEdge(2,8)\n",
    "g.addEdge(2,5)\n",
    "g.addEdge(2,12)\n",
    "g.addEdge(4,1)\n",
    "g.addEdge(4,2)\n",
    "g.addEdge(4,7)\n",
    "g.addEdge(4,9)\n",
    "g.addEdge(3,1)\n",
    "g.addEdge(3,2)\n",
    "g.addEdge(3,5)\n",
    "g.addEdge(3,12)\n",
    "g.addEdge(1,3)\n",
    "g.addEdge(1,4)\n",
    "g.addEdge(12,3)\n",
    "g.addEdge(12,2)\n",
    "g.addEdge(12,5)"
   ]
  },
  {
   "cell_type": "code",
   "execution_count": 11,
   "metadata": {},
   "outputs": [
    {
     "name": "stdout",
     "output_type": "stream",
     "text": [
      "adjacency list:\n",
      "11 : [10]\n",
      "10 : [9, 11, 6]\n",
      "9 : [4, 7, 10]\n",
      "6 : [10]\n",
      "7 : [9, 4, 2, 5, 8]\n",
      "8 : [7, 5, 2]\n",
      "5 : [8, 7, 2, 12, 3]\n",
      "2 : [3, 4, 7, 8, 5, 12]\n",
      "4 : [1, 2, 7, 9]\n",
      "3 : [1, 2, 5, 12]\n",
      "1 : [3, 4]\n",
      "12 : [3, 2, 5]\n"
     ]
    }
   ],
   "source": [
    "g.print_adj_ls()"
   ]
  },
  {
   "cell_type": "code",
   "execution_count": 12,
   "metadata": {
    "scrolled": false
   },
   "outputs": [
    {
     "name": "stdout",
     "output_type": "stream",
     "text": [
      "output:  [11] \n",
      "\n",
      "Queue:  [10]\n",
      "add:  10\n",
      "output:  [11, 10] \n",
      "\n",
      "Queue:  [9, 6]\n",
      "add:  9\n",
      "output:  [11, 10, 9] \n",
      "\n",
      "Queue:  [6, 4, 7]\n",
      "add:  6\n",
      "output:  [11, 10, 9, 6] \n",
      "\n",
      "Queue:  [4, 7]\n",
      "add:  4\n",
      "output:  [11, 10, 9, 6, 4] \n",
      "\n",
      "Queue:  [7, 1, 2]\n",
      "add:  7\n",
      "output:  [11, 10, 9, 6, 4, 7] \n",
      "\n",
      "Queue:  [1, 2, 5, 8]\n",
      "add:  1\n",
      "output:  [11, 10, 9, 6, 4, 7, 1] \n",
      "\n",
      "Queue:  [2, 5, 8, 3]\n",
      "add:  2\n",
      "output:  [11, 10, 9, 6, 4, 7, 1, 2] \n",
      "\n",
      "Queue:  [5, 8, 3, 12]\n",
      "add:  5\n",
      "output:  [11, 10, 9, 6, 4, 7, 1, 2, 5] \n",
      "\n",
      "Queue:  [8, 3, 12]\n",
      "add:  8\n",
      "output:  [11, 10, 9, 6, 4, 7, 1, 2, 5, 8] \n",
      "\n",
      "Queue:  [3, 12]\n",
      "add:  3\n",
      "output:  [11, 10, 9, 6, 4, 7, 1, 2, 5, 8, 3] \n",
      "\n",
      "Queue:  [12]\n",
      "add:  12\n",
      "output:  [11, 10, 9, 6, 4, 7, 1, 2, 5, 8, 3, 12] \n",
      "\n"
     ]
    },
    {
     "data": {
      "text/plain": [
       "[11, 10, 9, 6, 4, 7, 1, 2, 5, 8, 3, 12]"
      ]
     },
     "execution_count": 12,
     "metadata": {},
     "output_type": "execute_result"
    }
   ],
   "source": [
    "g.BFS(11)"
   ]
  },
  {
   "cell_type": "markdown",
   "metadata": {},
   "source": [
    "## 七、開始建立 DFS\n"
   ]
  },
  {
   "cell_type": "code",
   "execution_count": 44,
   "metadata": {},
   "outputs": [],
   "source": [
    "from collections import defaultdict \n",
    "\n",
    "class Graph:\n",
    "    def __init__(self): \n",
    "        self.graph = defaultdict(list) \n",
    "        self.Queue = []\n",
    "        self.Stack = []\n",
    "        self.walked = dict()\n",
    "\n",
    "    def addEdge(self,u,v): \n",
    "        self.graph[u].append(v) \n",
    "    \n",
    "    def print_adj_ls(self):\n",
    "        if self.graph == defaultdict(list):\n",
    "            print(\" No Node in graph !\")\n",
    "        else:\n",
    "            print(\"adjacency list:\")\n",
    "            for key,val in self.graph.items():\n",
    "                print(key, \":\", val)\n",
    "                \n",
    "    def get_Q(self):\n",
    "        if len(self.Queue) == 0:\n",
    "            print(\"no data in queue !\")\n",
    "        else:\n",
    "            item = self.Queue[0]\n",
    "            self.Queue = self.Queue[1:]\n",
    "            return item\n",
    "        \n",
    "    def put_Q(self, item):\n",
    "        self.Queue = self.Queue+[item]\n",
    "        \n",
    "    def get_S(self):\n",
    "        if len(self.Stack) == 0:\n",
    "            print(\"no data in stack !\")\n",
    "        else:\n",
    "            item = self.Stack[-1]\n",
    "            self.Stack = self.Stack[:-1]\n",
    "            return item\n",
    "        \n",
    "    def put_S(self, item):\n",
    "        self.Stack = self.Stack+[item]\n",
    "        \n",
    "    def BFS(self, s):\n",
    "        if len(self.graph.keys()) == 0:\n",
    "            print(\"no data in Graph !\")\n",
    "        elif s not in self.graph.keys():\n",
    "            print(\"start point isn't exist !\")\n",
    "        else:\n",
    "            out = [s]\n",
    "            print('output: ',out,'\\n')\n",
    "            for i in self.graph[s]:\n",
    "                self.put_Q(i)\n",
    "            while len(out) < len(self.graph.keys()):#for _ in  range(len(self.graph.keys())):\n",
    "                print('Queue: ',self.Queue)\n",
    "                item = self.get_Q()\n",
    "                if item is not None:\n",
    "                    out.append(item)\n",
    "                    print('add: ',item)\n",
    "                    print('output: ',out,'\\n')\n",
    "                if (item is None) or (self.graph[item]==None):\n",
    "                    continue\n",
    "                for i in self.graph[item]:\n",
    "                    if (i not in self.Queue) and (i not in out):\n",
    "                        self.put_Q(i) \n",
    "            return out\n",
    "        \n",
    "    def DFS(self, s):\n",
    "        if len(self.graph.keys()) == 0:\n",
    "            print(\"no data in Graph !\")\n",
    "        elif s not in self.graph.keys():\n",
    "            print(\"start point isn't exist !\")\n",
    "        else:\n",
    "            print('Stack: ',self.Stack)\n",
    "            for node in self.graph.keys():\n",
    "                self.walked[node]=False\n",
    "            out = [s] \n",
    "            self.walked[s] = True\n",
    "            self.put_S(s)\n",
    "            print('output: ',out)\n",
    "            print('walked',self.walked,'\\n')\n",
    "\n",
    "            while len(out) < len(self.graph.keys()):#for _ in  range(len(self.graph.keys())):\n",
    "                print('Stack: ',self.Stack)\n",
    "                item = self.Stack[-1]\n",
    "                route = [i for i in self.graph[item] if self.walked[i] is False]\n",
    "                if route:\n",
    "                    self.walked[route[-1]] = True\n",
    "                    self.put_S(route[-1])\n",
    "                    out.append(route[-1])\n",
    "                else:\n",
    "                    self.get_S()\n",
    "                print('output: ',out)\n",
    "                print('walked',self.walked,'\\n')\n",
    "                    \n",
    "            return out\n",
    "                \n",
    "                    "
   ]
  },
  {
   "cell_type": "markdown",
   "metadata": {},
   "source": [
    "### >> 測試 stack"
   ]
  },
  {
   "cell_type": "code",
   "execution_count": 45,
   "metadata": {},
   "outputs": [
    {
     "data": {
      "text/plain": "[5, 4]"
     },
     "execution_count": 45,
     "metadata": {},
     "output_type": "execute_result"
    }
   ],
   "source": [
    "obj = Graph()\n",
    "obj.put_S(5)\n",
    "obj.put_S(4)\n",
    "obj.Stack"
   ]
  },
  {
   "cell_type": "code",
   "execution_count": 46,
   "metadata": {},
   "outputs": [
    {
     "data": {
      "text/plain": "4"
     },
     "execution_count": 46,
     "metadata": {},
     "output_type": "execute_result"
    }
   ],
   "source": [
    "obj.get_S()"
   ]
  },
  {
   "cell_type": "code",
   "execution_count": 47,
   "metadata": {},
   "outputs": [
    {
     "data": {
      "text/plain": "5"
     },
     "execution_count": 47,
     "metadata": {},
     "output_type": "execute_result"
    }
   ],
   "source": [
    "obj.get_S()"
   ]
  },
  {
   "cell_type": "code",
   "execution_count": 48,
   "metadata": {},
   "outputs": [
    {
     "name": "stdout",
     "output_type": "stream",
     "text": "no data in stack !\n"
    }
   ],
   "source": [
    "obj.get_S()"
   ]
  },
  {
   "cell_type": "markdown",
   "metadata": {},
   "source": [
    "### >> 測試 DFS "
   ]
  },
  {
   "cell_type": "code",
   "execution_count": 49,
   "metadata": {},
   "outputs": [
    {
     "name": "stdout",
     "output_type": "stream",
     "text": "adjacency list:\n0 : [1, 2]\n1 : [2]\n2 : [0, 3]\n3 : [3]\n"
    }
   ],
   "source": [
    "obj=Graph()\n",
    "obj.addEdge(0,1)\n",
    "obj.addEdge(0,2)\n",
    "obj.addEdge(1,2)\n",
    "obj.addEdge(2,0)\n",
    "obj.addEdge(2,3)\n",
    "obj.addEdge(3,3)\n",
    "\n",
    "obj.print_adj_ls()"
   ]
  },
  {
   "cell_type": "code",
   "execution_count": 50,
   "metadata": {},
   "outputs": [
    {
     "name": "stdout",
     "output_type": "stream",
     "text": "Stack:  []\noutput:  [2]\nwalked {0: False, 1: False, 2: True, 3: False} \n\nStack:  [2]\noutput:  [2, 3]\nwalked {0: False, 1: False, 2: True, 3: True} \n\nStack:  [2, 3]\noutput:  [2, 3]\nwalked {0: False, 1: False, 2: True, 3: True} \n\nStack:  [2]\noutput:  [2, 3, 0]\nwalked {0: True, 1: False, 2: True, 3: True} \n\nStack:  [2, 0]\noutput:  [2, 3, 0, 1]\nwalked {0: True, 1: True, 2: True, 3: True} \n\n"
    },
    {
     "data": {
      "text/plain": "[2, 3, 0, 1]"
     },
     "execution_count": 50,
     "metadata": {},
     "output_type": "execute_result"
    }
   ],
   "source": [
    "obj.DFS(2)"
   ]
  },
  {
   "cell_type": "markdown",
   "metadata": {},
   "source": [
    "### >> 測試 DFS 2"
   ]
  },
  {
   "cell_type": "code",
   "execution_count": 131,
   "metadata": {},
   "outputs": [],
   "source": [
    "g = Graph()\n",
    "g.addEdge(11,10)\n",
    "g.addEdge(10,9)\n",
    "g.addEdge(10,11)\n",
    "g.addEdge(10,6)\n",
    "g.addEdge(9,4)\n",
    "g.addEdge(9,7)\n",
    "g.addEdge(9,10)\n",
    "g.addEdge(6,10)\n",
    "g.addEdge(7,9)\n",
    "g.addEdge(7,4)\n",
    "g.addEdge(7,2)\n",
    "g.addEdge(7,5)\n",
    "g.addEdge(7,8)\n",
    "g.addEdge(8,7)\n",
    "g.addEdge(8,5)\n",
    "g.addEdge(8,2)\n",
    "g.addEdge(5,8)\n",
    "g.addEdge(5,7)\n",
    "g.addEdge(5,2)\n",
    "g.addEdge(5,12)\n",
    "g.addEdge(5,3)\n",
    "g.addEdge(2,3)\n",
    "g.addEdge(2,4)\n",
    "g.addEdge(2,7)\n",
    "g.addEdge(2,8)\n",
    "g.addEdge(2,5)\n",
    "g.addEdge(2,12)\n",
    "g.addEdge(4,1)\n",
    "g.addEdge(4,2)\n",
    "g.addEdge(4,7)\n",
    "g.addEdge(4,9)\n",
    "g.addEdge(3,1)\n",
    "g.addEdge(3,2)\n",
    "g.addEdge(3,5)\n",
    "g.addEdge(3,12)\n",
    "g.addEdge(1,3)\n",
    "g.addEdge(1,4)\n",
    "g.addEdge(12,3)\n",
    "g.addEdge(12,2)\n",
    "g.addEdge(12,5)"
   ]
  },
  {
   "cell_type": "code",
   "execution_count": 133,
   "metadata": {},
   "outputs": [
    {
     "name": "stdout",
     "output_type": "stream",
     "text": [
      "adjacency list:\n",
      "11 : [10]\n",
      "10 : [9, 11, 6]\n",
      "9 : [4, 7, 10]\n",
      "6 : [10]\n",
      "7 : [9, 4, 2, 5, 8]\n",
      "8 : [7, 5, 2]\n",
      "5 : [8, 7, 2, 12, 3]\n",
      "2 : [3, 4, 7, 8, 5, 12]\n",
      "4 : [1, 2, 7, 9]\n",
      "3 : [1, 2, 5, 12]\n",
      "1 : [3, 4]\n",
      "12 : [3, 2, 5]\n"
     ]
    }
   ],
   "source": [
    "g.print_adj_ls()"
   ]
  },
  {
   "cell_type": "code",
   "execution_count": 132,
   "metadata": {},
   "outputs": [
    {
     "name": "stdout",
     "output_type": "stream",
     "text": [
      "Stack:  []\n",
      "output:  [11]\n",
      "walked {11: True, 10: False, 9: False, 6: False, 7: False, 8: False, 5: False, 2: False, 4: False, 3: False, 1: False, 12: False} \n",
      "\n",
      "Stack:  [11, 10]\n",
      "output:  [11, 10, 9]\n",
      "walked {11: True, 10: True, 9: True, 6: False, 7: False, 8: False, 5: False, 2: False, 4: False, 3: False, 1: False, 12: False} \n",
      "\n",
      "Stack:  [11, 10, 9]\n",
      "output:  [11, 10, 9, 4]\n",
      "walked {11: True, 10: True, 9: True, 6: False, 7: False, 8: False, 5: False, 2: False, 4: True, 3: False, 1: False, 12: False} \n",
      "\n",
      "Stack:  [11, 10, 9, 4]\n",
      "output:  [11, 10, 9, 4, 1]\n",
      "walked {11: True, 10: True, 9: True, 6: False, 7: False, 8: False, 5: False, 2: False, 4: True, 3: False, 1: True, 12: False} \n",
      "\n",
      "Stack:  [11, 10, 9, 4, 1]\n",
      "output:  [11, 10, 9, 4, 1, 3]\n",
      "walked {11: True, 10: True, 9: True, 6: False, 7: False, 8: False, 5: False, 2: False, 4: True, 3: True, 1: True, 12: False} \n",
      "\n",
      "Stack:  [11, 10, 9, 4, 1, 3]\n",
      "output:  [11, 10, 9, 4, 1, 3, 2]\n",
      "walked {11: True, 10: True, 9: True, 6: False, 7: False, 8: False, 5: False, 2: True, 4: True, 3: True, 1: True, 12: False} \n",
      "\n",
      "Stack:  [11, 10, 9, 4, 1, 3, 2]\n",
      "output:  [11, 10, 9, 4, 1, 3, 2, 7]\n",
      "walked {11: True, 10: True, 9: True, 6: False, 7: True, 8: False, 5: False, 2: True, 4: True, 3: True, 1: True, 12: False} \n",
      "\n",
      "Stack:  [11, 10, 9, 4, 1, 3, 2, 7]\n",
      "output:  [11, 10, 9, 4, 1, 3, 2, 7, 5]\n",
      "walked {11: True, 10: True, 9: True, 6: False, 7: True, 8: False, 5: True, 2: True, 4: True, 3: True, 1: True, 12: False} \n",
      "\n",
      "Stack:  [11, 10, 9, 4, 1, 3, 2, 7, 5]\n",
      "output:  [11, 10, 9, 4, 1, 3, 2, 7, 5, 8]\n",
      "walked {11: True, 10: True, 9: True, 6: False, 7: True, 8: True, 5: True, 2: True, 4: True, 3: True, 1: True, 12: False} \n",
      "\n",
      "Stack:  [11, 10, 9, 4, 1, 3, 2, 7, 5, 8]\n",
      "output:  [11, 10, 9, 4, 1, 3, 2, 7, 5, 8]\n",
      "walked {11: True, 10: True, 9: True, 6: False, 7: True, 8: True, 5: True, 2: True, 4: True, 3: True, 1: True, 12: False} \n",
      "\n",
      "Stack:  [11, 10, 9, 4, 1, 3, 2, 7, 5]\n",
      "output:  [11, 10, 9, 4, 1, 3, 2, 7, 5, 8, 12]\n",
      "walked {11: True, 10: True, 9: True, 6: False, 7: True, 8: True, 5: True, 2: True, 4: True, 3: True, 1: True, 12: True} \n",
      "\n",
      "Stack:  [11, 10, 9, 4, 1, 3, 2, 7, 5, 12]\n",
      "output:  [11, 10, 9, 4, 1, 3, 2, 7, 5, 8, 12]\n",
      "walked {11: True, 10: True, 9: True, 6: False, 7: True, 8: True, 5: True, 2: True, 4: True, 3: True, 1: True, 12: True} \n",
      "\n",
      "Stack:  [11, 10, 9, 4, 1, 3, 2, 7, 5]\n",
      "output:  [11, 10, 9, 4, 1, 3, 2, 7, 5, 8, 12]\n",
      "walked {11: True, 10: True, 9: True, 6: False, 7: True, 8: True, 5: True, 2: True, 4: True, 3: True, 1: True, 12: True} \n",
      "\n",
      "Stack:  [11, 10, 9, 4, 1, 3, 2, 7]\n",
      "output:  [11, 10, 9, 4, 1, 3, 2, 7, 5, 8, 12]\n",
      "walked {11: True, 10: True, 9: True, 6: False, 7: True, 8: True, 5: True, 2: True, 4: True, 3: True, 1: True, 12: True} \n",
      "\n",
      "Stack:  [11, 10, 9, 4, 1, 3, 2]\n",
      "output:  [11, 10, 9, 4, 1, 3, 2, 7, 5, 8, 12]\n",
      "walked {11: True, 10: True, 9: True, 6: False, 7: True, 8: True, 5: True, 2: True, 4: True, 3: True, 1: True, 12: True} \n",
      "\n",
      "Stack:  [11, 10, 9, 4, 1, 3]\n",
      "output:  [11, 10, 9, 4, 1, 3, 2, 7, 5, 8, 12]\n",
      "walked {11: True, 10: True, 9: True, 6: False, 7: True, 8: True, 5: True, 2: True, 4: True, 3: True, 1: True, 12: True} \n",
      "\n",
      "Stack:  [11, 10, 9, 4, 1]\n",
      "output:  [11, 10, 9, 4, 1, 3, 2, 7, 5, 8, 12]\n",
      "walked {11: True, 10: True, 9: True, 6: False, 7: True, 8: True, 5: True, 2: True, 4: True, 3: True, 1: True, 12: True} \n",
      "\n",
      "Stack:  [11, 10, 9, 4]\n",
      "output:  [11, 10, 9, 4, 1, 3, 2, 7, 5, 8, 12]\n",
      "walked {11: True, 10: True, 9: True, 6: False, 7: True, 8: True, 5: True, 2: True, 4: True, 3: True, 1: True, 12: True} \n",
      "\n",
      "Stack:  [11, 10, 9]\n",
      "output:  [11, 10, 9, 4, 1, 3, 2, 7, 5, 8, 12]\n",
      "walked {11: True, 10: True, 9: True, 6: False, 7: True, 8: True, 5: True, 2: True, 4: True, 3: True, 1: True, 12: True} \n",
      "\n",
      "Stack:  [11, 10]\n",
      "output:  [11, 10, 9, 4, 1, 3, 2, 7, 5, 8, 12, 6]\n",
      "walked {11: True, 10: True, 9: True, 6: True, 7: True, 8: True, 5: True, 2: True, 4: True, 3: True, 1: True, 12: True} \n",
      "\n"
     ]
    },
    {
     "data": {
      "text/plain": [
       "[11, 10, 9, 4, 1, 3, 2, 7, 5, 8, 12, 6]"
      ]
     },
     "execution_count": 132,
     "metadata": {},
     "output_type": "execute_result"
    }
   ],
   "source": [
    "g.DFS(11)"
   ]
  },
  {
   "cell_type": "markdown",
   "metadata": {},
   "source": [
    "## DFS 尾巴版"
   ]
  },
  {
   "cell_type": "code",
   "execution_count": 1,
   "metadata": {},
   "outputs": [],
   "source": [
    "from collections import defaultdict \n",
    "\n",
    "class Graph:\n",
    "    def __init__(self): \n",
    "        self.graph = defaultdict(list) \n",
    "        self.Queue = []\n",
    "        self.Stack = []\n",
    "        self.walked = dict()\n",
    "\n",
    "    def addEdge(self,u,v): \n",
    "        self.graph[u].append(v) \n",
    "    \n",
    "    def print_adj_ls(self):\n",
    "        if self.graph == defaultdict(list):\n",
    "            print(\" No Node in graph !\")\n",
    "        else:\n",
    "            print(\"adjacency list:\")\n",
    "            for key,val in self.graph.items():\n",
    "                print(key, \":\", val)\n",
    "                \n",
    "    def get_Q(self):\n",
    "        if len(self.Queue) == 0:\n",
    "            print(\"no data in queue !\")\n",
    "        else:\n",
    "            item = self.Queue[0]\n",
    "            self.Queue = self.Queue[1:]\n",
    "            return item\n",
    "        \n",
    "    def put_Q(self, item):\n",
    "        self.Queue = [item]+self.Queue\n",
    "        \n",
    "    def get_S(self):\n",
    "        if len(self.Stack) == 0:\n",
    "            print(\"no data in stack !\")\n",
    "        else:\n",
    "            item = self.Stack[-1]\n",
    "            self.Stack = self.Stack[:-1]\n",
    "            return item\n",
    "        \n",
    "    def put_S(self, item):\n",
    "        self.Stack = self.Stack+[item]\n",
    "        \n",
    "    def BFS(self, s):\n",
    "        if len(self.graph.keys()) == 0:\n",
    "            print(\"no data in Graph !\")\n",
    "        elif s not in self.graph.keys():\n",
    "            print(\"start point isn't exist !\")\n",
    "        else:\n",
    "            out = [s]\n",
    "            print('output: ',out,'\\n')\n",
    "            for i in self.graph[s]:\n",
    "                self.put_Q(i)\n",
    "            while len(out) < len(self.graph.keys()):#for _ in  range(len(self.graph.keys())):\n",
    "                print('Queue: ',self.Queue)\n",
    "                item = self.get_Q()\n",
    "                if item is not None:\n",
    "                    out.append(item)\n",
    "                    print('add: ',item)\n",
    "                    print('output: ',out,'\\n')\n",
    "                if (item is None) or (self.graph[item]==None):\n",
    "                    continue\n",
    "                for i in self.graph[item]:\n",
    "                    if (i not in self.Queue) and (i not in out):\n",
    "                        self.put_Q(i) \n",
    "            return out\n",
    "        \n",
    "    def DFS(self, s):\n",
    "        if len(self.graph.keys()) == 0:\n",
    "            print(\"no data in Graph !\")\n",
    "        elif s not in self.graph.keys():\n",
    "            print(\"start point isn't exist !\")\n",
    "        else:\n",
    "            print('Stack: ',self.Stack)\n",
    "            for node in self.graph.keys():\n",
    "                self.walked[node]=False\n",
    "            out = [s] \n",
    "            self.walked[s] = True\n",
    "            self.put_S(s)\n",
    "            print('output: ',out)\n",
    "            print('walked',self.walked,'\\n')\n",
    "            route = [i for i in self.graph[s] if self.walked[i] is False]\n",
    "            if route:\n",
    "                self.walked[route[-1]] = True\n",
    "                self.put_S(route[-1])\n",
    "                out.append(route[-1])\n",
    "            while len(out) < len(self.graph.keys()):#for _ in  range(len(self.graph.keys())):\n",
    "                print('Stack: ',self.Stack)\n",
    "                item = self.Stack[-1]\n",
    "                route = [i for i in self.graph[item] if self.walked[i] is False]\n",
    "                if route:\n",
    "                    self.walked[route[-1]] = True\n",
    "                    self.put_S(route[-1])\n",
    "                    out.append(route[-1])\n",
    "                else:\n",
    "                    self.get_S()\n",
    "                print('output: ',out)\n",
    "                print('walked',self.walked,'\\n')\n",
    "                    \n",
    "            return out\n",
    "                \n",
    "                    "
   ]
  },
  {
   "cell_type": "code",
   "execution_count": 2,
   "metadata": {},
   "outputs": [],
   "source": [
    "g = Graph()\n",
    "g.addEdge(11,10)\n",
    "g.addEdge(10,9)\n",
    "g.addEdge(10,11)\n",
    "g.addEdge(10,6)\n",
    "g.addEdge(9,4)\n",
    "g.addEdge(9,7)\n",
    "g.addEdge(9,10)\n",
    "g.addEdge(6,10)\n",
    "g.addEdge(7,9)\n",
    "g.addEdge(7,4)\n",
    "g.addEdge(7,2)\n",
    "g.addEdge(7,5)\n",
    "g.addEdge(7,8)\n",
    "g.addEdge(8,7)\n",
    "g.addEdge(8,5)\n",
    "g.addEdge(8,2)\n",
    "g.addEdge(5,8)\n",
    "g.addEdge(5,7)\n",
    "g.addEdge(5,2)\n",
    "g.addEdge(5,12)\n",
    "g.addEdge(5,3)\n",
    "g.addEdge(2,3)\n",
    "g.addEdge(2,4)\n",
    "g.addEdge(2,7)\n",
    "g.addEdge(2,8)\n",
    "g.addEdge(2,5)\n",
    "g.addEdge(2,12)\n",
    "g.addEdge(4,1)\n",
    "g.addEdge(4,2)\n",
    "g.addEdge(4,7)\n",
    "g.addEdge(4,9)\n",
    "g.addEdge(3,1)\n",
    "g.addEdge(3,2)\n",
    "g.addEdge(3,5)\n",
    "g.addEdge(3,12)\n",
    "g.addEdge(1,3)\n",
    "g.addEdge(1,4)\n",
    "g.addEdge(12,3)\n",
    "g.addEdge(12,2)\n",
    "g.addEdge(12,5)"
   ]
  },
  {
   "cell_type": "code",
   "execution_count": 3,
   "metadata": {},
   "outputs": [
    {
     "name": "stdout",
     "output_type": "stream",
     "text": [
      "Stack:  []\n",
      "output:  [11]\n",
      "walked {11: True, 10: False, 9: False, 6: False, 7: False, 8: False, 5: False, 2: False, 4: False, 3: False, 1: False, 12: False} \n",
      "\n",
      "Stack:  [11, 10]\n",
      "output:  [11, 10, 6]\n",
      "walked {11: True, 10: True, 9: False, 6: True, 7: False, 8: False, 5: False, 2: False, 4: False, 3: False, 1: False, 12: False} \n",
      "\n",
      "Stack:  [11, 10, 6]\n",
      "output:  [11, 10, 6]\n",
      "walked {11: True, 10: True, 9: False, 6: True, 7: False, 8: False, 5: False, 2: False, 4: False, 3: False, 1: False, 12: False} \n",
      "\n",
      "Stack:  [11, 10]\n",
      "output:  [11, 10, 6, 9]\n",
      "walked {11: True, 10: True, 9: True, 6: True, 7: False, 8: False, 5: False, 2: False, 4: False, 3: False, 1: False, 12: False} \n",
      "\n",
      "Stack:  [11, 10, 9]\n",
      "output:  [11, 10, 6, 9, 7]\n",
      "walked {11: True, 10: True, 9: True, 6: True, 7: True, 8: False, 5: False, 2: False, 4: False, 3: False, 1: False, 12: False} \n",
      "\n",
      "Stack:  [11, 10, 9, 7]\n",
      "output:  [11, 10, 6, 9, 7, 8]\n",
      "walked {11: True, 10: True, 9: True, 6: True, 7: True, 8: True, 5: False, 2: False, 4: False, 3: False, 1: False, 12: False} \n",
      "\n",
      "Stack:  [11, 10, 9, 7, 8]\n",
      "output:  [11, 10, 6, 9, 7, 8, 2]\n",
      "walked {11: True, 10: True, 9: True, 6: True, 7: True, 8: True, 5: False, 2: True, 4: False, 3: False, 1: False, 12: False} \n",
      "\n",
      "Stack:  [11, 10, 9, 7, 8, 2]\n",
      "output:  [11, 10, 6, 9, 7, 8, 2, 12]\n",
      "walked {11: True, 10: True, 9: True, 6: True, 7: True, 8: True, 5: False, 2: True, 4: False, 3: False, 1: False, 12: True} \n",
      "\n",
      "Stack:  [11, 10, 9, 7, 8, 2, 12]\n",
      "output:  [11, 10, 6, 9, 7, 8, 2, 12, 5]\n",
      "walked {11: True, 10: True, 9: True, 6: True, 7: True, 8: True, 5: True, 2: True, 4: False, 3: False, 1: False, 12: True} \n",
      "\n",
      "Stack:  [11, 10, 9, 7, 8, 2, 12, 5]\n",
      "output:  [11, 10, 6, 9, 7, 8, 2, 12, 5, 3]\n",
      "walked {11: True, 10: True, 9: True, 6: True, 7: True, 8: True, 5: True, 2: True, 4: False, 3: True, 1: False, 12: True} \n",
      "\n",
      "Stack:  [11, 10, 9, 7, 8, 2, 12, 5, 3]\n",
      "output:  [11, 10, 6, 9, 7, 8, 2, 12, 5, 3, 1]\n",
      "walked {11: True, 10: True, 9: True, 6: True, 7: True, 8: True, 5: True, 2: True, 4: False, 3: True, 1: True, 12: True} \n",
      "\n",
      "Stack:  [11, 10, 9, 7, 8, 2, 12, 5, 3, 1]\n",
      "output:  [11, 10, 6, 9, 7, 8, 2, 12, 5, 3, 1, 4]\n",
      "walked {11: True, 10: True, 9: True, 6: True, 7: True, 8: True, 5: True, 2: True, 4: True, 3: True, 1: True, 12: True} \n",
      "\n"
     ]
    },
    {
     "data": {
      "text/plain": [
       "[11, 10, 6, 9, 7, 8, 2, 12, 5, 3, 1, 4]"
      ]
     },
     "execution_count": 3,
     "metadata": {},
     "output_type": "execute_result"
    }
   ],
   "source": [
    "g.DFS(11)"
   ]
  },
  {
   "cell_type": "markdown",
   "execution_count": null,
   "metadata": {},
   "outputs": [],
   "source": [
    "# 最後測試"
   ]
  },
  {
   "cell_type": "code",
   "execution_count": 2,
   "metadata": {},
   "outputs": [],
   "source": [
    "from collections import defaultdict \n",
    "\n",
    "class Graph:\n",
    "    def __init__(self): \n",
    "        self.graph = defaultdict(list) \n",
    "        self.Queue = []\n",
    "        self.Stack = []\n",
    "        self.walked = dict()\n",
    "\n",
    "    def addEdge(self,u,v): \n",
    "        self.graph[u].append(v) \n",
    "    \n",
    "    def print_adj_ls(self):\n",
    "        if self.graph == defaultdict(list):\n",
    "            print(\" No Node in graph !\")\n",
    "        else:\n",
    "            print(\"adjacency list:\")\n",
    "            for key,val in self.graph.items():\n",
    "                print(key, \":\", val)\n",
    "                \n",
    "    def get_Q(self):\n",
    "        if len(self.Queue) == 0:\n",
    "            print(\"no data in queue !\")\n",
    "        else:\n",
    "            item = self.Queue[0]\n",
    "            self.Queue = self.Queue[1:]\n",
    "            return item\n",
    "        \n",
    "    def put_Q(self, item):\n",
    "        self.Queue = self.Queue+[item]\n",
    "        \n",
    "    def get_S(self):\n",
    "        if len(self.Stack) == 0:\n",
    "            print(\"no data in stack !\")\n",
    "        else:\n",
    "            item = self.Stack[-1]\n",
    "            self.Stack = self.Stack[:-1]\n",
    "            return item\n",
    "        \n",
    "    def put_S(self, item):\n",
    "        self.Stack = self.Stack+[item]\n",
    "        \n",
    "    def BFS(self, s):\n",
    "        if len(self.graph.keys()) == 0:\n",
    "            print(\"no data in Graph !\")\n",
    "        elif s not in self.graph.keys():\n",
    "            print(\"start point isn't exist !\")\n",
    "        else:\n",
    "            out = [s]\n",
    "            print('output: ',out,'\\n')\n",
    "            for i in self.graph[s]:\n",
    "                self.put_Q(i)\n",
    "            while len(out) < len(self.graph.keys()):\n",
    "                print('Queue: ',self.Queue)\n",
    "                item = self.get_Q()\n",
    "                if item is not None:\n",
    "                    out.append(item)\n",
    "                    print('add: ',item)\n",
    "                    print('output: ',out,'\\n')\n",
    "                if (item is None) or (self.graph[item]==None):\n",
    "                    continue\n",
    "                for i in self.graph[item]:\n",
    "                    if (i not in self.Queue) and (i not in out):\n",
    "                        self.put_Q(i) \n",
    "            return out\n",
    "        \n",
    "    def DFS(self, s):\n",
    "        if len(self.graph.keys()) == 0:\n",
    "            print(\"no data in Graph !\")\n",
    "        elif s not in self.graph.keys():\n",
    "            print(\"start point isn't exist !\")\n",
    "        else:\n",
    "            print('Stack: ',self.Stack)\n",
    "            for node in self.graph.keys():\n",
    "                self.walked[node]=False\n",
    "            out = [s] \n",
    "            self.walked[s] = True\n",
    "            self.put_S(s)\n",
    "            print('output: ',out)\n",
    "            print('walked',self.walked,'\\n')\n",
    "\n",
    "            while len(out) < len(self.graph.keys()):\n",
    "                print('Stack: ',self.Stack)\n",
    "                item = self.Stack[-1]\n",
    "                route = [i for i in self.graph[item] if self.walked[i] is False]\n",
    "                if route:\n",
    "                    self.walked[route[-1]] = True\n",
    "                    self.put_S(route[-1])\n",
    "                    out.append(route[-1])\n",
    "                else:\n",
    "                    self.get_S()\n",
    "                print('output: ',out)\n",
    "                print('walked',self.walked,'\\n')\n",
    "                    \n",
    "            return out\n",
    "                \n",
    "                    "
   ]
  },
  {
   "cell_type": "code",
   "execution_count": 2,
   "metadata": {},
   "outputs": [],
   "source": [
    "g = Graph()\n",
    "g.addEdge(11,10)\n",
    "g.addEdge(10,9)\n",
    "g.addEdge(10,11)\n",
    "g.addEdge(10,6)\n",
    "g.addEdge(9,4)\n",
    "g.addEdge(9,7)\n",
    "g.addEdge(9,10)\n",
    "g.addEdge(6,10)\n",
    "g.addEdge(7,9)\n",
    "g.addEdge(7,4)\n",
    "g.addEdge(7,2)\n",
    "g.addEdge(7,5)\n",
    "g.addEdge(7,8)\n",
    "g.addEdge(8,7)\n",
    "g.addEdge(8,5)\n",
    "g.addEdge(8,2)\n",
    "g.addEdge(5,8)\n",
    "g.addEdge(5,7)\n",
    "g.addEdge(5,2)\n",
    "g.addEdge(5,12)\n",
    "g.addEdge(5,3)\n",
    "g.addEdge(2,3)\n",
    "g.addEdge(2,4)\n",
    "g.addEdge(2,7)\n",
    "g.addEdge(2,8)\n",
    "g.addEdge(2,5)\n",
    "g.addEdge(2,12)\n",
    "g.addEdge(4,1)\n",
    "g.addEdge(4,2)\n",
    "g.addEdge(4,7)\n",
    "g.addEdge(4,9)\n",
    "g.addEdge(3,1)\n",
    "g.addEdge(3,2)\n",
    "g.addEdge(3,5)\n",
    "g.addEdge(3,12)\n",
    "g.addEdge(1,3)\n",
    "g.addEdge(1,4)\n",
    "g.addEdge(12,3)\n",
    "g.addEdge(12,2)\n",
    "g.addEdge(12,5)"
   ]
  },
  {
   "cell_type": "code",
   "execution_count": 3,
   "metadata": {},
   "outputs": [
    {
     "name": "stdout",
     "output_type": "stream",
     "text": "Stack:  []\noutput:  [11]\nwalked {11: True, 10: False, 9: False, 6: False, 7: False, 8: False, 5: False, 2: False, 4: False, 3: False, 1: False, 12: False} \n\nStack:  [11]\noutput:  [11, 10]\nwalked {11: True, 10: True, 9: False, 6: False, 7: False, 8: False, 5: False, 2: False, 4: False, 3: False, 1: False, 12: False} \n\nStack:  [11, 10]\noutput:  [11, 10, 6]\nwalked {11: True, 10: True, 9: False, 6: True, 7: False, 8: False, 5: False, 2: False, 4: False, 3: False, 1: False, 12: False} \n\nStack:  [11, 10, 6]\noutput:  [11, 10, 6]\nwalked {11: True, 10: True, 9: False, 6: True, 7: False, 8: False, 5: False, 2: False, 4: False, 3: False, 1: False, 12: False} \n\nStack:  [11, 10]\noutput:  [11, 10, 6, 9]\nwalked {11: True, 10: True, 9: True, 6: True, 7: False, 8: False, 5: False, 2: False, 4: False, 3: False, 1: False, 12: False} \n\nStack:  [11, 10, 9]\noutput:  [11, 10, 6, 9, 7]\nwalked {11: True, 10: True, 9: True, 6: True, 7: True, 8: False, 5: False, 2: False, 4: False, 3: False, 1: False, 12: False} \n\nStack:  [11, 10, 9, 7]\noutput:  [11, 10, 6, 9, 7, 8]\nwalked {11: True, 10: True, 9: True, 6: True, 7: True, 8: True, 5: False, 2: False, 4: False, 3: False, 1: False, 12: False} \n\nStack:  [11, 10, 9, 7, 8]\noutput:  [11, 10, 6, 9, 7, 8, 2]\nwalked {11: True, 10: True, 9: True, 6: True, 7: True, 8: True, 5: False, 2: True, 4: False, 3: False, 1: False, 12: False} \n\nStack:  [11, 10, 9, 7, 8, 2]\noutput:  [11, 10, 6, 9, 7, 8, 2, 12]\nwalked {11: True, 10: True, 9: True, 6: True, 7: True, 8: True, 5: False, 2: True, 4: False, 3: False, 1: False, 12: True} \n\nStack:  [11, 10, 9, 7, 8, 2, 12]\noutput:  [11, 10, 6, 9, 7, 8, 2, 12, 5]\nwalked {11: True, 10: True, 9: True, 6: True, 7: True, 8: True, 5: True, 2: True, 4: False, 3: False, 1: False, 12: True} \n\nStack:  [11, 10, 9, 7, 8, 2, 12, 5]\noutput:  [11, 10, 6, 9, 7, 8, 2, 12, 5, 3]\nwalked {11: True, 10: True, 9: True, 6: True, 7: True, 8: True, 5: True, 2: True, 4: False, 3: True, 1: False, 12: True} \n\nStack:  [11, 10, 9, 7, 8, 2, 12, 5, 3]\noutput:  [11, 10, 6, 9, 7, 8, 2, 12, 5, 3, 1]\nwalked {11: True, 10: True, 9: True, 6: True, 7: True, 8: True, 5: True, 2: True, 4: False, 3: True, 1: True, 12: True} \n\nStack:  [11, 10, 9, 7, 8, 2, 12, 5, 3, 1]\noutput:  [11, 10, 6, 9, 7, 8, 2, 12, 5, 3, 1, 4]\nwalked {11: True, 10: True, 9: True, 6: True, 7: True, 8: True, 5: True, 2: True, 4: True, 3: True, 1: True, 12: True} \n\n"
    },
    {
     "data": {
      "text/plain": "[11, 10, 6, 9, 7, 8, 2, 12, 5, 3, 1, 4]"
     },
     "execution_count": 3,
     "metadata": {},
     "output_type": "execute_result"
    }
   ],
   "source": [
    "g.DFS(11)"
   ]
  },
  {
   "cell_type": "code",
   "execution_count": 4,
   "metadata": {},
   "outputs": [
    {
     "name": "stdout",
     "output_type": "stream",
     "text": "output:  [11] \n\nQueue:  [10]\nadd:  10\noutput:  [11, 10] \n\nQueue:  [9, 6]\nadd:  9\noutput:  [11, 10, 9] \n\nQueue:  [6, 4, 7]\nadd:  6\noutput:  [11, 10, 9, 6] \n\nQueue:  [4, 7]\nadd:  4\noutput:  [11, 10, 9, 6, 4] \n\nQueue:  [7, 1, 2]\nadd:  7\noutput:  [11, 10, 9, 6, 4, 7] \n\nQueue:  [1, 2, 5, 8]\nadd:  1\noutput:  [11, 10, 9, 6, 4, 7, 1] \n\nQueue:  [2, 5, 8, 3]\nadd:  2\noutput:  [11, 10, 9, 6, 4, 7, 1, 2] \n\nQueue:  [5, 8, 3, 12]\nadd:  5\noutput:  [11, 10, 9, 6, 4, 7, 1, 2, 5] \n\nQueue:  [8, 3, 12]\nadd:  8\noutput:  [11, 10, 9, 6, 4, 7, 1, 2, 5, 8] \n\nQueue:  [3, 12]\nadd:  3\noutput:  [11, 10, 9, 6, 4, 7, 1, 2, 5, 8, 3] \n\nQueue:  [12]\nadd:  12\noutput:  [11, 10, 9, 6, 4, 7, 1, 2, 5, 8, 3, 12] \n\n"
    },
    {
     "data": {
      "text/plain": "[11, 10, 9, 6, 4, 7, 1, 2, 5, 8, 3, 12]"
     },
     "execution_count": 4,
     "metadata": {},
     "output_type": "execute_result"
    }
   ],
   "source": [
    "g.BFS(11)"
   ]
  },
  {
   "cell_type": "code",
   "execution_count": 56,
   "metadata": {},
   "outputs": [
    {
     "name": "stdout",
     "output_type": "stream",
     "text": "adjacency list:\n11 : [10]\n10 : [9, 11, 6]\n9 : [4, 7, 10]\n6 : [10]\n7 : [9, 4, 2, 5, 8]\n8 : [7, 5, 2]\n5 : [8, 7, 2, 12, 3]\n2 : [3, 4, 7, 8, 5, 12]\n4 : [1, 2, 7, 9]\n3 : [1, 2, 5, 12]\n1 : [3, 4]\n12 : [3, 2, 5]\n"
    }
   ],
   "source": [
    "g.print_adj_ls()"
   ]
  },
  {
   "cell_type": "code",
   "execution_count": 57,
   "metadata": {},
   "outputs": [],
   "source": [
    "g = Graph()\n",
    "g.addEdge('A','D')\n",
    "g.addEdge('B','E')\n",
    "g.addEdge('B','F')\n",
    "g.addEdge(\"D\",'B')\n",
    "g.addEdge('D','F')\n",
    "g.addEdge('E','A')\n"
   ]
  },
  {
   "cell_type": "code",
   "execution_count": 58,
   "metadata": {},
   "outputs": [
    {
     "name": "stdout",
     "output_type": "stream",
     "text": "output:  ['A'] \n\nQueue:  ['D']\nadd:  D\noutput:  ['A', 'D'] \n\nQueue:  ['B', 'F']\nadd:  B\noutput:  ['A', 'D', 'B'] \n\nQueue:  ['F', 'E']\nadd:  F\noutput:  ['A', 'D', 'B', 'F'] \n\nQueue:  ['E']\nadd:  E\noutput:  ['A', 'D', 'B', 'F', 'E'] \n\n"
    },
    {
     "data": {
      "text/plain": "['A', 'D', 'B', 'F', 'E']"
     },
     "execution_count": 58,
     "metadata": {},
     "output_type": "execute_result"
    }
   ],
   "source": [
    "g.BFS('A')"
   ]
  },
  {
   "cell_type": "code",
   "execution_count": 59,
   "metadata": {},
   "outputs": [
    {
     "name": "stdout",
     "output_type": "stream",
     "text": "Stack:  []\noutput:  ['A']\nwalked {'A': True, 'B': False, 'D': False, 'E': False, 'F': False} \n\nStack:  ['A']\noutput:  ['A', 'D']\nwalked {'A': True, 'B': False, 'D': True, 'E': False, 'F': False} \n\nStack:  ['A', 'D']\noutput:  ['A', 'D', 'F']\nwalked {'A': True, 'B': False, 'D': True, 'E': False, 'F': True} \n\nStack:  ['A', 'D', 'F']\noutput:  ['A', 'D', 'F']\nwalked {'A': True, 'B': False, 'D': True, 'E': False, 'F': True} \n\nStack:  ['A', 'D']\noutput:  ['A', 'D', 'F', 'B']\nwalked {'A': True, 'B': True, 'D': True, 'E': False, 'F': True} \n\nStack:  ['A', 'D', 'B']\noutput:  ['A', 'D', 'F', 'B', 'E']\nwalked {'A': True, 'B': True, 'D': True, 'E': True, 'F': True} \n\n"
    },
    {
     "data": {
      "text/plain": "['A', 'D', 'F', 'B', 'E']"
     },
     "execution_count": 59,
     "metadata": {},
     "output_type": "execute_result"
    }
   ],
   "source": [
    "g.DFS('A')"
   ]
  },
  {
   "cell_type": "code",
   "execution_count": 60,
   "metadata": {},
   "outputs": [],
   "source": [
    "g = Graph()\n",
    "g.addEdge(0,2)\n",
    "g.addEdge(0,1)\n",
    "g.addEdge(1,2)\n",
    "g.addEdge(1,3)\n",
    "g.addEdge(2,3)\n",
    "g.addEdge(3,4)\n",
    "g.addEdge(4,0)\n",
    "g.addEdge(4,5)\n",
    "g.addEdge(5,4)\n"
   ]
  },
  {
   "cell_type": "code",
   "execution_count": 61,
   "metadata": {},
   "outputs": [
    {
     "name": "stdout",
     "output_type": "stream",
     "text": "adjacency list:\n0 : [2, 1]\n1 : [2, 3]\n2 : [3]\n3 : [4]\n4 : [0, 5]\n5 : [4]\n"
    }
   ],
   "source": [
    "g.print_adj_ls()"
   ]
  },
  {
   "cell_type": "code",
   "execution_count": 62,
   "metadata": {},
   "outputs": [
    {
     "name": "stdout",
     "output_type": "stream",
     "text": "Stack:  []\noutput:  [0]\nwalked {0: True, 1: False, 2: False, 3: False, 4: False, 5: False} \n\nStack:  [0]\noutput:  [0, 1]\nwalked {0: True, 1: True, 2: False, 3: False, 4: False, 5: False} \n\nStack:  [0, 1]\noutput:  [0, 1, 3]\nwalked {0: True, 1: True, 2: False, 3: True, 4: False, 5: False} \n\nStack:  [0, 1, 3]\noutput:  [0, 1, 3, 4]\nwalked {0: True, 1: True, 2: False, 3: True, 4: True, 5: False} \n\nStack:  [0, 1, 3, 4]\noutput:  [0, 1, 3, 4, 5]\nwalked {0: True, 1: True, 2: False, 3: True, 4: True, 5: True} \n\nStack:  [0, 1, 3, 4, 5]\noutput:  [0, 1, 3, 4, 5]\nwalked {0: True, 1: True, 2: False, 3: True, 4: True, 5: True} \n\nStack:  [0, 1, 3, 4]\noutput:  [0, 1, 3, 4, 5]\nwalked {0: True, 1: True, 2: False, 3: True, 4: True, 5: True} \n\nStack:  [0, 1, 3]\noutput:  [0, 1, 3, 4, 5]\nwalked {0: True, 1: True, 2: False, 3: True, 4: True, 5: True} \n\nStack:  [0, 1]\noutput:  [0, 1, 3, 4, 5, 2]\nwalked {0: True, 1: True, 2: True, 3: True, 4: True, 5: True} \n\n"
    },
    {
     "data": {
      "text/plain": "[0, 1, 3, 4, 5, 2]"
     },
     "execution_count": 62,
     "metadata": {},
     "output_type": "execute_result"
    }
   ],
   "source": [
    "g.DFS(0)"
   ]
  },
  {
   "cell_type": "code",
   "execution_count": 63,
   "metadata": {},
   "outputs": [
    {
     "name": "stdout",
     "output_type": "stream",
     "text": "output:  [0] \n\nQueue:  [2, 1]\nadd:  2\noutput:  [0, 2] \n\nQueue:  [1, 3]\nadd:  1\noutput:  [0, 2, 1] \n\nQueue:  [3]\nadd:  3\noutput:  [0, 2, 1, 3] \n\nQueue:  [4]\nadd:  4\noutput:  [0, 2, 1, 3, 4] \n\nQueue:  [5]\nadd:  5\noutput:  [0, 2, 1, 3, 4, 5] \n\n"
    },
    {
     "data": {
      "text/plain": "[0, 2, 1, 3, 4, 5]"
     },
     "execution_count": 63,
     "metadata": {},
     "output_type": "execute_result"
    }
   ],
   "source": [
    "g.BFS(0)"
   ]
  },
  {
   "cell_type": "code",
   "execution_count": 64,
   "metadata": {},
   "outputs": [
    {
     "name": "stdout",
     "output_type": "stream",
     "text": "Stack:  []\noutput:  ['I']\nwalked {'A': False, 'B': False, 'C': False, 'D': False, 'E': False, 'F': False, 'G': False, 'H': False, 'I': True} \n\nStack:  ['I']\noutput:  ['I', 'G']\nwalked {'A': False, 'B': False, 'C': False, 'D': False, 'E': False, 'F': False, 'G': True, 'H': False, 'I': True} \n\nStack:  ['I', 'G']\noutput:  ['I', 'G', 'H']\nwalked {'A': False, 'B': False, 'C': False, 'D': False, 'E': False, 'F': False, 'G': True, 'H': True, 'I': True} \n\nStack:  ['I', 'G', 'H']\noutput:  ['I', 'G', 'H', 'D']\nwalked {'A': False, 'B': False, 'C': False, 'D': True, 'E': False, 'F': False, 'G': True, 'H': True, 'I': True} \n\nStack:  ['I', 'G', 'H', 'D']\noutput:  ['I', 'G', 'H', 'D', 'A']\nwalked {'A': True, 'B': False, 'C': False, 'D': True, 'E': False, 'F': False, 'G': True, 'H': True, 'I': True} \n\nStack:  ['I', 'G', 'H', 'D', 'A']\noutput:  ['I', 'G', 'H', 'D', 'A', 'C']\nwalked {'A': True, 'B': False, 'C': True, 'D': True, 'E': False, 'F': False, 'G': True, 'H': True, 'I': True} \n\nStack:  ['I', 'G', 'H', 'D', 'A', 'C']\noutput:  ['I', 'G', 'H', 'D', 'A', 'C', 'F']\nwalked {'A': True, 'B': False, 'C': True, 'D': True, 'E': False, 'F': True, 'G': True, 'H': True, 'I': True} \n\nStack:  ['I', 'G', 'H', 'D', 'A', 'C', 'F']\noutput:  ['I', 'G', 'H', 'D', 'A', 'C', 'F', 'E']\nwalked {'A': True, 'B': False, 'C': True, 'D': True, 'E': True, 'F': True, 'G': True, 'H': True, 'I': True} \n\nStack:  ['I', 'G', 'H', 'D', 'A', 'C', 'F', 'E']\noutput:  ['I', 'G', 'H', 'D', 'A', 'C', 'F', 'E', 'B']\nwalked {'A': True, 'B': True, 'C': True, 'D': True, 'E': True, 'F': True, 'G': True, 'H': True, 'I': True} \n\n['I', 'G', 'H', 'D', 'A', 'C', 'F', 'E', 'B']\n"
    }
   ],
   "source": [
    "g = Graph()\n",
    "g.addEdge(\"A\",\"B\")\n",
    "g.addEdge(\"A\",\"C\")\n",
    "g.addEdge(\"A\",\"D\")\n",
    "g.addEdge(\"B\",\"A\")\n",
    "g.addEdge(\"B\",\"E\")\n",
    "g.addEdge(\"C\",\"A\")\n",
    "g.addEdge(\"C\",\"E\")\n",
    "g.addEdge(\"C\",\"F\")\n",
    "g.addEdge(\"C\",\"G\")\n",
    "g.addEdge(\"C\",\"H\")\n",
    "g.addEdge(\"D\",\"A\")\n",
    "g.addEdge(\"D\",\"H\")\n",
    "g.addEdge(\"E\",\"B\")\n",
    "g.addEdge(\"E\",\"C\")\n",
    "g.addEdge(\"E\",\"F\")\n",
    "g.addEdge(\"F\",\"C\")\n",
    "g.addEdge(\"F\",\"E\")\n",
    "g.addEdge(\"F\",\"I\")\n",
    "g.addEdge(\"G\",\"C\")\n",
    "g.addEdge(\"G\",\"H\")\n",
    "g.addEdge(\"G\",\"I\")\n",
    "g.addEdge(\"H\",\"C\")\n",
    "g.addEdge(\"H\",\"D\")\n",
    "g.addEdge(\"H\",\"G\")\n",
    "g.addEdge(\"I\",\"F\")\n",
    "g.addEdge(\"I\",\"G\")\n",
    "print(g.DFS(\"I\"))"
   ]
  },
  {
   "cell_type": "code",
   "execution_count": 65,
   "metadata": {},
   "outputs": [
    {
     "name": "stdout",
     "output_type": "stream",
     "text": "output:  ['I'] \n\nQueue:  ['F', 'G']\nadd:  F\noutput:  ['I', 'F'] \n\nQueue:  ['G', 'C', 'E']\nadd:  G\noutput:  ['I', 'F', 'G'] \n\nQueue:  ['C', 'E', 'H']\nadd:  C\noutput:  ['I', 'F', 'G', 'C'] \n\nQueue:  ['E', 'H', 'A']\nadd:  E\noutput:  ['I', 'F', 'G', 'C', 'E'] \n\nQueue:  ['H', 'A', 'B']\nadd:  H\noutput:  ['I', 'F', 'G', 'C', 'E', 'H'] \n\nQueue:  ['A', 'B', 'D']\nadd:  A\noutput:  ['I', 'F', 'G', 'C', 'E', 'H', 'A'] \n\nQueue:  ['B', 'D']\nadd:  B\noutput:  ['I', 'F', 'G', 'C', 'E', 'H', 'A', 'B'] \n\nQueue:  ['D']\nadd:  D\noutput:  ['I', 'F', 'G', 'C', 'E', 'H', 'A', 'B', 'D'] \n\n['I', 'F', 'G', 'C', 'E', 'H', 'A', 'B', 'D']\n"
    }
   ],
   "source": [
    "print(g.BFS(\"I\"))"
   ]
  },
  {
   "cell_type": "code",
   "execution_count": 3,
   "metadata": {},
   "outputs": [
    {
     "name": "stdout",
     "output_type": "stream",
     "text": "Stack:  []\noutput:  ['I']\nwalked {'A': False, 'B': False, 'C': False, 'D': False, 'E': False, 'F': False, 'G': False, 'H': False, 'I': True} \n\nStack:  ['I']\noutput:  ['I', 'G']\nwalked {'A': False, 'B': False, 'C': False, 'D': False, 'E': False, 'F': False, 'G': True, 'H': False, 'I': True} \n\nStack:  ['I', 'G']\noutput:  ['I', 'G', 'H']\nwalked {'A': False, 'B': False, 'C': False, 'D': False, 'E': False, 'F': False, 'G': True, 'H': True, 'I': True} \n\nStack:  ['I', 'G', 'H']\noutput:  ['I', 'G', 'H', 'D']\nwalked {'A': False, 'B': False, 'C': False, 'D': True, 'E': False, 'F': False, 'G': True, 'H': True, 'I': True} \n\nStack:  ['I', 'G', 'H', 'D']\noutput:  ['I', 'G', 'H', 'D', 'A']\nwalked {'A': True, 'B': False, 'C': False, 'D': True, 'E': False, 'F': False, 'G': True, 'H': True, 'I': True} \n\nStack:  ['I', 'G', 'H', 'D', 'A']\noutput:  ['I', 'G', 'H', 'D', 'A', 'C']\nwalked {'A': True, 'B': False, 'C': True, 'D': True, 'E': False, 'F': False, 'G': True, 'H': True, 'I': True} \n\nStack:  ['I', 'G', 'H', 'D', 'A', 'C']\noutput:  ['I', 'G', 'H', 'D', 'A', 'C', 'F']\nwalked {'A': True, 'B': False, 'C': True, 'D': True, 'E': False, 'F': True, 'G': True, 'H': True, 'I': True} \n\nStack:  ['I', 'G', 'H', 'D', 'A', 'C', 'F']\noutput:  ['I', 'G', 'H', 'D', 'A', 'C', 'F', 'E']\nwalked {'A': True, 'B': False, 'C': True, 'D': True, 'E': True, 'F': True, 'G': True, 'H': True, 'I': True} \n\nStack:  ['I', 'G', 'H', 'D', 'A', 'C', 'F', 'E']\noutput:  ['I', 'G', 'H', 'D', 'A', 'C', 'F', 'E', 'B']\nwalked {'A': True, 'B': True, 'C': True, 'D': True, 'E': True, 'F': True, 'G': True, 'H': True, 'I': True} \n\n['I', 'G', 'H', 'D', 'A', 'C', 'F', 'E', 'B']\n"
    }
   ],
   "source": [
    "g = Graph()\n",
    "g.addEdge(\"A\",\"B\")\n",
    "g.addEdge(\"A\",\"C\")\n",
    "g.addEdge(\"A\",\"D\")\n",
    "g.addEdge(\"B\",\"A\")\n",
    "g.addEdge(\"B\",\"E\")\n",
    "g.addEdge(\"C\",\"A\")\n",
    "g.addEdge(\"C\",\"E\")\n",
    "g.addEdge(\"C\",\"F\")\n",
    "g.addEdge(\"C\",\"G\")\n",
    "g.addEdge(\"C\",\"H\")\n",
    "g.addEdge(\"D\",\"A\")\n",
    "g.addEdge(\"D\",\"H\")\n",
    "g.addEdge(\"E\",\"B\")\n",
    "g.addEdge(\"E\",\"C\")\n",
    "g.addEdge(\"E\",\"F\")\n",
    "g.addEdge(\"F\",\"C\")\n",
    "g.addEdge(\"F\",\"E\")\n",
    "g.addEdge(\"F\",\"I\")\n",
    "g.addEdge(\"G\",\"C\")\n",
    "g.addEdge(\"G\",\"H\")\n",
    "g.addEdge(\"G\",\"I\")\n",
    "g.addEdge(\"H\",\"C\")\n",
    "g.addEdge(\"H\",\"D\")\n",
    "g.addEdge(\"H\",\"G\")\n",
    "g.addEdge(\"I\",\"F\")\n",
    "g.addEdge(\"I\",\"G\")\n",
    "print(g.DFS(\"I\"))"
   ]
  },
  {
   "cell_type": "code",
   "execution_count": 4,
   "metadata": {},
   "outputs": [
    {
     "name": "stdout",
     "output_type": "stream",
     "text": "adjacency list:\nA : ['B', 'C', 'D']\nB : ['A', 'E']\nC : ['A', 'E', 'F', 'G', 'H']\nD : ['A', 'H']\nE : ['B', 'C', 'F']\nF : ['C', 'E', 'I']\nG : ['C', 'H', 'I']\nH : ['C', 'D', 'G']\nI : ['F', 'G']\n"
    }
   ],
   "source": [
    "g.print_adj_ls()"
   ]
  },
  {
   "cell_type": "markdown",
   "execution_count": 1,
   "metadata": {},
   "outputs": [
    {
     "ename": "SyntaxError",
     "evalue": "invalid syntax (<ipython-input-1-34d56b9896de>, line 2)",
     "output_type": "error",
     "traceback": [
      "\u001b[1;36m  File \u001b[1;32m\"<ipython-input-1-34d56b9896de>\"\u001b[1;36m, line \u001b[1;32m2\u001b[0m\n\u001b[1;33m    我原本的方式是依造 adj lisㄔ\u001b[0m\n\u001b[1;37m                ^\u001b[0m\n\u001b[1;31mSyntaxError\u001b[0m\u001b[1;31m:\u001b[0m invalid syntax\n"
     ]
    }
   ],
   "source": [
    "# 將DFS改成老師要求的模式\n",
    "我原本的方式是依造 adj list 的尾吧為基準，但是老師的方式它是先看到的會記錄著，後面就不看，我的方式是走過的才不看。"
   ]
  },
  {
   "cell_type": "code",
   "execution_count": 80,
   "metadata": {},
   "outputs": [],
   "source": [
    "from collections import defaultdict \n",
    "\n",
    "class Graph:\n",
    "    def __init__(self): \n",
    "        self.graph = defaultdict(list) \n",
    "        self.Queue = []\n",
    "        self.Stack = []\n",
    "\n",
    "    def addEdge(self,u,v): \n",
    "        self.graph[u].append(v) \n",
    "    \n",
    "    def print_adj_ls(self):\n",
    "        if self.graph == defaultdict(list):\n",
    "            print(\" No Node in graph !\")\n",
    "        else:\n",
    "            print(\"adjacency list:\")\n",
    "            for key,val in self.graph.items():\n",
    "                print(key, \":\", val)\n",
    "                \n",
    "    def get_Q(self):\n",
    "        if len(self.Queue) == 0:\n",
    "            print(\"no data in queue !\")\n",
    "        else:\n",
    "            item = self.Queue[0]\n",
    "            self.Queue = self.Queue[1:]\n",
    "            return item\n",
    "        \n",
    "    def put_Q(self, item):\n",
    "        self.Queue = self.Queue+[item]\n",
    "        \n",
    "    def get_S(self):\n",
    "        if len(self.Stack) == 0:\n",
    "            print(\"no data in stack !\")\n",
    "        else:\n",
    "            item = self.Stack[-1]\n",
    "            self.Stack = self.Stack[:-1]\n",
    "            return item\n",
    "        \n",
    "    def put_S(self, item):\n",
    "        self.Stack = self.Stack+[item]\n",
    "        \n",
    "    def BFS(self, s):\n",
    "        if len(self.graph.keys()) == 0:\n",
    "            print(\"no data in Graph !\")\n",
    "        elif s not in self.graph.keys():\n",
    "            print(\"start point isn't exist !\")\n",
    "        else:\n",
    "            out = [s]\n",
    "            print('output: ',out,'\\n')\n",
    "            for i in self.graph[s]:\n",
    "                self.put_Q(i)\n",
    "            while len(out) < len(self.graph.keys()):\n",
    "                print('Queue: ',self.Queue)\n",
    "                item = self.get_Q()\n",
    "                if item is not None:\n",
    "                    out.append(item)\n",
    "                    print('add: ',item)\n",
    "                    print('output: ',out,'\\n')\n",
    "                if (item is None) or (self.graph[item]==None):\n",
    "                    continue\n",
    "                for i in self.graph[item]:\n",
    "                    if (i not in self.Queue) and (i not in out):\n",
    "                        self.put_Q(i) \n",
    "            return out\n",
    "        \n",
    "    def DFS(self, s):\n",
    "        if len(self.graph.keys()) == 0:\n",
    "            print(\"no data in Graph !\")\n",
    "        elif s not in self.graph.keys():\n",
    "            print(\"start point isn't exist !\")\n",
    "        else:\n",
    "            self.put_S(s)\n",
    "            out=[]\n",
    "            while self.Stack:\n",
    "                print('Stack: ',self.Stack)\n",
    "                item = self.Stack[-1]\n",
    "                if item not in out:\n",
    "                    out.append(item)\n",
    "                    for i in self.graph[item]:\n",
    "                        if (i not in out)&(i not in self.Stack):\n",
    "                            self.put_S(i)\n",
    "                else:\n",
    "                    self.get_S()\n",
    "                print('output: ',out,'\\n')\n",
    "                    \n",
    "            return out\n",
    "                \n",
    "                    \n",
    "                    "
   ]
  },
  {
   "cell_type": "code",
   "execution_count": 81,
   "metadata": {},
   "outputs": [
    {
     "name": "stdout",
     "output_type": "stream",
     "text": "Stack:  [11]\noutput:  [11] \n\nStack:  [11, 10]\noutput:  [11, 10] \n\nStack:  [11, 10, 9, 6]\noutput:  [11, 10, 6] \n\nStack:  [11, 10, 9, 6]\noutput:  [11, 10, 6] \n\nStack:  [11, 10, 9]\noutput:  [11, 10, 6, 9] \n\nStack:  [11, 10, 9, 4, 7]\noutput:  [11, 10, 6, 9, 7] \n\nStack:  [11, 10, 9, 4, 7, 2, 5, 8]\noutput:  [11, 10, 6, 9, 7, 8] \n\nStack:  [11, 10, 9, 4, 7, 2, 5, 8]\noutput:  [11, 10, 6, 9, 7, 8] \n\nStack:  [11, 10, 9, 4, 7, 2, 5]\noutput:  [11, 10, 6, 9, 7, 8, 5] \n\nStack:  [11, 10, 9, 4, 7, 2, 5, 12, 3]\noutput:  [11, 10, 6, 9, 7, 8, 5, 3] \n\nStack:  [11, 10, 9, 4, 7, 2, 5, 12, 3, 1]\noutput:  [11, 10, 6, 9, 7, 8, 5, 3, 1] \n\nStack:  [11, 10, 9, 4, 7, 2, 5, 12, 3, 1]\noutput:  [11, 10, 6, 9, 7, 8, 5, 3, 1] \n\nStack:  [11, 10, 9, 4, 7, 2, 5, 12, 3]\noutput:  [11, 10, 6, 9, 7, 8, 5, 3, 1] \n\nStack:  [11, 10, 9, 4, 7, 2, 5, 12]\noutput:  [11, 10, 6, 9, 7, 8, 5, 3, 1, 12] \n\nStack:  [11, 10, 9, 4, 7, 2, 5, 12]\noutput:  [11, 10, 6, 9, 7, 8, 5, 3, 1, 12] \n\nStack:  [11, 10, 9, 4, 7, 2, 5]\noutput:  [11, 10, 6, 9, 7, 8, 5, 3, 1, 12] \n\nStack:  [11, 10, 9, 4, 7, 2]\noutput:  [11, 10, 6, 9, 7, 8, 5, 3, 1, 12, 2] \n\nStack:  [11, 10, 9, 4, 7, 2]\noutput:  [11, 10, 6, 9, 7, 8, 5, 3, 1, 12, 2] \n\nStack:  [11, 10, 9, 4, 7]\noutput:  [11, 10, 6, 9, 7, 8, 5, 3, 1, 12, 2] \n\nStack:  [11, 10, 9, 4]\noutput:  [11, 10, 6, 9, 7, 8, 5, 3, 1, 12, 2, 4] \n\nStack:  [11, 10, 9, 4]\noutput:  [11, 10, 6, 9, 7, 8, 5, 3, 1, 12, 2, 4] \n\nStack:  [11, 10, 9]\noutput:  [11, 10, 6, 9, 7, 8, 5, 3, 1, 12, 2, 4] \n\nStack:  [11, 10]\noutput:  [11, 10, 6, 9, 7, 8, 5, 3, 1, 12, 2, 4] \n\nStack:  [11]\noutput:  [11, 10, 6, 9, 7, 8, 5, 3, 1, 12, 2, 4] \n\n[11, 10, 6, 9, 7, 8, 5, 3, 1, 12, 2, 4]\n"
    }
   ],
   "source": [
    "g = Graph()\n",
    "g.addEdge(11,10)\n",
    "g.addEdge(10,9)\n",
    "g.addEdge(10,11)\n",
    "g.addEdge(10,6)\n",
    "g.addEdge(9,4)\n",
    "g.addEdge(9,7)\n",
    "g.addEdge(9,10)\n",
    "g.addEdge(6,10)\n",
    "g.addEdge(7,9)\n",
    "g.addEdge(7,4)\n",
    "g.addEdge(7,2)\n",
    "g.addEdge(7,5)\n",
    "g.addEdge(7,8)\n",
    "g.addEdge(8,7)\n",
    "g.addEdge(8,5)\n",
    "g.addEdge(8,2)\n",
    "g.addEdge(5,8)\n",
    "g.addEdge(5,7)\n",
    "g.addEdge(5,2)\n",
    "g.addEdge(5,12)\n",
    "g.addEdge(5,3)\n",
    "g.addEdge(2,3)\n",
    "g.addEdge(2,4)\n",
    "g.addEdge(2,7)\n",
    "g.addEdge(2,8)\n",
    "g.addEdge(2,5)\n",
    "g.addEdge(2,12)\n",
    "g.addEdge(4,1)\n",
    "g.addEdge(4,2)\n",
    "g.addEdge(4,7)\n",
    "g.addEdge(4,9)\n",
    "g.addEdge(3,1)\n",
    "g.addEdge(3,2)\n",
    "g.addEdge(3,5)\n",
    "g.addEdge(3,12)\n",
    "g.addEdge(1,3)\n",
    "g.addEdge(1,4)\n",
    "g.addEdge(12,3)\n",
    "g.addEdge(12,2)\n",
    "g.addEdge(12,5)\n",
    "print(g.DFS(11))"
   ]
  },
  {
   "cell_type": "code",
   "execution_count": null,
   "metadata": {},
   "outputs": [],
   "source": [
    "print(g.BFS(11))"
   ]
  },
  {
   "cell_type": "code",
   "execution_count": null,
   "metadata": {},
   "outputs": [],
   "source": []
  }
 ],
 "metadata": {
  "kernelspec": {
   "display_name": "Python 3",
   "language": "python",
   "name": "python3"
  },
  "language_info": {
   "codemirror_mode": {
    "name": "ipython",
    "version": 3
   },
   "file_extension": ".py",
   "mimetype": "text/x-python",
   "name": "python",
   "nbconvert_exporter": "python",
   "pygments_lexer": "ipython3",
   "version": "3.7.4"
  }
 },
 "nbformat": 4,
 "nbformat_minor": 2
}
